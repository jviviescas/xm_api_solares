{
 "cells": [
  {
   "cell_type": "code",
   "execution_count": 92,
   "metadata": {},
   "outputs": [],
   "source": [
    "import pandas as pd\n",
    "import plotly.graph_objects as go\n",
    "import plotly.express as px\n",
    "from plotly.subplots import make_subplots"
   ]
  },
  {
   "cell_type": "code",
   "execution_count": 93,
   "metadata": {},
   "outputs": [],
   "source": [
    "# Read sheets from excel file\n",
    "\n",
    "COL_DATE = \"Date\"\n",
    "COL_HOURS = [f\"Values_Hour{i:02}\" for i in range(1, 25)]\n",
    "\n",
    "def read_each_sheet(sheet_name, excel_data, plant_name: str=None, index_col=0):\n",
    "\n",
    "    df_data = excel_data.parse(sheet_name, index_col=index_col)\n",
    "    \n",
    "    if plant_name:\n",
    "        df_data = df_data[df_data[\"Values_code\"] == plant_name]\n",
    "        df_data.drop(columns=[\"Values_code\"], inplace=True)\n",
    "\n",
    "    if \"Id\" in df_data.columns:\n",
    "        df_data.drop(columns=[\"Id\"], inplace=True)\n",
    "        \n",
    "    df_data[COL_DATE] = pd.to_datetime(df_data[COL_DATE])\n",
    "    # remove days lower than 2024-03-08\n",
    "    df_data = df_data[df_data[COL_DATE] >= pd.Timestamp(\"2024-03-08\")]\n",
    "    # df_data.set_index(COL_DATE, inplace=True)\n",
    "    # df_data = df_data.sort_index()\n",
    "\n",
    "    return df_data"
   ]
  },
  {
   "cell_type": "code",
   "execution_count": 94,
   "metadata": {},
   "outputs": [],
   "source": [
    "# Operation between two dataframes with formats hours\n",
    "\n",
    "COL_UNIFIED = \"Total\"\n",
    "\n",
    "def unfied_hours(df):\n",
    "    if COL_UNIFIED in df.columns:\n",
    "        return df\n",
    "    df_aux = df[[COL_DATE]].copy()\n",
    "    df_aux[COL_UNIFIED] = df[COL_HOURS].sum(axis=1)\n",
    "    return df_aux\n",
    "\n",
    "def operation_between_df(df1, df2, operation, absolute=False, unified=False):\n",
    "    columns = COL_HOURS\n",
    "    if unified:\n",
    "        df1 = unfied_hours(df1)\n",
    "        df2 = unfied_hours(df2)\n",
    "        columns = [COL_UNIFIED]\n",
    "\n",
    "    common_dates = pd.merge(df1, df2, on=COL_DATE, how=\"inner\", suffixes=('_1', '_2'))\n",
    "    common_dates.fillna(0, inplace=True)\n",
    "\n",
    "    result = common_dates[[COL_DATE]].copy()\n",
    "\n",
    "    for hour in columns:\n",
    "        if operation == \"sum\":\n",
    "            result[hour] = common_dates[f\"{hour}_1\"]+common_dates[f\"{hour}_2\"]\n",
    "        elif operation == \"subs\":\n",
    "                result[hour] = common_dates[f\"{hour}_1\"]-common_dates[f\"{hour}_2\"]\n",
    "        elif operation == \"mult\":\n",
    "                result[hour] = common_dates[f\"{hour}_1\"]*common_dates[f\"{hour}_2\"]\n",
    "        elif operation == \"div\":\n",
    "                result[hour] = 100*common_dates[f\"{hour}_1\"]/common_dates[f\"{hour}_2\"]\n",
    "        else:\n",
    "            raise ValueError(\"Operation not supported\")\n",
    "\n",
    "    if absolute:\n",
    "        result[columns] = result[columns].abs()\n",
    "\n",
    "    return result\n",
    "\n",
    "def calculate_toleration(df, gap):\n",
    "    df[[COL_UNIFIED]] = df[[COL_UNIFIED]].apply(lambda x: print(x.values))\n",
    "    return df"
   ]
  },
  {
   "cell_type": "code",
   "execution_count": 95,
   "metadata": {},
   "outputs": [],
   "source": [
    "# Plot graphics\n",
    "\n",
    "def plot_results(df_daily, df_month, title, title_1, title_2):\n",
    "    # Calcular promedio y desviación estándar para cada DataFrame\n",
    "    mean_daily = df_daily[COL_UNIFIED].mean()\n",
    "    std_daily = df_daily[COL_UNIFIED].std()\n",
    "    std_daily_percent = (std_daily / mean_daily) * 100  # Desviación estándar como porcentaje del promedio\n",
    "    \n",
    "    mean_month = df_month[COL_UNIFIED].mean()\n",
    "    std_month = df_month[COL_UNIFIED].std()\n",
    "    std_month_percent = (std_month / mean_month) * 100  # Desviación estándar como porcentaje del promedio\n",
    "    \n",
    "    # Crear la figura con subplots\n",
    "    fig = make_subplots(rows=1, cols=2, subplot_titles=(title_1, title_2))\n",
    "\n",
    "    # Gráfico de datos horarios\n",
    "    fig.add_trace(\n",
    "        go.Scatter(x=df_daily[COL_DATE], y=df_daily[COL_UNIFIED], mode='lines', name='Horario'),\n",
    "        row=1, col=1\n",
    "    )\n",
    "\n",
    "    # Añadir anotación para promedio y desviación estándar en la esquina superior derecha del primer subplot\n",
    "    fig.add_annotation(\n",
    "        xref=\"x domain\", yref=\"y domain\", x=0.95, y=0.95, showarrow=False,\n",
    "        text=f\"X̅: {mean_daily:.2f}<br>σ: {std_daily_percent:.2f}%\",\n",
    "        row=1, col=1\n",
    "    )\n",
    "\n",
    "    # Gráfico de datos mensuales\n",
    "    fig.add_trace(\n",
    "        go.Scatter(x=df_month[COL_DATE], y=df_month[COL_UNIFIED], mode='lines', name='Mensual'),\n",
    "        row=1, col=2\n",
    "    )\n",
    "\n",
    "    # Añadir anotación para promedio y desviación estándar en la esquina superior derecha del segundo subplot\n",
    "    fig.add_annotation(\n",
    "        xref=\"x domain\", yref=\"y domain\", x=0.95, y=0.95, showarrow=False,\n",
    "        text=f\"X̅: {mean_month:.2f}<br>σ: {std_month_percent:.2f}%\",\n",
    "        row=1, col=2\n",
    "    )\n",
    "\n",
    "    # Setear dimensiones y título de la figura\n",
    "    fig.update_layout(height=400, width=1000, title_text=title)\n",
    "    # Setear título del eje y en el primer subplot\n",
    "    fig.update_yaxes(title_text=\"Desviación [%]\", row=1, col=1)\n",
    "\n",
    "    return fig"
   ]
  },
  {
   "cell_type": "code",
   "execution_count": 96,
   "metadata": {},
   "outputs": [],
   "source": [
    "# read excel file\n",
    "path = \"./data/data_by_concept.xlsx\"\n",
    "# read with a context manager\n",
    "excel_data = pd.ExcelFile(path)"
   ]
  },
  {
   "cell_type": "code",
   "execution_count": 97,
   "metadata": {},
   "outputs": [],
   "source": [
    "gene_sheet_name = \"Gene\"\n",
    "gen_prog_sheet_name = \"GeneProgDesp\"\n",
    "gen_reprog_sheet_name = \"GeneProgRedesp\"\n",
    "\n",
    "monthly_spot_price_name = \"ProyeccionPreciosMensual\"\n",
    "hour_spot_price_name = \"ProyeccionPreciosHorario\"\n",
    "monthly_gene_projection_name = \"ProyeccionEnergia\""
   ]
  },
  {
   "cell_type": "code",
   "execution_count": 98,
   "metadata": {},
   "outputs": [],
   "source": [
    "# open the sheet of generation in a dataframe\n",
    "gen_real = read_each_sheet(gene_sheet_name, excel_data, \"3IRX\")\n",
    "gen_desp = read_each_sheet(gen_prog_sheet_name, excel_data, \"3IRX\")\n",
    "gen_redesp = read_each_sheet(gen_reprog_sheet_name, excel_data, \"3IRX\")\n",
    "\n",
    "monthly_spot_price = read_each_sheet(monthly_spot_price_name, excel_data, index_col=None)\n",
    "hour_spot_price = read_each_sheet(hour_spot_price_name, excel_data, index_col=None)\n",
    "monthly_gene_projection = read_each_sheet(monthly_gene_projection_name, excel_data, index_col=None)"
   ]
  },
  {
   "cell_type": "code",
   "execution_count": 99,
   "metadata": {},
   "outputs": [],
   "source": [
    "# Para el despacho\n",
    "\n",
    "desv_desp = operation_between_df(gen_real, gen_desp, \"subs\", absolute=True , unified=True)\n",
    "percentage_desv_desp = operation_between_df(desv_desp, gen_desp, \"div\", unified=True)\n",
    "\n",
    "percentage_desv_desp_odds = percentage_desv_desp.copy()\n",
    "percentage_desv_desp_odds[COL_UNIFIED] = percentage_desv_desp_odds[COL_UNIFIED].apply(\n",
    "    lambda x: 1 if x > 15 else 0\n",
    ")\n",
    "\n",
    "percentage_desv_desp_penalty = percentage_desv_desp.copy()\n",
    "percentage_desv_desp_penalty[COL_UNIFIED] = percentage_desv_desp_penalty[COL_UNIFIED].apply(\n",
    "    lambda x: x if x > 15 else 0\n",
    ")\n",
    "percentage_desv_desp_penalty_rem0 = percentage_desv_desp_penalty[\n",
    "    percentage_desv_desp_penalty[COL_UNIFIED] > 0\n",
    "]\n",
    "\n",
    "# Para el redespacho\n",
    "df_desv_reprog = operation_between_df(gen_real, gen_redesp, \"subs\", absolute=True , unified=True)\n",
    "percentage_desv_redesp = operation_between_df(df_desv_reprog, gen_redesp, \"div\", unified=True)\n",
    "\n",
    "percentage_desv_redesp_odds = percentage_desv_redesp.copy()\n",
    "percentage_desv_redesp_odds[COL_UNIFIED] = percentage_desv_redesp_odds[COL_UNIFIED].apply(\n",
    "    lambda x: 1 if x > 8 else 0\n",
    ")\n",
    "\n",
    "percentage_desv_redesp_penalty = percentage_desv_redesp.copy()\n",
    "percentage_desv_redesp_penalty[COL_UNIFIED] = percentage_desv_redesp_penalty[COL_UNIFIED].apply(\n",
    "    lambda x: x if x > 8 else 0\n",
    ")\n",
    "percentage_desv_redesp_penalty_rem0 = percentage_desv_redesp_penalty[\n",
    "    percentage_desv_redesp_penalty[COL_UNIFIED] > 0\n",
    "]\n"
   ]
  },
  {
   "cell_type": "code",
   "execution_count": 100,
   "metadata": {},
   "outputs": [
    {
     "data": {
      "text/plain": [
       "23.3033640506289"
      ]
     },
     "execution_count": 100,
     "metadata": {},
     "output_type": "execute_result"
    }
   ],
   "source": [
    "monthly_avg_dev_desp_penalty = percentage_desv_desp_penalty_rem0.resample(\n",
    "    'ME', on=COL_DATE)[COL_UNIFIED].mean().reset_index()\n",
    "monthly_avg_dev_desp_odds = percentage_desv_desp_odds.resample(\n",
    "    'ME', on=COL_DATE)[COL_UNIFIED].mean().reset_index()\n",
    "\n",
    "monthly_avg_dev_desp = operation_between_df(\n",
    "    monthly_avg_dev_desp_penalty,\n",
    "    monthly_avg_dev_desp_odds,\n",
    "    \"mult\",\n",
    "    unified=True\n",
    ")\n",
    "\n",
    "monthly_avg_redesp_penalty = percentage_desv_redesp_penalty_rem0.resample(\n",
    "    'ME', on=COL_DATE)[COL_UNIFIED].mean().reset_index()\n",
    "monthly_avg_redesp_odds = percentage_desv_redesp_odds.resample(\n",
    "    'ME', on=COL_DATE)[COL_UNIFIED].mean().reset_index()\n",
    "\n",
    "monthly_avg_redesp = operation_between_df(\n",
    "    monthly_avg_redesp_penalty,\n",
    "    monthly_avg_redesp_odds,\n",
    "    \"mult\",\n",
    "    unified=True\n",
    ")\n",
    "\n",
    "mean_dev_desp_value = float(percentage_desv_desp_penalty[COL_UNIFIED].mean())\n",
    "mean_dev_redesp_value = float(percentage_desv_redesp_penalty[COL_UNIFIED].mean())\n",
    "\n",
    "mean_dev_desp_rem0_value = float(percentage_desv_desp_penalty_rem0[COL_UNIFIED].mean())\n",
    "mean_dev_redesp_rem0_value = float(percentage_desv_redesp_penalty_rem0[COL_UNIFIED].mean())\n",
    "mean_dev_desp_rem0_value\n",
    "mean_dev_redesp_rem0_value"
   ]
  },
  {
   "cell_type": "code",
   "execution_count": 101,
   "metadata": {},
   "outputs": [
    {
     "data": {
      "application/vnd.plotly.v1+json": {
       "config": {
        "plotlyServerURL": "https://plot.ly"
       },
       "data": [
        {
         "mode": "lines",
         "name": "Horario",
         "type": "scatter",
         "x": [
          "2024-03-08T00:00:00",
          "2024-03-09T00:00:00",
          "2024-03-10T00:00:00",
          "2024-03-11T00:00:00",
          "2024-03-12T00:00:00",
          "2024-03-13T00:00:00",
          "2024-03-14T00:00:00",
          "2024-03-15T00:00:00",
          "2024-03-16T00:00:00",
          "2024-03-17T00:00:00",
          "2024-03-18T00:00:00",
          "2024-03-19T00:00:00",
          "2024-03-20T00:00:00",
          "2024-03-21T00:00:00",
          "2024-03-22T00:00:00",
          "2024-03-24T00:00:00",
          "2024-03-25T00:00:00",
          "2024-03-26T00:00:00",
          "2024-03-27T00:00:00",
          "2024-03-28T00:00:00",
          "2024-03-29T00:00:00",
          "2024-03-30T00:00:00",
          "2024-03-31T00:00:00",
          "2024-04-01T00:00:00",
          "2024-04-02T00:00:00",
          "2024-04-03T00:00:00",
          "2024-04-04T00:00:00",
          "2024-04-05T00:00:00",
          "2024-04-07T00:00:00",
          "2024-04-08T00:00:00",
          "2024-04-09T00:00:00",
          "2024-04-10T00:00:00",
          "2024-04-11T00:00:00",
          "2024-04-12T00:00:00",
          "2024-04-13T00:00:00",
          "2024-04-14T00:00:00",
          "2024-04-15T00:00:00",
          "2024-04-16T00:00:00",
          "2024-04-17T00:00:00",
          "2024-04-18T00:00:00",
          "2024-04-19T00:00:00",
          "2024-04-20T00:00:00",
          "2024-04-21T00:00:00",
          "2024-04-22T00:00:00",
          "2024-04-23T00:00:00",
          "2024-04-25T00:00:00",
          "2024-04-27T00:00:00",
          "2024-04-28T00:00:00",
          "2024-04-29T00:00:00",
          "2024-04-30T00:00:00",
          "2024-05-01T00:00:00",
          "2024-05-02T00:00:00",
          "2024-05-03T00:00:00",
          "2024-05-04T00:00:00",
          "2024-05-05T00:00:00",
          "2024-05-06T00:00:00",
          "2024-05-07T00:00:00",
          "2024-05-08T00:00:00",
          "2024-05-09T00:00:00",
          "2024-05-10T00:00:00",
          "2024-05-11T00:00:00",
          "2024-05-12T00:00:00",
          "2024-05-13T00:00:00",
          "2024-05-14T00:00:00",
          "2024-05-15T00:00:00",
          "2024-05-16T00:00:00",
          "2024-05-17T00:00:00",
          "2024-05-18T00:00:00",
          "2024-05-19T00:00:00",
          "2024-05-20T00:00:00",
          "2024-05-21T00:00:00",
          "2024-05-22T00:00:00",
          "2024-05-23T00:00:00",
          "2024-05-24T00:00:00",
          "2024-05-25T00:00:00",
          "2024-05-26T00:00:00",
          "2024-05-27T00:00:00",
          "2024-05-28T00:00:00",
          "2024-05-29T00:00:00",
          "2024-05-30T00:00:00",
          "2024-05-31T00:00:00",
          "2024-06-01T00:00:00",
          "2024-06-02T00:00:00",
          "2024-06-03T00:00:00",
          "2024-06-04T00:00:00",
          "2024-06-05T00:00:00",
          "2024-06-06T00:00:00",
          "2024-06-07T00:00:00",
          "2024-06-08T00:00:00",
          "2024-06-09T00:00:00",
          "2024-06-10T00:00:00",
          "2024-06-11T00:00:00",
          "2024-06-12T00:00:00",
          "2024-06-13T00:00:00",
          "2024-06-14T00:00:00",
          "2024-06-15T00:00:00",
          "2024-06-16T00:00:00",
          "2024-06-17T00:00:00",
          "2024-06-18T00:00:00",
          "2024-06-19T00:00:00",
          "2024-06-20T00:00:00",
          "2024-06-21T00:00:00",
          "2024-06-22T00:00:00",
          "2024-06-23T00:00:00",
          "2024-06-24T00:00:00",
          "2024-06-25T00:00:00",
          "2024-06-26T00:00:00",
          "2024-06-27T00:00:00",
          "2024-06-28T00:00:00",
          "2024-06-29T00:00:00",
          "2024-06-30T00:00:00",
          "2024-07-01T00:00:00",
          "2024-07-02T00:00:00",
          "2024-07-03T00:00:00",
          "2024-07-04T00:00:00",
          "2024-07-05T00:00:00",
          "2024-07-06T00:00:00",
          "2024-07-07T00:00:00",
          "2024-07-08T00:00:00",
          "2024-07-09T00:00:00",
          "2024-07-10T00:00:00",
          "2024-07-11T00:00:00",
          "2024-07-12T00:00:00",
          "2024-07-13T00:00:00",
          "2024-07-14T00:00:00",
          "2024-07-15T00:00:00",
          "2024-07-16T00:00:00",
          "2024-07-17T00:00:00",
          "2024-07-18T00:00:00",
          "2024-07-19T00:00:00",
          "2024-07-20T00:00:00",
          "2024-07-21T00:00:00",
          "2024-07-22T00:00:00",
          "2024-07-23T00:00:00",
          "2024-07-24T00:00:00",
          "2024-07-25T00:00:00",
          "2024-07-26T00:00:00",
          "2024-07-27T00:00:00",
          "2024-07-28T00:00:00",
          "2024-07-29T00:00:00",
          "2024-07-30T00:00:00",
          "2024-07-31T00:00:00",
          "2024-08-01T00:00:00",
          "2024-08-02T00:00:00",
          "2024-08-03T00:00:00",
          "2024-08-04T00:00:00",
          "2024-08-05T00:00:00",
          "2024-08-06T00:00:00",
          "2024-08-07T00:00:00",
          "2024-08-08T00:00:00",
          "2024-08-09T00:00:00",
          "2024-08-10T00:00:00",
          "2024-08-11T00:00:00",
          "2024-08-12T00:00:00",
          "2024-08-13T00:00:00",
          "2024-08-14T00:00:00",
          "2024-08-15T00:00:00",
          "2024-08-16T00:00:00",
          "2024-08-17T00:00:00",
          "2024-08-18T00:00:00",
          "2024-08-19T00:00:00",
          "2024-08-20T00:00:00",
          "2024-08-21T00:00:00",
          "2024-08-22T00:00:00",
          "2024-08-23T00:00:00",
          "2024-08-24T00:00:00",
          "2024-08-25T00:00:00",
          "2024-08-26T00:00:00",
          "2024-08-27T00:00:00",
          "2024-08-28T00:00:00",
          "2024-08-29T00:00:00",
          "2024-08-30T00:00:00",
          "2024-08-31T00:00:00",
          "2024-09-01T00:00:00",
          "2024-09-02T00:00:00",
          "2024-09-03T00:00:00",
          "2024-09-04T00:00:00",
          "2024-09-05T00:00:00",
          "2024-09-06T00:00:00",
          "2024-09-07T00:00:00",
          "2024-09-08T00:00:00",
          "2024-09-09T00:00:00",
          "2024-09-10T00:00:00",
          "2024-09-11T00:00:00",
          "2024-09-12T00:00:00",
          "2024-09-13T00:00:00",
          "2024-09-14T00:00:00",
          "2024-09-15T00:00:00",
          "2024-09-16T00:00:00",
          "2024-09-17T00:00:00",
          "2024-09-18T00:00:00",
          "2024-09-19T00:00:00",
          "2024-09-20T00:00:00",
          "2024-09-21T00:00:00",
          "2024-09-22T00:00:00",
          "2024-09-23T00:00:00",
          "2024-09-24T00:00:00",
          "2024-09-25T00:00:00",
          "2024-09-26T00:00:00",
          "2024-09-27T00:00:00",
          "2024-09-28T00:00:00",
          "2024-09-29T00:00:00",
          "2024-09-30T00:00:00",
          "2024-10-01T00:00:00",
          "2024-10-02T00:00:00",
          "2024-10-03T00:00:00",
          "2024-10-04T00:00:00",
          "2024-10-05T00:00:00",
          "2024-10-06T00:00:00",
          "2024-10-07T00:00:00",
          "2024-10-08T00:00:00",
          "2024-10-09T00:00:00",
          "2024-10-10T00:00:00",
          "2024-10-11T00:00:00",
          "2024-10-12T00:00:00",
          "2024-10-13T00:00:00",
          "2024-10-14T00:00:00",
          "2024-10-15T00:00:00",
          "2024-10-16T00:00:00",
          "2024-10-17T00:00:00",
          "2024-10-18T00:00:00",
          "2024-10-19T00:00:00",
          "2024-10-20T00:00:00",
          "2024-10-21T00:00:00",
          "2024-10-22T00:00:00",
          "2024-10-23T00:00:00",
          "2024-10-24T00:00:00",
          "2024-10-25T00:00:00",
          "2024-10-26T00:00:00",
          "2024-10-27T00:00:00",
          "2024-10-28T00:00:00",
          "2024-10-29T00:00:00",
          "2024-10-30T00:00:00",
          "2024-10-31T00:00:00",
          "2024-11-01T00:00:00",
          "2024-11-02T00:00:00"
         ],
         "xaxis": "x",
         "y": [
          0,
          34.466747143888306,
          29.04801523194093,
          28.54616355810617,
          0,
          21.396647151898726,
          0,
          0,
          0,
          56.78149084482841,
          46.52536299707709,
          0,
          22.125354854408286,
          0,
          18.04796179401993,
          45.719166920036486,
          0,
          17.029628868451255,
          15.101049910873444,
          0,
          47.8105891816786,
          35.97801631733987,
          0,
          0,
          25.042732421874998,
          0,
          31.683388536866374,
          63.34353644314868,
          56.56865240704732,
          0,
          0,
          561.0073732280468,
          0,
          0,
          0,
          1379.5534864864865,
          244.21043749999993,
          144.07870209244092,
          56.689630584192436,
          0,
          0,
          15.947714285714294,
          0,
          0,
          22.957138888888895,
          23.435227027027025,
          37.701779220779216,
          0,
          26.273424311926604,
          22.118833648393196,
          20.189451672862454,
          19.55974137931035,
          45.48360416666667,
          40.868017632241816,
          21.935097510373453,
          51.41104811715483,
          24.94663864042933,
          16.643958250497015,
          48.84825185185185,
          52.43247640449438,
          0,
          62.248204887218044,
          28.156641285956006,
          15.296177358490564,
          42.26383850931678,
          0,
          0,
          21.064067039106153,
          27.63310229276895,
          23.02784181818182,
          0,
          37.820045275590566,
          16.040356746765262,
          50.422242187499975,
          0,
          30.263359223300977,
          0,
          20.812052252252254,
          0,
          0,
          0,
          16.236785266457673,
          26.651502654867258,
          0,
          0,
          17.06887005649717,
          0,
          0,
          0,
          20.578327083333324,
          16.34339958158995,
          45.87099025341129,
          0,
          0,
          0,
          18.82442455242967,
          0,
          0,
          0,
          0,
          0,
          0,
          0,
          24.973105363984672,
          0,
          0,
          0,
          0,
          15.11381162324649,
          0,
          0,
          0,
          0,
          0,
          0,
          63.814859649122795,
          0,
          0,
          0,
          0,
          0,
          0,
          15.71875322283611,
          75.70826845637583,
          0,
          0,
          0,
          0,
          48.28788851351352,
          46.288268852459005,
          38.81457519748642,
          0,
          0,
          0,
          268.74640462427743,
          46.30613005780346,
          23.632863406408095,
          0,
          674.1094326340984,
          23.176058712121204,
          0,
          0,
          16.491714153777302,
          94.3799879245283,
          0,
          17.419790170132316,
          0,
          0,
          70.11434752417071,
          19.986529310344828,
          249.95296478873246,
          15.397092369477916,
          875.4226693835965,
          0,
          0,
          0,
          0,
          161.52590376569037,
          79.85936326358011,
          16.850899328859057,
          0,
          0,
          0,
          0,
          23.06193727598566,
          0,
          28.285882568807338,
          19.836285964912275,
          0,
          16.32592295081967,
          0,
          0,
          0,
          0,
          0,
          15.104756429652033,
          0,
          23.654690735694814,
          0,
          0,
          17.205670196671708,
          0,
          23.679075036075037,
          0,
          33.570604347826084,
          0,
          0,
          0,
          0,
          0,
          0,
          0,
          0,
          0,
          18.03480944055944,
          0,
          0,
          16.870622259696464,
          0,
          0,
          0,
          24.87912962962963,
          0,
          0,
          0,
          0,
          18.03719262295082,
          0,
          0,
          17.49604123711341,
          0,
          28.538665158371046,
          0,
          0,
          0,
          15.999237226277385,
          0,
          0,
          0,
          0,
          0,
          18.786100884955747,
          0,
          0,
          0,
          0,
          0,
          0,
          0,
          50.95490599675851,
          21.800527508090614,
          17.354503472222213,
          0,
          38.881107028753995,
          0,
          17.149565537555233
         ],
         "yaxis": "y"
        },
        {
         "mode": "lines",
         "name": "Mensual",
         "type": "scatter",
         "x": [
          "2024-03-31T00:00:00",
          "2024-04-30T00:00:00",
          "2024-05-31T00:00:00",
          "2024-06-30T00:00:00",
          "2024-07-31T00:00:00",
          "2024-08-31T00:00:00",
          "2024-09-30T00:00:00",
          "2024-10-31T00:00:00",
          "2024-11-30T00:00:00"
         ],
         "xaxis": "x2",
         "y": [
          18.198964990197716,
          100.39303915121606,
          23.140845629107403,
          6.7220405478605825,
          42.72914526859685,
          54.997138411077906,
          5.766645269193507,
          7.349944552757862,
          8.574782768777617
         ],
         "yaxis": "y2"
        }
       ],
       "layout": {
        "annotations": [
         {
          "font": {
           "size": 16
          },
          "showarrow": false,
          "text": "Desviación diaria de energía",
          "x": 0.225,
          "xanchor": "center",
          "xref": "paper",
          "y": 1,
          "yanchor": "bottom",
          "yref": "paper"
         },
         {
          "font": {
           "size": 16
          },
          "showarrow": false,
          "text": "Desviación promedio mensual de energía",
          "x": 0.775,
          "xanchor": "center",
          "xref": "paper",
          "y": 1,
          "yanchor": "bottom",
          "yref": "paper"
         },
         {
          "showarrow": false,
          "text": "X̅: 31.76<br>σ: 387.55%",
          "x": 0.95,
          "xref": "x domain",
          "y": 0.95,
          "yref": "y domain"
         },
         {
          "showarrow": false,
          "text": "X̅: 29.76<br>σ: 106.44%",
          "x": 0.95,
          "xref": "x2 domain",
          "y": 0.95,
          "yref": "y2 domain"
         }
        ],
        "height": 400,
        "template": {
         "data": {
          "bar": [
           {
            "error_x": {
             "color": "#2a3f5f"
            },
            "error_y": {
             "color": "#2a3f5f"
            },
            "marker": {
             "line": {
              "color": "#E5ECF6",
              "width": 0.5
             },
             "pattern": {
              "fillmode": "overlay",
              "size": 10,
              "solidity": 0.2
             }
            },
            "type": "bar"
           }
          ],
          "barpolar": [
           {
            "marker": {
             "line": {
              "color": "#E5ECF6",
              "width": 0.5
             },
             "pattern": {
              "fillmode": "overlay",
              "size": 10,
              "solidity": 0.2
             }
            },
            "type": "barpolar"
           }
          ],
          "carpet": [
           {
            "aaxis": {
             "endlinecolor": "#2a3f5f",
             "gridcolor": "white",
             "linecolor": "white",
             "minorgridcolor": "white",
             "startlinecolor": "#2a3f5f"
            },
            "baxis": {
             "endlinecolor": "#2a3f5f",
             "gridcolor": "white",
             "linecolor": "white",
             "minorgridcolor": "white",
             "startlinecolor": "#2a3f5f"
            },
            "type": "carpet"
           }
          ],
          "choropleth": [
           {
            "colorbar": {
             "outlinewidth": 0,
             "ticks": ""
            },
            "type": "choropleth"
           }
          ],
          "contour": [
           {
            "colorbar": {
             "outlinewidth": 0,
             "ticks": ""
            },
            "colorscale": [
             [
              0,
              "#0d0887"
             ],
             [
              0.1111111111111111,
              "#46039f"
             ],
             [
              0.2222222222222222,
              "#7201a8"
             ],
             [
              0.3333333333333333,
              "#9c179e"
             ],
             [
              0.4444444444444444,
              "#bd3786"
             ],
             [
              0.5555555555555556,
              "#d8576b"
             ],
             [
              0.6666666666666666,
              "#ed7953"
             ],
             [
              0.7777777777777778,
              "#fb9f3a"
             ],
             [
              0.8888888888888888,
              "#fdca26"
             ],
             [
              1,
              "#f0f921"
             ]
            ],
            "type": "contour"
           }
          ],
          "contourcarpet": [
           {
            "colorbar": {
             "outlinewidth": 0,
             "ticks": ""
            },
            "type": "contourcarpet"
           }
          ],
          "heatmap": [
           {
            "colorbar": {
             "outlinewidth": 0,
             "ticks": ""
            },
            "colorscale": [
             [
              0,
              "#0d0887"
             ],
             [
              0.1111111111111111,
              "#46039f"
             ],
             [
              0.2222222222222222,
              "#7201a8"
             ],
             [
              0.3333333333333333,
              "#9c179e"
             ],
             [
              0.4444444444444444,
              "#bd3786"
             ],
             [
              0.5555555555555556,
              "#d8576b"
             ],
             [
              0.6666666666666666,
              "#ed7953"
             ],
             [
              0.7777777777777778,
              "#fb9f3a"
             ],
             [
              0.8888888888888888,
              "#fdca26"
             ],
             [
              1,
              "#f0f921"
             ]
            ],
            "type": "heatmap"
           }
          ],
          "heatmapgl": [
           {
            "colorbar": {
             "outlinewidth": 0,
             "ticks": ""
            },
            "colorscale": [
             [
              0,
              "#0d0887"
             ],
             [
              0.1111111111111111,
              "#46039f"
             ],
             [
              0.2222222222222222,
              "#7201a8"
             ],
             [
              0.3333333333333333,
              "#9c179e"
             ],
             [
              0.4444444444444444,
              "#bd3786"
             ],
             [
              0.5555555555555556,
              "#d8576b"
             ],
             [
              0.6666666666666666,
              "#ed7953"
             ],
             [
              0.7777777777777778,
              "#fb9f3a"
             ],
             [
              0.8888888888888888,
              "#fdca26"
             ],
             [
              1,
              "#f0f921"
             ]
            ],
            "type": "heatmapgl"
           }
          ],
          "histogram": [
           {
            "marker": {
             "pattern": {
              "fillmode": "overlay",
              "size": 10,
              "solidity": 0.2
             }
            },
            "type": "histogram"
           }
          ],
          "histogram2d": [
           {
            "colorbar": {
             "outlinewidth": 0,
             "ticks": ""
            },
            "colorscale": [
             [
              0,
              "#0d0887"
             ],
             [
              0.1111111111111111,
              "#46039f"
             ],
             [
              0.2222222222222222,
              "#7201a8"
             ],
             [
              0.3333333333333333,
              "#9c179e"
             ],
             [
              0.4444444444444444,
              "#bd3786"
             ],
             [
              0.5555555555555556,
              "#d8576b"
             ],
             [
              0.6666666666666666,
              "#ed7953"
             ],
             [
              0.7777777777777778,
              "#fb9f3a"
             ],
             [
              0.8888888888888888,
              "#fdca26"
             ],
             [
              1,
              "#f0f921"
             ]
            ],
            "type": "histogram2d"
           }
          ],
          "histogram2dcontour": [
           {
            "colorbar": {
             "outlinewidth": 0,
             "ticks": ""
            },
            "colorscale": [
             [
              0,
              "#0d0887"
             ],
             [
              0.1111111111111111,
              "#46039f"
             ],
             [
              0.2222222222222222,
              "#7201a8"
             ],
             [
              0.3333333333333333,
              "#9c179e"
             ],
             [
              0.4444444444444444,
              "#bd3786"
             ],
             [
              0.5555555555555556,
              "#d8576b"
             ],
             [
              0.6666666666666666,
              "#ed7953"
             ],
             [
              0.7777777777777778,
              "#fb9f3a"
             ],
             [
              0.8888888888888888,
              "#fdca26"
             ],
             [
              1,
              "#f0f921"
             ]
            ],
            "type": "histogram2dcontour"
           }
          ],
          "mesh3d": [
           {
            "colorbar": {
             "outlinewidth": 0,
             "ticks": ""
            },
            "type": "mesh3d"
           }
          ],
          "parcoords": [
           {
            "line": {
             "colorbar": {
              "outlinewidth": 0,
              "ticks": ""
             }
            },
            "type": "parcoords"
           }
          ],
          "pie": [
           {
            "automargin": true,
            "type": "pie"
           }
          ],
          "scatter": [
           {
            "fillpattern": {
             "fillmode": "overlay",
             "size": 10,
             "solidity": 0.2
            },
            "type": "scatter"
           }
          ],
          "scatter3d": [
           {
            "line": {
             "colorbar": {
              "outlinewidth": 0,
              "ticks": ""
             }
            },
            "marker": {
             "colorbar": {
              "outlinewidth": 0,
              "ticks": ""
             }
            },
            "type": "scatter3d"
           }
          ],
          "scattercarpet": [
           {
            "marker": {
             "colorbar": {
              "outlinewidth": 0,
              "ticks": ""
             }
            },
            "type": "scattercarpet"
           }
          ],
          "scattergeo": [
           {
            "marker": {
             "colorbar": {
              "outlinewidth": 0,
              "ticks": ""
             }
            },
            "type": "scattergeo"
           }
          ],
          "scattergl": [
           {
            "marker": {
             "colorbar": {
              "outlinewidth": 0,
              "ticks": ""
             }
            },
            "type": "scattergl"
           }
          ],
          "scattermapbox": [
           {
            "marker": {
             "colorbar": {
              "outlinewidth": 0,
              "ticks": ""
             }
            },
            "type": "scattermapbox"
           }
          ],
          "scatterpolar": [
           {
            "marker": {
             "colorbar": {
              "outlinewidth": 0,
              "ticks": ""
             }
            },
            "type": "scatterpolar"
           }
          ],
          "scatterpolargl": [
           {
            "marker": {
             "colorbar": {
              "outlinewidth": 0,
              "ticks": ""
             }
            },
            "type": "scatterpolargl"
           }
          ],
          "scatterternary": [
           {
            "marker": {
             "colorbar": {
              "outlinewidth": 0,
              "ticks": ""
             }
            },
            "type": "scatterternary"
           }
          ],
          "surface": [
           {
            "colorbar": {
             "outlinewidth": 0,
             "ticks": ""
            },
            "colorscale": [
             [
              0,
              "#0d0887"
             ],
             [
              0.1111111111111111,
              "#46039f"
             ],
             [
              0.2222222222222222,
              "#7201a8"
             ],
             [
              0.3333333333333333,
              "#9c179e"
             ],
             [
              0.4444444444444444,
              "#bd3786"
             ],
             [
              0.5555555555555556,
              "#d8576b"
             ],
             [
              0.6666666666666666,
              "#ed7953"
             ],
             [
              0.7777777777777778,
              "#fb9f3a"
             ],
             [
              0.8888888888888888,
              "#fdca26"
             ],
             [
              1,
              "#f0f921"
             ]
            ],
            "type": "surface"
           }
          ],
          "table": [
           {
            "cells": {
             "fill": {
              "color": "#EBF0F8"
             },
             "line": {
              "color": "white"
             }
            },
            "header": {
             "fill": {
              "color": "#C8D4E3"
             },
             "line": {
              "color": "white"
             }
            },
            "type": "table"
           }
          ]
         },
         "layout": {
          "annotationdefaults": {
           "arrowcolor": "#2a3f5f",
           "arrowhead": 0,
           "arrowwidth": 1
          },
          "autotypenumbers": "strict",
          "coloraxis": {
           "colorbar": {
            "outlinewidth": 0,
            "ticks": ""
           }
          },
          "colorscale": {
           "diverging": [
            [
             0,
             "#8e0152"
            ],
            [
             0.1,
             "#c51b7d"
            ],
            [
             0.2,
             "#de77ae"
            ],
            [
             0.3,
             "#f1b6da"
            ],
            [
             0.4,
             "#fde0ef"
            ],
            [
             0.5,
             "#f7f7f7"
            ],
            [
             0.6,
             "#e6f5d0"
            ],
            [
             0.7,
             "#b8e186"
            ],
            [
             0.8,
             "#7fbc41"
            ],
            [
             0.9,
             "#4d9221"
            ],
            [
             1,
             "#276419"
            ]
           ],
           "sequential": [
            [
             0,
             "#0d0887"
            ],
            [
             0.1111111111111111,
             "#46039f"
            ],
            [
             0.2222222222222222,
             "#7201a8"
            ],
            [
             0.3333333333333333,
             "#9c179e"
            ],
            [
             0.4444444444444444,
             "#bd3786"
            ],
            [
             0.5555555555555556,
             "#d8576b"
            ],
            [
             0.6666666666666666,
             "#ed7953"
            ],
            [
             0.7777777777777778,
             "#fb9f3a"
            ],
            [
             0.8888888888888888,
             "#fdca26"
            ],
            [
             1,
             "#f0f921"
            ]
           ],
           "sequentialminus": [
            [
             0,
             "#0d0887"
            ],
            [
             0.1111111111111111,
             "#46039f"
            ],
            [
             0.2222222222222222,
             "#7201a8"
            ],
            [
             0.3333333333333333,
             "#9c179e"
            ],
            [
             0.4444444444444444,
             "#bd3786"
            ],
            [
             0.5555555555555556,
             "#d8576b"
            ],
            [
             0.6666666666666666,
             "#ed7953"
            ],
            [
             0.7777777777777778,
             "#fb9f3a"
            ],
            [
             0.8888888888888888,
             "#fdca26"
            ],
            [
             1,
             "#f0f921"
            ]
           ]
          },
          "colorway": [
           "#636efa",
           "#EF553B",
           "#00cc96",
           "#ab63fa",
           "#FFA15A",
           "#19d3f3",
           "#FF6692",
           "#B6E880",
           "#FF97FF",
           "#FECB52"
          ],
          "font": {
           "color": "#2a3f5f"
          },
          "geo": {
           "bgcolor": "white",
           "lakecolor": "white",
           "landcolor": "#E5ECF6",
           "showlakes": true,
           "showland": true,
           "subunitcolor": "white"
          },
          "hoverlabel": {
           "align": "left"
          },
          "hovermode": "closest",
          "mapbox": {
           "style": "light"
          },
          "paper_bgcolor": "white",
          "plot_bgcolor": "#E5ECF6",
          "polar": {
           "angularaxis": {
            "gridcolor": "white",
            "linecolor": "white",
            "ticks": ""
           },
           "bgcolor": "#E5ECF6",
           "radialaxis": {
            "gridcolor": "white",
            "linecolor": "white",
            "ticks": ""
           }
          },
          "scene": {
           "xaxis": {
            "backgroundcolor": "#E5ECF6",
            "gridcolor": "white",
            "gridwidth": 2,
            "linecolor": "white",
            "showbackground": true,
            "ticks": "",
            "zerolinecolor": "white"
           },
           "yaxis": {
            "backgroundcolor": "#E5ECF6",
            "gridcolor": "white",
            "gridwidth": 2,
            "linecolor": "white",
            "showbackground": true,
            "ticks": "",
            "zerolinecolor": "white"
           },
           "zaxis": {
            "backgroundcolor": "#E5ECF6",
            "gridcolor": "white",
            "gridwidth": 2,
            "linecolor": "white",
            "showbackground": true,
            "ticks": "",
            "zerolinecolor": "white"
           }
          },
          "shapedefaults": {
           "line": {
            "color": "#2a3f5f"
           }
          },
          "ternary": {
           "aaxis": {
            "gridcolor": "white",
            "linecolor": "white",
            "ticks": ""
           },
           "baxis": {
            "gridcolor": "white",
            "linecolor": "white",
            "ticks": ""
           },
           "bgcolor": "#E5ECF6",
           "caxis": {
            "gridcolor": "white",
            "linecolor": "white",
            "ticks": ""
           }
          },
          "title": {
           "x": 0.05
          },
          "xaxis": {
           "automargin": true,
           "gridcolor": "white",
           "linecolor": "white",
           "ticks": "",
           "title": {
            "standoff": 15
           },
           "zerolinecolor": "white",
           "zerolinewidth": 2
          },
          "yaxis": {
           "automargin": true,
           "gridcolor": "white",
           "linecolor": "white",
           "ticks": "",
           "title": {
            "standoff": 15
           },
           "zerolinecolor": "white",
           "zerolinewidth": 2
          }
         }
        },
        "title": {
         "text": "Desviación del Despacho"
        },
        "width": 1000,
        "xaxis": {
         "anchor": "y",
         "domain": [
          0,
          0.45
         ]
        },
        "xaxis2": {
         "anchor": "y2",
         "domain": [
          0.55,
          1
         ]
        },
        "yaxis": {
         "anchor": "x",
         "domain": [
          0,
          1
         ],
         "title": {
          "text": "Desviación [%]"
         }
        },
        "yaxis2": {
         "anchor": "x2",
         "domain": [
          0,
          1
         ]
        }
       }
      }
     },
     "metadata": {},
     "output_type": "display_data"
    }
   ],
   "source": [
    "\n",
    "# Crear la figura con subplots\n",
    "fig = plot_results(\n",
    "    percentage_desv_desp_penalty, \n",
    "    monthly_avg_dev_desp, \n",
    "    \"Desviación del Despacho\", \n",
    "    \"Desviación diaria de energía\",\n",
    "    \"Desviación promedio mensual de energía\", \n",
    ")\n",
    "fig.show()"
   ]
  },
  {
   "cell_type": "code",
   "execution_count": 102,
   "metadata": {},
   "outputs": [
    {
     "data": {
      "application/vnd.plotly.v1+json": {
       "config": {
        "plotlyServerURL": "https://plot.ly"
       },
       "data": [
        {
         "mode": "lines",
         "name": "Horario",
         "type": "scatter",
         "x": [
          "2024-03-08T00:00:00",
          "2024-03-09T00:00:00",
          "2024-03-10T00:00:00",
          "2024-03-11T00:00:00",
          "2024-03-12T00:00:00",
          "2024-03-13T00:00:00",
          "2024-03-14T00:00:00",
          "2024-03-15T00:00:00",
          "2024-03-16T00:00:00",
          "2024-03-17T00:00:00",
          "2024-03-18T00:00:00",
          "2024-03-19T00:00:00",
          "2024-03-20T00:00:00",
          "2024-03-21T00:00:00",
          "2024-03-22T00:00:00",
          "2024-03-23T00:00:00",
          "2024-03-24T00:00:00",
          "2024-03-25T00:00:00",
          "2024-03-26T00:00:00",
          "2024-03-27T00:00:00",
          "2024-03-28T00:00:00",
          "2024-03-29T00:00:00",
          "2024-03-30T00:00:00",
          "2024-03-31T00:00:00",
          "2024-04-01T00:00:00",
          "2024-04-02T00:00:00",
          "2024-04-03T00:00:00",
          "2024-04-04T00:00:00",
          "2024-04-05T00:00:00",
          "2024-04-07T00:00:00",
          "2024-04-08T00:00:00",
          "2024-04-09T00:00:00",
          "2024-04-10T00:00:00",
          "2024-04-11T00:00:00",
          "2024-04-12T00:00:00",
          "2024-04-13T00:00:00",
          "2024-04-14T00:00:00",
          "2024-04-15T00:00:00",
          "2024-04-16T00:00:00",
          "2024-04-17T00:00:00",
          "2024-04-18T00:00:00",
          "2024-04-19T00:00:00",
          "2024-04-20T00:00:00",
          "2024-04-21T00:00:00",
          "2024-04-22T00:00:00",
          "2024-04-23T00:00:00",
          "2024-04-25T00:00:00",
          "2024-04-26T00:00:00",
          "2024-04-27T00:00:00",
          "2024-04-28T00:00:00",
          "2024-04-29T00:00:00",
          "2024-04-30T00:00:00",
          "2024-05-01T00:00:00",
          "2024-05-02T00:00:00",
          "2024-05-03T00:00:00",
          "2024-05-04T00:00:00",
          "2024-05-05T00:00:00",
          "2024-05-06T00:00:00",
          "2024-05-07T00:00:00",
          "2024-05-08T00:00:00",
          "2024-05-09T00:00:00",
          "2024-05-10T00:00:00",
          "2024-05-11T00:00:00",
          "2024-05-12T00:00:00",
          "2024-05-13T00:00:00",
          "2024-05-14T00:00:00",
          "2024-05-15T00:00:00",
          "2024-05-16T00:00:00",
          "2024-05-17T00:00:00",
          "2024-05-18T00:00:00",
          "2024-05-19T00:00:00",
          "2024-05-20T00:00:00",
          "2024-05-21T00:00:00",
          "2024-05-22T00:00:00",
          "2024-05-23T00:00:00",
          "2024-05-24T00:00:00",
          "2024-05-25T00:00:00",
          "2024-05-26T00:00:00",
          "2024-05-27T00:00:00",
          "2024-05-28T00:00:00",
          "2024-05-29T00:00:00",
          "2024-05-30T00:00:00",
          "2024-05-31T00:00:00",
          "2024-06-01T00:00:00",
          "2024-06-02T00:00:00",
          "2024-06-03T00:00:00",
          "2024-06-04T00:00:00",
          "2024-06-05T00:00:00",
          "2024-06-06T00:00:00",
          "2024-06-07T00:00:00",
          "2024-06-08T00:00:00",
          "2024-06-09T00:00:00",
          "2024-06-10T00:00:00",
          "2024-06-11T00:00:00",
          "2024-06-12T00:00:00",
          "2024-06-13T00:00:00",
          "2024-06-14T00:00:00",
          "2024-06-15T00:00:00",
          "2024-06-16T00:00:00",
          "2024-06-17T00:00:00",
          "2024-06-18T00:00:00",
          "2024-06-19T00:00:00",
          "2024-06-20T00:00:00",
          "2024-06-21T00:00:00",
          "2024-06-22T00:00:00",
          "2024-06-23T00:00:00",
          "2024-06-24T00:00:00",
          "2024-06-25T00:00:00",
          "2024-06-26T00:00:00",
          "2024-06-27T00:00:00",
          "2024-06-28T00:00:00",
          "2024-06-29T00:00:00",
          "2024-06-30T00:00:00",
          "2024-07-01T00:00:00",
          "2024-07-02T00:00:00",
          "2024-07-03T00:00:00",
          "2024-07-04T00:00:00",
          "2024-07-05T00:00:00",
          "2024-07-06T00:00:00",
          "2024-07-07T00:00:00",
          "2024-07-08T00:00:00",
          "2024-07-09T00:00:00",
          "2024-07-10T00:00:00",
          "2024-07-11T00:00:00",
          "2024-07-12T00:00:00",
          "2024-07-13T00:00:00",
          "2024-07-14T00:00:00",
          "2024-07-15T00:00:00",
          "2024-07-16T00:00:00",
          "2024-07-17T00:00:00",
          "2024-07-18T00:00:00",
          "2024-07-19T00:00:00",
          "2024-07-20T00:00:00",
          "2024-07-21T00:00:00",
          "2024-07-22T00:00:00",
          "2024-07-23T00:00:00",
          "2024-07-24T00:00:00",
          "2024-07-25T00:00:00",
          "2024-07-26T00:00:00",
          "2024-07-27T00:00:00",
          "2024-07-28T00:00:00",
          "2024-07-29T00:00:00",
          "2024-07-30T00:00:00",
          "2024-07-31T00:00:00",
          "2024-08-01T00:00:00",
          "2024-08-02T00:00:00",
          "2024-08-03T00:00:00",
          "2024-08-04T00:00:00",
          "2024-08-05T00:00:00",
          "2024-08-06T00:00:00",
          "2024-08-07T00:00:00",
          "2024-08-08T00:00:00",
          "2024-08-09T00:00:00",
          "2024-08-10T00:00:00",
          "2024-08-11T00:00:00",
          "2024-08-12T00:00:00",
          "2024-08-13T00:00:00",
          "2024-08-14T00:00:00",
          "2024-08-15T00:00:00",
          "2024-08-16T00:00:00",
          "2024-08-17T00:00:00",
          "2024-08-18T00:00:00",
          "2024-08-19T00:00:00",
          "2024-08-20T00:00:00",
          "2024-08-21T00:00:00",
          "2024-08-22T00:00:00",
          "2024-08-23T00:00:00",
          "2024-08-24T00:00:00",
          "2024-08-25T00:00:00",
          "2024-08-26T00:00:00",
          "2024-08-27T00:00:00",
          "2024-08-28T00:00:00",
          "2024-08-29T00:00:00",
          "2024-08-30T00:00:00",
          "2024-08-31T00:00:00",
          "2024-09-01T00:00:00",
          "2024-09-02T00:00:00",
          "2024-09-03T00:00:00",
          "2024-09-04T00:00:00",
          "2024-09-05T00:00:00",
          "2024-09-06T00:00:00",
          "2024-09-07T00:00:00",
          "2024-09-08T00:00:00",
          "2024-09-09T00:00:00",
          "2024-09-10T00:00:00",
          "2024-09-11T00:00:00",
          "2024-09-12T00:00:00",
          "2024-09-13T00:00:00",
          "2024-09-14T00:00:00",
          "2024-09-15T00:00:00",
          "2024-09-16T00:00:00",
          "2024-09-17T00:00:00",
          "2024-09-18T00:00:00",
          "2024-09-19T00:00:00",
          "2024-09-20T00:00:00",
          "2024-09-21T00:00:00",
          "2024-09-22T00:00:00",
          "2024-09-23T00:00:00",
          "2024-09-24T00:00:00",
          "2024-09-25T00:00:00",
          "2024-09-26T00:00:00",
          "2024-09-27T00:00:00",
          "2024-09-28T00:00:00",
          "2024-09-29T00:00:00",
          "2024-09-30T00:00:00",
          "2024-10-01T00:00:00",
          "2024-10-02T00:00:00",
          "2024-10-03T00:00:00",
          "2024-10-04T00:00:00",
          "2024-10-05T00:00:00",
          "2024-10-06T00:00:00",
          "2024-10-07T00:00:00",
          "2024-10-08T00:00:00",
          "2024-10-09T00:00:00",
          "2024-10-10T00:00:00",
          "2024-10-11T00:00:00",
          "2024-10-12T00:00:00",
          "2024-10-13T00:00:00",
          "2024-10-14T00:00:00",
          "2024-10-15T00:00:00",
          "2024-10-16T00:00:00",
          "2024-10-17T00:00:00",
          "2024-10-18T00:00:00",
          "2024-10-19T00:00:00",
          "2024-10-20T00:00:00",
          "2024-10-21T00:00:00",
          "2024-10-22T00:00:00",
          "2024-10-23T00:00:00",
          "2024-10-24T00:00:00",
          "2024-10-25T00:00:00",
          "2024-10-26T00:00:00",
          "2024-10-27T00:00:00",
          "2024-10-28T00:00:00",
          "2024-10-29T00:00:00",
          "2024-10-30T00:00:00",
          "2024-10-31T00:00:00",
          "2024-11-01T00:00:00",
          "2024-11-02T00:00:00"
         ],
         "xaxis": "x",
         "y": [
          0,
          19.486281669150515,
          10.427426612687093,
          25.666680597014924,
          0,
          13.160296460176983,
          0,
          11.787665648854956,
          0,
          12.910830446157092,
          22.928749796105993,
          0,
          0,
          0,
          0,
          0,
          25.456871367991205,
          10.256129392971264,
          9.157236421725248,
          26.95044325153374,
          11.632335809806834,
          0,
          37.00877996965099,
          21.814169977924934,
          0,
          14.33455133928571,
          12.507971014492753,
          20.901656034112328,
          17.889180431351914,
          45.198174863387976,
          15.818491108071125,
          12.049751602564095,
          258.1365206185567,
          0,
          9.830852339181291,
          0,
          109.74513026819925,
          41.24417010561654,
          12.60276139817628,
          47.9201756198347,
          0,
          12.100596938775501,
          0,
          16.462880668257764,
          9.758655589123874,
          22.173972399150752,
          24.106070652173912,
          27.08115589353612,
          36.51978969957081,
          0,
          10.998413306451614,
          17.456114545454547,
          20.924355432780846,
          20.24726495726496,
          18.58286226415095,
          47.12748423423423,
          36.680737209302336,
          51.41104811715483,
          17.584462962962956,
          34.26066590389016,
          26.012649999999994,
          55.579018348623855,
          10.765418524871338,
          59.91226546906188,
          26.65647993311037,
          15.296177358490564,
          45.427463796477504,
          0,
          0,
          15.678654804270469,
          26.961349122807007,
          15.86526198630137,
          9.468243713733077,
          27.29560545454547,
          16.904716945996288,
          45.03990207156307,
          0,
          37.470553278688534,
          0,
          26.035129699248124,
          14.600115577889452,
          0,
          8.527770093457956,
          29.422458987783582,
          24.448867826086957,
          0,
          0,
          14.492368932038826,
          12.82691304347826,
          0,
          0,
          21.397107216494838,
          0,
          42.508939958592116,
          12.601532490974728,
          0,
          15.532820960698677,
          22.586675461741425,
          13.748290666666657,
          0,
          0,
          0,
          11.500161354581685,
          0,
          0,
          26.52150281425891,
          0,
          0,
          8.728063583815011,
          0,
          19.655954802259892,
          15.247492900608522,
          0,
          0,
          11.328974951830443,
          14.84634423076923,
          0,
          60.766654891304334,
          0,
          0,
          0,
          9.80891058394162,
          0,
          10.29177152899823,
          16.942437386569885,
          0,
          0,
          0,
          0,
          0,
          10.054887295081963,
          12.10533165829145,
          10.061827534039336,
          0,
          10.666170289855074,
          11.378284810126583,
          24.59595312500001,
          0,
          22.455972602739728,
          0,
          159.2164482368471,
          19.11530952380952,
          9.863722316865426,
          11.023467803030288,
          0,
          17.992250320689017,
          0,
          16.53859099437147,
          8.30442805100181,
          10.849989130434773,
          32.97330688935282,
          0,
          0,
          20.05266034155598,
          34.52609133489462,
          0,
          9.753198979591847,
          0,
          0,
          0,
          0,
          0,
          0,
          0,
          9.790545554016857,
          8.828948504983392,
          24.681685964912276,
          0,
          24.83808846153846,
          11.618342359767885,
          9.119181380417336,
          16.32592295081967,
          0,
          0,
          0,
          0,
          9.958903174603169,
          10.358217252396157,
          0,
          16.36200447761193,
          8.473923741007196,
          0,
          19.162404726735595,
          0,
          23.124417151162792,
          10.819824817518255,
          27.81687716535433,
          0,
          0,
          14.997229729729735,
          0,
          0,
          0,
          8.823971514242864,
          9.885511705685635,
          0,
          10.011345489443375,
          0,
          0,
          17.150048739495805,
          27.83955456570158,
          0,
          0,
          35.268186170212765,
          0,
          0,
          0,
          16.203332075471707,
          14.898191489361702,
          13.59611178861791,
          0,
          19.216694560669463,
          13.11620478723404,
          18.85792887029289,
          12.54586336633663,
          0,
          0,
          8.662533333333345,
          0,
          0,
          0,
          0,
          9.880149425287353,
          17.32278738738738,
          0,
          0,
          10.424613287904597,
          10.497778115501537,
          0,
          14.44934186746988,
          0,
          47.91596729776248,
          17.105876500857633,
          14.535357271095142,
          0,
          32.87644385964912,
          12.085738670694877,
          22.406282758620694
         ],
         "yaxis": "y"
        },
        {
         "mode": "lines",
         "name": "Mensual",
         "type": "scatter",
         "x": [
          "2024-03-31T00:00:00",
          "2024-04-30T00:00:00",
          "2024-05-31T00:00:00",
          "2024-06-30T00:00:00",
          "2024-07-31T00:00:00",
          "2024-08-31T00:00:00",
          "2024-09-30T00:00:00",
          "2024-10-31T00:00:00",
          "2024-11-30T00:00:00"
         ],
         "xaxis": "x2",
         "y": [
          10.77682905923966,
          28.387037015547342,
          23.558569589060568,
          9.707305033336004,
          13.694273186100006,
          8.264297781237039,
          8.335080680696706,
          9.42274758981396,
          17.246010714657785
         ],
         "yaxis": "y2"
        }
       ],
       "layout": {
        "annotations": [
         {
          "font": {
           "size": 16
          },
          "showarrow": false,
          "text": "Desviación diaria de energía",
          "x": 0.225,
          "xanchor": "center",
          "xref": "paper",
          "y": 1,
          "yanchor": "bottom",
          "yref": "paper"
         },
         {
          "font": {
           "size": 16
          },
          "showarrow": false,
          "text": "Desviación promedio mensual de energía",
          "x": 0.775,
          "xanchor": "center",
          "xref": "paper",
          "y": 1,
          "yanchor": "bottom",
          "yref": "paper"
         },
         {
          "showarrow": false,
          "text": "X̅: 14.00<br>σ: 168.78%",
          "x": 0.95,
          "xref": "x domain",
          "y": 0.95,
          "yref": "y domain"
         },
         {
          "showarrow": false,
          "text": "X̅: 14.38<br>σ: 50.55%",
          "x": 0.95,
          "xref": "x2 domain",
          "y": 0.95,
          "yref": "y2 domain"
         }
        ],
        "height": 400,
        "template": {
         "data": {
          "bar": [
           {
            "error_x": {
             "color": "#2a3f5f"
            },
            "error_y": {
             "color": "#2a3f5f"
            },
            "marker": {
             "line": {
              "color": "#E5ECF6",
              "width": 0.5
             },
             "pattern": {
              "fillmode": "overlay",
              "size": 10,
              "solidity": 0.2
             }
            },
            "type": "bar"
           }
          ],
          "barpolar": [
           {
            "marker": {
             "line": {
              "color": "#E5ECF6",
              "width": 0.5
             },
             "pattern": {
              "fillmode": "overlay",
              "size": 10,
              "solidity": 0.2
             }
            },
            "type": "barpolar"
           }
          ],
          "carpet": [
           {
            "aaxis": {
             "endlinecolor": "#2a3f5f",
             "gridcolor": "white",
             "linecolor": "white",
             "minorgridcolor": "white",
             "startlinecolor": "#2a3f5f"
            },
            "baxis": {
             "endlinecolor": "#2a3f5f",
             "gridcolor": "white",
             "linecolor": "white",
             "minorgridcolor": "white",
             "startlinecolor": "#2a3f5f"
            },
            "type": "carpet"
           }
          ],
          "choropleth": [
           {
            "colorbar": {
             "outlinewidth": 0,
             "ticks": ""
            },
            "type": "choropleth"
           }
          ],
          "contour": [
           {
            "colorbar": {
             "outlinewidth": 0,
             "ticks": ""
            },
            "colorscale": [
             [
              0,
              "#0d0887"
             ],
             [
              0.1111111111111111,
              "#46039f"
             ],
             [
              0.2222222222222222,
              "#7201a8"
             ],
             [
              0.3333333333333333,
              "#9c179e"
             ],
             [
              0.4444444444444444,
              "#bd3786"
             ],
             [
              0.5555555555555556,
              "#d8576b"
             ],
             [
              0.6666666666666666,
              "#ed7953"
             ],
             [
              0.7777777777777778,
              "#fb9f3a"
             ],
             [
              0.8888888888888888,
              "#fdca26"
             ],
             [
              1,
              "#f0f921"
             ]
            ],
            "type": "contour"
           }
          ],
          "contourcarpet": [
           {
            "colorbar": {
             "outlinewidth": 0,
             "ticks": ""
            },
            "type": "contourcarpet"
           }
          ],
          "heatmap": [
           {
            "colorbar": {
             "outlinewidth": 0,
             "ticks": ""
            },
            "colorscale": [
             [
              0,
              "#0d0887"
             ],
             [
              0.1111111111111111,
              "#46039f"
             ],
             [
              0.2222222222222222,
              "#7201a8"
             ],
             [
              0.3333333333333333,
              "#9c179e"
             ],
             [
              0.4444444444444444,
              "#bd3786"
             ],
             [
              0.5555555555555556,
              "#d8576b"
             ],
             [
              0.6666666666666666,
              "#ed7953"
             ],
             [
              0.7777777777777778,
              "#fb9f3a"
             ],
             [
              0.8888888888888888,
              "#fdca26"
             ],
             [
              1,
              "#f0f921"
             ]
            ],
            "type": "heatmap"
           }
          ],
          "heatmapgl": [
           {
            "colorbar": {
             "outlinewidth": 0,
             "ticks": ""
            },
            "colorscale": [
             [
              0,
              "#0d0887"
             ],
             [
              0.1111111111111111,
              "#46039f"
             ],
             [
              0.2222222222222222,
              "#7201a8"
             ],
             [
              0.3333333333333333,
              "#9c179e"
             ],
             [
              0.4444444444444444,
              "#bd3786"
             ],
             [
              0.5555555555555556,
              "#d8576b"
             ],
             [
              0.6666666666666666,
              "#ed7953"
             ],
             [
              0.7777777777777778,
              "#fb9f3a"
             ],
             [
              0.8888888888888888,
              "#fdca26"
             ],
             [
              1,
              "#f0f921"
             ]
            ],
            "type": "heatmapgl"
           }
          ],
          "histogram": [
           {
            "marker": {
             "pattern": {
              "fillmode": "overlay",
              "size": 10,
              "solidity": 0.2
             }
            },
            "type": "histogram"
           }
          ],
          "histogram2d": [
           {
            "colorbar": {
             "outlinewidth": 0,
             "ticks": ""
            },
            "colorscale": [
             [
              0,
              "#0d0887"
             ],
             [
              0.1111111111111111,
              "#46039f"
             ],
             [
              0.2222222222222222,
              "#7201a8"
             ],
             [
              0.3333333333333333,
              "#9c179e"
             ],
             [
              0.4444444444444444,
              "#bd3786"
             ],
             [
              0.5555555555555556,
              "#d8576b"
             ],
             [
              0.6666666666666666,
              "#ed7953"
             ],
             [
              0.7777777777777778,
              "#fb9f3a"
             ],
             [
              0.8888888888888888,
              "#fdca26"
             ],
             [
              1,
              "#f0f921"
             ]
            ],
            "type": "histogram2d"
           }
          ],
          "histogram2dcontour": [
           {
            "colorbar": {
             "outlinewidth": 0,
             "ticks": ""
            },
            "colorscale": [
             [
              0,
              "#0d0887"
             ],
             [
              0.1111111111111111,
              "#46039f"
             ],
             [
              0.2222222222222222,
              "#7201a8"
             ],
             [
              0.3333333333333333,
              "#9c179e"
             ],
             [
              0.4444444444444444,
              "#bd3786"
             ],
             [
              0.5555555555555556,
              "#d8576b"
             ],
             [
              0.6666666666666666,
              "#ed7953"
             ],
             [
              0.7777777777777778,
              "#fb9f3a"
             ],
             [
              0.8888888888888888,
              "#fdca26"
             ],
             [
              1,
              "#f0f921"
             ]
            ],
            "type": "histogram2dcontour"
           }
          ],
          "mesh3d": [
           {
            "colorbar": {
             "outlinewidth": 0,
             "ticks": ""
            },
            "type": "mesh3d"
           }
          ],
          "parcoords": [
           {
            "line": {
             "colorbar": {
              "outlinewidth": 0,
              "ticks": ""
             }
            },
            "type": "parcoords"
           }
          ],
          "pie": [
           {
            "automargin": true,
            "type": "pie"
           }
          ],
          "scatter": [
           {
            "fillpattern": {
             "fillmode": "overlay",
             "size": 10,
             "solidity": 0.2
            },
            "type": "scatter"
           }
          ],
          "scatter3d": [
           {
            "line": {
             "colorbar": {
              "outlinewidth": 0,
              "ticks": ""
             }
            },
            "marker": {
             "colorbar": {
              "outlinewidth": 0,
              "ticks": ""
             }
            },
            "type": "scatter3d"
           }
          ],
          "scattercarpet": [
           {
            "marker": {
             "colorbar": {
              "outlinewidth": 0,
              "ticks": ""
             }
            },
            "type": "scattercarpet"
           }
          ],
          "scattergeo": [
           {
            "marker": {
             "colorbar": {
              "outlinewidth": 0,
              "ticks": ""
             }
            },
            "type": "scattergeo"
           }
          ],
          "scattergl": [
           {
            "marker": {
             "colorbar": {
              "outlinewidth": 0,
              "ticks": ""
             }
            },
            "type": "scattergl"
           }
          ],
          "scattermapbox": [
           {
            "marker": {
             "colorbar": {
              "outlinewidth": 0,
              "ticks": ""
             }
            },
            "type": "scattermapbox"
           }
          ],
          "scatterpolar": [
           {
            "marker": {
             "colorbar": {
              "outlinewidth": 0,
              "ticks": ""
             }
            },
            "type": "scatterpolar"
           }
          ],
          "scatterpolargl": [
           {
            "marker": {
             "colorbar": {
              "outlinewidth": 0,
              "ticks": ""
             }
            },
            "type": "scatterpolargl"
           }
          ],
          "scatterternary": [
           {
            "marker": {
             "colorbar": {
              "outlinewidth": 0,
              "ticks": ""
             }
            },
            "type": "scatterternary"
           }
          ],
          "surface": [
           {
            "colorbar": {
             "outlinewidth": 0,
             "ticks": ""
            },
            "colorscale": [
             [
              0,
              "#0d0887"
             ],
             [
              0.1111111111111111,
              "#46039f"
             ],
             [
              0.2222222222222222,
              "#7201a8"
             ],
             [
              0.3333333333333333,
              "#9c179e"
             ],
             [
              0.4444444444444444,
              "#bd3786"
             ],
             [
              0.5555555555555556,
              "#d8576b"
             ],
             [
              0.6666666666666666,
              "#ed7953"
             ],
             [
              0.7777777777777778,
              "#fb9f3a"
             ],
             [
              0.8888888888888888,
              "#fdca26"
             ],
             [
              1,
              "#f0f921"
             ]
            ],
            "type": "surface"
           }
          ],
          "table": [
           {
            "cells": {
             "fill": {
              "color": "#EBF0F8"
             },
             "line": {
              "color": "white"
             }
            },
            "header": {
             "fill": {
              "color": "#C8D4E3"
             },
             "line": {
              "color": "white"
             }
            },
            "type": "table"
           }
          ]
         },
         "layout": {
          "annotationdefaults": {
           "arrowcolor": "#2a3f5f",
           "arrowhead": 0,
           "arrowwidth": 1
          },
          "autotypenumbers": "strict",
          "coloraxis": {
           "colorbar": {
            "outlinewidth": 0,
            "ticks": ""
           }
          },
          "colorscale": {
           "diverging": [
            [
             0,
             "#8e0152"
            ],
            [
             0.1,
             "#c51b7d"
            ],
            [
             0.2,
             "#de77ae"
            ],
            [
             0.3,
             "#f1b6da"
            ],
            [
             0.4,
             "#fde0ef"
            ],
            [
             0.5,
             "#f7f7f7"
            ],
            [
             0.6,
             "#e6f5d0"
            ],
            [
             0.7,
             "#b8e186"
            ],
            [
             0.8,
             "#7fbc41"
            ],
            [
             0.9,
             "#4d9221"
            ],
            [
             1,
             "#276419"
            ]
           ],
           "sequential": [
            [
             0,
             "#0d0887"
            ],
            [
             0.1111111111111111,
             "#46039f"
            ],
            [
             0.2222222222222222,
             "#7201a8"
            ],
            [
             0.3333333333333333,
             "#9c179e"
            ],
            [
             0.4444444444444444,
             "#bd3786"
            ],
            [
             0.5555555555555556,
             "#d8576b"
            ],
            [
             0.6666666666666666,
             "#ed7953"
            ],
            [
             0.7777777777777778,
             "#fb9f3a"
            ],
            [
             0.8888888888888888,
             "#fdca26"
            ],
            [
             1,
             "#f0f921"
            ]
           ],
           "sequentialminus": [
            [
             0,
             "#0d0887"
            ],
            [
             0.1111111111111111,
             "#46039f"
            ],
            [
             0.2222222222222222,
             "#7201a8"
            ],
            [
             0.3333333333333333,
             "#9c179e"
            ],
            [
             0.4444444444444444,
             "#bd3786"
            ],
            [
             0.5555555555555556,
             "#d8576b"
            ],
            [
             0.6666666666666666,
             "#ed7953"
            ],
            [
             0.7777777777777778,
             "#fb9f3a"
            ],
            [
             0.8888888888888888,
             "#fdca26"
            ],
            [
             1,
             "#f0f921"
            ]
           ]
          },
          "colorway": [
           "#636efa",
           "#EF553B",
           "#00cc96",
           "#ab63fa",
           "#FFA15A",
           "#19d3f3",
           "#FF6692",
           "#B6E880",
           "#FF97FF",
           "#FECB52"
          ],
          "font": {
           "color": "#2a3f5f"
          },
          "geo": {
           "bgcolor": "white",
           "lakecolor": "white",
           "landcolor": "#E5ECF6",
           "showlakes": true,
           "showland": true,
           "subunitcolor": "white"
          },
          "hoverlabel": {
           "align": "left"
          },
          "hovermode": "closest",
          "mapbox": {
           "style": "light"
          },
          "paper_bgcolor": "white",
          "plot_bgcolor": "#E5ECF6",
          "polar": {
           "angularaxis": {
            "gridcolor": "white",
            "linecolor": "white",
            "ticks": ""
           },
           "bgcolor": "#E5ECF6",
           "radialaxis": {
            "gridcolor": "white",
            "linecolor": "white",
            "ticks": ""
           }
          },
          "scene": {
           "xaxis": {
            "backgroundcolor": "#E5ECF6",
            "gridcolor": "white",
            "gridwidth": 2,
            "linecolor": "white",
            "showbackground": true,
            "ticks": "",
            "zerolinecolor": "white"
           },
           "yaxis": {
            "backgroundcolor": "#E5ECF6",
            "gridcolor": "white",
            "gridwidth": 2,
            "linecolor": "white",
            "showbackground": true,
            "ticks": "",
            "zerolinecolor": "white"
           },
           "zaxis": {
            "backgroundcolor": "#E5ECF6",
            "gridcolor": "white",
            "gridwidth": 2,
            "linecolor": "white",
            "showbackground": true,
            "ticks": "",
            "zerolinecolor": "white"
           }
          },
          "shapedefaults": {
           "line": {
            "color": "#2a3f5f"
           }
          },
          "ternary": {
           "aaxis": {
            "gridcolor": "white",
            "linecolor": "white",
            "ticks": ""
           },
           "baxis": {
            "gridcolor": "white",
            "linecolor": "white",
            "ticks": ""
           },
           "bgcolor": "#E5ECF6",
           "caxis": {
            "gridcolor": "white",
            "linecolor": "white",
            "ticks": ""
           }
          },
          "title": {
           "x": 0.05
          },
          "xaxis": {
           "automargin": true,
           "gridcolor": "white",
           "linecolor": "white",
           "ticks": "",
           "title": {
            "standoff": 15
           },
           "zerolinecolor": "white",
           "zerolinewidth": 2
          },
          "yaxis": {
           "automargin": true,
           "gridcolor": "white",
           "linecolor": "white",
           "ticks": "",
           "title": {
            "standoff": 15
           },
           "zerolinecolor": "white",
           "zerolinewidth": 2
          }
         }
        },
        "title": {
         "text": "Desviación Redespacho"
        },
        "width": 1000,
        "xaxis": {
         "anchor": "y",
         "domain": [
          0,
          0.45
         ]
        },
        "xaxis2": {
         "anchor": "y2",
         "domain": [
          0.55,
          1
         ]
        },
        "yaxis": {
         "anchor": "x",
         "domain": [
          0,
          1
         ],
         "title": {
          "text": "Desviación [%]"
         }
        },
        "yaxis2": {
         "anchor": "x2",
         "domain": [
          0,
          1
         ]
        }
       }
      }
     },
     "metadata": {},
     "output_type": "display_data"
    }
   ],
   "source": [
    "# fig_avg_reprog = px.line(monthly_avg_reprog, x=COL_DATE, y=COL_UNIFIED, title='Total mensual')\n",
    "# fig_avg_reprog.update_layout(title='Desviación reprogramada', xaxis_title='Fecha', yaxis_title='Desviación (%)')\n",
    "\n",
    "# Crear la figura con subplots\n",
    "fig = plot_results(\n",
    "    percentage_desv_redesp_penalty, \n",
    "    monthly_avg_redesp, \n",
    "    \"Desviación Redespacho\", \n",
    "    \"Desviación diaria de energía\",\n",
    "    \"Desviación promedio mensual de energía\", \n",
    ")\n",
    "fig.show()\n"
   ]
  },
  {
   "cell_type": "code",
   "execution_count": 103,
   "metadata": {},
   "outputs": [
    {
     "data": {
      "application/vnd.plotly.v1+json": {
       "config": {
        "plotlyServerURL": "https://plot.ly"
       },
       "data": [
        {
         "boxpoints": "all",
         "jitter": 0.3,
         "name": "Despacho",
         "pointpos": -1.8,
         "type": "box",
         "xaxis": "x",
         "y": [
          0,
          34.466747143888306,
          29.04801523194093,
          28.54616355810617,
          0,
          21.396647151898726,
          0,
          0,
          0,
          56.78149084482841,
          46.52536299707709,
          0,
          22.125354854408286,
          0,
          18.04796179401993,
          45.719166920036486,
          0,
          17.029628868451255,
          15.101049910873444,
          0,
          47.8105891816786,
          35.97801631733987,
          0,
          0,
          25.042732421874998,
          0,
          31.683388536866374,
          63.34353644314868,
          56.56865240704732,
          0,
          0,
          561.0073732280468,
          0,
          0,
          0,
          1379.5534864864865,
          244.21043749999993,
          144.07870209244092,
          56.689630584192436,
          0,
          0,
          15.947714285714294,
          0,
          0,
          22.957138888888895,
          23.435227027027025,
          37.701779220779216,
          0,
          26.273424311926604,
          22.118833648393196,
          20.189451672862454,
          19.55974137931035,
          45.48360416666667,
          40.868017632241816,
          21.935097510373453,
          51.41104811715483,
          24.94663864042933,
          16.643958250497015,
          48.84825185185185,
          52.43247640449438,
          0,
          62.248204887218044,
          28.156641285956006,
          15.296177358490564,
          42.26383850931678,
          0,
          0,
          21.064067039106153,
          27.63310229276895,
          23.02784181818182,
          0,
          37.820045275590566,
          16.040356746765262,
          50.422242187499975,
          0,
          30.263359223300977,
          0,
          20.812052252252254,
          0,
          0,
          0,
          16.236785266457673,
          26.651502654867258,
          0,
          0,
          17.06887005649717,
          0,
          0,
          0,
          20.578327083333324,
          16.34339958158995,
          45.87099025341129,
          0,
          0,
          0,
          18.82442455242967,
          0,
          0,
          0,
          0,
          0,
          0,
          0,
          24.973105363984672,
          0,
          0,
          0,
          0,
          15.11381162324649,
          0,
          0,
          0,
          0,
          0,
          0,
          63.814859649122795,
          0,
          0,
          0,
          0,
          0,
          0,
          15.71875322283611,
          75.70826845637583,
          0,
          0,
          0,
          0,
          48.28788851351352,
          46.288268852459005,
          38.81457519748642,
          0,
          0,
          0,
          268.74640462427743,
          46.30613005780346,
          23.632863406408095,
          0,
          674.1094326340984,
          23.176058712121204,
          0,
          0,
          16.491714153777302,
          94.3799879245283,
          0,
          17.419790170132316,
          0,
          0,
          70.11434752417071,
          19.986529310344828,
          249.95296478873246,
          15.397092369477916,
          875.4226693835965,
          0,
          0,
          0,
          0,
          161.52590376569037,
          79.85936326358011,
          16.850899328859057,
          0,
          0,
          0,
          0,
          23.06193727598566,
          0,
          28.285882568807338,
          19.836285964912275,
          0,
          16.32592295081967,
          0,
          0,
          0,
          0,
          0,
          15.104756429652033,
          0,
          23.654690735694814,
          0,
          0,
          17.205670196671708,
          0,
          23.679075036075037,
          0,
          33.570604347826084,
          0,
          0,
          0,
          0,
          0,
          0,
          0,
          0,
          0,
          18.03480944055944,
          0,
          0,
          16.870622259696464,
          0,
          0,
          0,
          24.87912962962963,
          0,
          0,
          0,
          0,
          18.03719262295082,
          0,
          0,
          17.49604123711341,
          0,
          28.538665158371046,
          0,
          0,
          0,
          15.999237226277385,
          0,
          0,
          0,
          0,
          0,
          18.786100884955747,
          0,
          0,
          0,
          0,
          0,
          0,
          0,
          50.95490599675851,
          21.800527508090614,
          17.354503472222213,
          0,
          38.881107028753995,
          0,
          17.149565537555233
         ],
         "yaxis": "y"
        },
        {
         "boxpoints": "all",
         "jitter": 0.3,
         "name": "Redespacho",
         "pointpos": -1.8,
         "type": "box",
         "xaxis": "x2",
         "y": [
          0,
          19.486281669150515,
          10.427426612687093,
          25.666680597014924,
          0,
          13.160296460176983,
          0,
          11.787665648854956,
          0,
          12.910830446157092,
          22.928749796105993,
          0,
          0,
          0,
          0,
          0,
          25.456871367991205,
          10.256129392971264,
          9.157236421725248,
          26.95044325153374,
          11.632335809806834,
          0,
          37.00877996965099,
          21.814169977924934,
          0,
          14.33455133928571,
          12.507971014492753,
          20.901656034112328,
          17.889180431351914,
          45.198174863387976,
          15.818491108071125,
          12.049751602564095,
          258.1365206185567,
          0,
          9.830852339181291,
          0,
          109.74513026819925,
          41.24417010561654,
          12.60276139817628,
          47.9201756198347,
          0,
          12.100596938775501,
          0,
          16.462880668257764,
          9.758655589123874,
          22.173972399150752,
          24.106070652173912,
          27.08115589353612,
          36.51978969957081,
          0,
          10.998413306451614,
          17.456114545454547,
          20.924355432780846,
          20.24726495726496,
          18.58286226415095,
          47.12748423423423,
          36.680737209302336,
          51.41104811715483,
          17.584462962962956,
          34.26066590389016,
          26.012649999999994,
          55.579018348623855,
          10.765418524871338,
          59.91226546906188,
          26.65647993311037,
          15.296177358490564,
          45.427463796477504,
          0,
          0,
          15.678654804270469,
          26.961349122807007,
          15.86526198630137,
          9.468243713733077,
          27.29560545454547,
          16.904716945996288,
          45.03990207156307,
          0,
          37.470553278688534,
          0,
          26.035129699248124,
          14.600115577889452,
          0,
          8.527770093457956,
          29.422458987783582,
          24.448867826086957,
          0,
          0,
          14.492368932038826,
          12.82691304347826,
          0,
          0,
          21.397107216494838,
          0,
          42.508939958592116,
          12.601532490974728,
          0,
          15.532820960698677,
          22.586675461741425,
          13.748290666666657,
          0,
          0,
          0,
          11.500161354581685,
          0,
          0,
          26.52150281425891,
          0,
          0,
          8.728063583815011,
          0,
          19.655954802259892,
          15.247492900608522,
          0,
          0,
          11.328974951830443,
          14.84634423076923,
          0,
          60.766654891304334,
          0,
          0,
          0,
          9.80891058394162,
          0,
          10.29177152899823,
          16.942437386569885,
          0,
          0,
          0,
          0,
          0,
          10.054887295081963,
          12.10533165829145,
          10.061827534039336,
          0,
          10.666170289855074,
          11.378284810126583,
          24.59595312500001,
          0,
          22.455972602739728,
          0,
          159.2164482368471,
          19.11530952380952,
          9.863722316865426,
          11.023467803030288,
          0,
          17.992250320689017,
          0,
          16.53859099437147,
          8.30442805100181,
          10.849989130434773,
          32.97330688935282,
          0,
          0,
          20.05266034155598,
          34.52609133489462,
          0,
          9.753198979591847,
          0,
          0,
          0,
          0,
          0,
          0,
          0,
          9.790545554016857,
          8.828948504983392,
          24.681685964912276,
          0,
          24.83808846153846,
          11.618342359767885,
          9.119181380417336,
          16.32592295081967,
          0,
          0,
          0,
          0,
          9.958903174603169,
          10.358217252396157,
          0,
          16.36200447761193,
          8.473923741007196,
          0,
          19.162404726735595,
          0,
          23.124417151162792,
          10.819824817518255,
          27.81687716535433,
          0,
          0,
          14.997229729729735,
          0,
          0,
          0,
          8.823971514242864,
          9.885511705685635,
          0,
          10.011345489443375,
          0,
          0,
          17.150048739495805,
          27.83955456570158,
          0,
          0,
          35.268186170212765,
          0,
          0,
          0,
          16.203332075471707,
          14.898191489361702,
          13.59611178861791,
          0,
          19.216694560669463,
          13.11620478723404,
          18.85792887029289,
          12.54586336633663,
          0,
          0,
          8.662533333333345,
          0,
          0,
          0,
          0,
          9.880149425287353,
          17.32278738738738,
          0,
          0,
          10.424613287904597,
          10.497778115501537,
          0,
          14.44934186746988,
          0,
          47.91596729776248,
          17.105876500857633,
          14.535357271095142,
          0,
          32.87644385964912,
          12.085738670694877,
          22.406282758620694
         ],
         "yaxis": "y2"
        }
       ],
       "layout": {
        "annotations": [
         {
          "font": {
           "size": 16
          },
          "showarrow": false,
          "text": "Desviación despacho",
          "x": 0.225,
          "xanchor": "center",
          "xref": "paper",
          "y": 1,
          "yanchor": "bottom",
          "yref": "paper"
         },
         {
          "font": {
           "size": 16
          },
          "showarrow": false,
          "text": "Desviación del redespacho",
          "x": 0.775,
          "xanchor": "center",
          "xref": "paper",
          "y": 1,
          "yanchor": "bottom",
          "yref": "paper"
         }
        ],
        "template": {
         "data": {
          "bar": [
           {
            "error_x": {
             "color": "#2a3f5f"
            },
            "error_y": {
             "color": "#2a3f5f"
            },
            "marker": {
             "line": {
              "color": "#E5ECF6",
              "width": 0.5
             },
             "pattern": {
              "fillmode": "overlay",
              "size": 10,
              "solidity": 0.2
             }
            },
            "type": "bar"
           }
          ],
          "barpolar": [
           {
            "marker": {
             "line": {
              "color": "#E5ECF6",
              "width": 0.5
             },
             "pattern": {
              "fillmode": "overlay",
              "size": 10,
              "solidity": 0.2
             }
            },
            "type": "barpolar"
           }
          ],
          "carpet": [
           {
            "aaxis": {
             "endlinecolor": "#2a3f5f",
             "gridcolor": "white",
             "linecolor": "white",
             "minorgridcolor": "white",
             "startlinecolor": "#2a3f5f"
            },
            "baxis": {
             "endlinecolor": "#2a3f5f",
             "gridcolor": "white",
             "linecolor": "white",
             "minorgridcolor": "white",
             "startlinecolor": "#2a3f5f"
            },
            "type": "carpet"
           }
          ],
          "choropleth": [
           {
            "colorbar": {
             "outlinewidth": 0,
             "ticks": ""
            },
            "type": "choropleth"
           }
          ],
          "contour": [
           {
            "colorbar": {
             "outlinewidth": 0,
             "ticks": ""
            },
            "colorscale": [
             [
              0,
              "#0d0887"
             ],
             [
              0.1111111111111111,
              "#46039f"
             ],
             [
              0.2222222222222222,
              "#7201a8"
             ],
             [
              0.3333333333333333,
              "#9c179e"
             ],
             [
              0.4444444444444444,
              "#bd3786"
             ],
             [
              0.5555555555555556,
              "#d8576b"
             ],
             [
              0.6666666666666666,
              "#ed7953"
             ],
             [
              0.7777777777777778,
              "#fb9f3a"
             ],
             [
              0.8888888888888888,
              "#fdca26"
             ],
             [
              1,
              "#f0f921"
             ]
            ],
            "type": "contour"
           }
          ],
          "contourcarpet": [
           {
            "colorbar": {
             "outlinewidth": 0,
             "ticks": ""
            },
            "type": "contourcarpet"
           }
          ],
          "heatmap": [
           {
            "colorbar": {
             "outlinewidth": 0,
             "ticks": ""
            },
            "colorscale": [
             [
              0,
              "#0d0887"
             ],
             [
              0.1111111111111111,
              "#46039f"
             ],
             [
              0.2222222222222222,
              "#7201a8"
             ],
             [
              0.3333333333333333,
              "#9c179e"
             ],
             [
              0.4444444444444444,
              "#bd3786"
             ],
             [
              0.5555555555555556,
              "#d8576b"
             ],
             [
              0.6666666666666666,
              "#ed7953"
             ],
             [
              0.7777777777777778,
              "#fb9f3a"
             ],
             [
              0.8888888888888888,
              "#fdca26"
             ],
             [
              1,
              "#f0f921"
             ]
            ],
            "type": "heatmap"
           }
          ],
          "heatmapgl": [
           {
            "colorbar": {
             "outlinewidth": 0,
             "ticks": ""
            },
            "colorscale": [
             [
              0,
              "#0d0887"
             ],
             [
              0.1111111111111111,
              "#46039f"
             ],
             [
              0.2222222222222222,
              "#7201a8"
             ],
             [
              0.3333333333333333,
              "#9c179e"
             ],
             [
              0.4444444444444444,
              "#bd3786"
             ],
             [
              0.5555555555555556,
              "#d8576b"
             ],
             [
              0.6666666666666666,
              "#ed7953"
             ],
             [
              0.7777777777777778,
              "#fb9f3a"
             ],
             [
              0.8888888888888888,
              "#fdca26"
             ],
             [
              1,
              "#f0f921"
             ]
            ],
            "type": "heatmapgl"
           }
          ],
          "histogram": [
           {
            "marker": {
             "pattern": {
              "fillmode": "overlay",
              "size": 10,
              "solidity": 0.2
             }
            },
            "type": "histogram"
           }
          ],
          "histogram2d": [
           {
            "colorbar": {
             "outlinewidth": 0,
             "ticks": ""
            },
            "colorscale": [
             [
              0,
              "#0d0887"
             ],
             [
              0.1111111111111111,
              "#46039f"
             ],
             [
              0.2222222222222222,
              "#7201a8"
             ],
             [
              0.3333333333333333,
              "#9c179e"
             ],
             [
              0.4444444444444444,
              "#bd3786"
             ],
             [
              0.5555555555555556,
              "#d8576b"
             ],
             [
              0.6666666666666666,
              "#ed7953"
             ],
             [
              0.7777777777777778,
              "#fb9f3a"
             ],
             [
              0.8888888888888888,
              "#fdca26"
             ],
             [
              1,
              "#f0f921"
             ]
            ],
            "type": "histogram2d"
           }
          ],
          "histogram2dcontour": [
           {
            "colorbar": {
             "outlinewidth": 0,
             "ticks": ""
            },
            "colorscale": [
             [
              0,
              "#0d0887"
             ],
             [
              0.1111111111111111,
              "#46039f"
             ],
             [
              0.2222222222222222,
              "#7201a8"
             ],
             [
              0.3333333333333333,
              "#9c179e"
             ],
             [
              0.4444444444444444,
              "#bd3786"
             ],
             [
              0.5555555555555556,
              "#d8576b"
             ],
             [
              0.6666666666666666,
              "#ed7953"
             ],
             [
              0.7777777777777778,
              "#fb9f3a"
             ],
             [
              0.8888888888888888,
              "#fdca26"
             ],
             [
              1,
              "#f0f921"
             ]
            ],
            "type": "histogram2dcontour"
           }
          ],
          "mesh3d": [
           {
            "colorbar": {
             "outlinewidth": 0,
             "ticks": ""
            },
            "type": "mesh3d"
           }
          ],
          "parcoords": [
           {
            "line": {
             "colorbar": {
              "outlinewidth": 0,
              "ticks": ""
             }
            },
            "type": "parcoords"
           }
          ],
          "pie": [
           {
            "automargin": true,
            "type": "pie"
           }
          ],
          "scatter": [
           {
            "fillpattern": {
             "fillmode": "overlay",
             "size": 10,
             "solidity": 0.2
            },
            "type": "scatter"
           }
          ],
          "scatter3d": [
           {
            "line": {
             "colorbar": {
              "outlinewidth": 0,
              "ticks": ""
             }
            },
            "marker": {
             "colorbar": {
              "outlinewidth": 0,
              "ticks": ""
             }
            },
            "type": "scatter3d"
           }
          ],
          "scattercarpet": [
           {
            "marker": {
             "colorbar": {
              "outlinewidth": 0,
              "ticks": ""
             }
            },
            "type": "scattercarpet"
           }
          ],
          "scattergeo": [
           {
            "marker": {
             "colorbar": {
              "outlinewidth": 0,
              "ticks": ""
             }
            },
            "type": "scattergeo"
           }
          ],
          "scattergl": [
           {
            "marker": {
             "colorbar": {
              "outlinewidth": 0,
              "ticks": ""
             }
            },
            "type": "scattergl"
           }
          ],
          "scattermapbox": [
           {
            "marker": {
             "colorbar": {
              "outlinewidth": 0,
              "ticks": ""
             }
            },
            "type": "scattermapbox"
           }
          ],
          "scatterpolar": [
           {
            "marker": {
             "colorbar": {
              "outlinewidth": 0,
              "ticks": ""
             }
            },
            "type": "scatterpolar"
           }
          ],
          "scatterpolargl": [
           {
            "marker": {
             "colorbar": {
              "outlinewidth": 0,
              "ticks": ""
             }
            },
            "type": "scatterpolargl"
           }
          ],
          "scatterternary": [
           {
            "marker": {
             "colorbar": {
              "outlinewidth": 0,
              "ticks": ""
             }
            },
            "type": "scatterternary"
           }
          ],
          "surface": [
           {
            "colorbar": {
             "outlinewidth": 0,
             "ticks": ""
            },
            "colorscale": [
             [
              0,
              "#0d0887"
             ],
             [
              0.1111111111111111,
              "#46039f"
             ],
             [
              0.2222222222222222,
              "#7201a8"
             ],
             [
              0.3333333333333333,
              "#9c179e"
             ],
             [
              0.4444444444444444,
              "#bd3786"
             ],
             [
              0.5555555555555556,
              "#d8576b"
             ],
             [
              0.6666666666666666,
              "#ed7953"
             ],
             [
              0.7777777777777778,
              "#fb9f3a"
             ],
             [
              0.8888888888888888,
              "#fdca26"
             ],
             [
              1,
              "#f0f921"
             ]
            ],
            "type": "surface"
           }
          ],
          "table": [
           {
            "cells": {
             "fill": {
              "color": "#EBF0F8"
             },
             "line": {
              "color": "white"
             }
            },
            "header": {
             "fill": {
              "color": "#C8D4E3"
             },
             "line": {
              "color": "white"
             }
            },
            "type": "table"
           }
          ]
         },
         "layout": {
          "annotationdefaults": {
           "arrowcolor": "#2a3f5f",
           "arrowhead": 0,
           "arrowwidth": 1
          },
          "autotypenumbers": "strict",
          "coloraxis": {
           "colorbar": {
            "outlinewidth": 0,
            "ticks": ""
           }
          },
          "colorscale": {
           "diverging": [
            [
             0,
             "#8e0152"
            ],
            [
             0.1,
             "#c51b7d"
            ],
            [
             0.2,
             "#de77ae"
            ],
            [
             0.3,
             "#f1b6da"
            ],
            [
             0.4,
             "#fde0ef"
            ],
            [
             0.5,
             "#f7f7f7"
            ],
            [
             0.6,
             "#e6f5d0"
            ],
            [
             0.7,
             "#b8e186"
            ],
            [
             0.8,
             "#7fbc41"
            ],
            [
             0.9,
             "#4d9221"
            ],
            [
             1,
             "#276419"
            ]
           ],
           "sequential": [
            [
             0,
             "#0d0887"
            ],
            [
             0.1111111111111111,
             "#46039f"
            ],
            [
             0.2222222222222222,
             "#7201a8"
            ],
            [
             0.3333333333333333,
             "#9c179e"
            ],
            [
             0.4444444444444444,
             "#bd3786"
            ],
            [
             0.5555555555555556,
             "#d8576b"
            ],
            [
             0.6666666666666666,
             "#ed7953"
            ],
            [
             0.7777777777777778,
             "#fb9f3a"
            ],
            [
             0.8888888888888888,
             "#fdca26"
            ],
            [
             1,
             "#f0f921"
            ]
           ],
           "sequentialminus": [
            [
             0,
             "#0d0887"
            ],
            [
             0.1111111111111111,
             "#46039f"
            ],
            [
             0.2222222222222222,
             "#7201a8"
            ],
            [
             0.3333333333333333,
             "#9c179e"
            ],
            [
             0.4444444444444444,
             "#bd3786"
            ],
            [
             0.5555555555555556,
             "#d8576b"
            ],
            [
             0.6666666666666666,
             "#ed7953"
            ],
            [
             0.7777777777777778,
             "#fb9f3a"
            ],
            [
             0.8888888888888888,
             "#fdca26"
            ],
            [
             1,
             "#f0f921"
            ]
           ]
          },
          "colorway": [
           "#636efa",
           "#EF553B",
           "#00cc96",
           "#ab63fa",
           "#FFA15A",
           "#19d3f3",
           "#FF6692",
           "#B6E880",
           "#FF97FF",
           "#FECB52"
          ],
          "font": {
           "color": "#2a3f5f"
          },
          "geo": {
           "bgcolor": "white",
           "lakecolor": "white",
           "landcolor": "#E5ECF6",
           "showlakes": true,
           "showland": true,
           "subunitcolor": "white"
          },
          "hoverlabel": {
           "align": "left"
          },
          "hovermode": "closest",
          "mapbox": {
           "style": "light"
          },
          "paper_bgcolor": "white",
          "plot_bgcolor": "#E5ECF6",
          "polar": {
           "angularaxis": {
            "gridcolor": "white",
            "linecolor": "white",
            "ticks": ""
           },
           "bgcolor": "#E5ECF6",
           "radialaxis": {
            "gridcolor": "white",
            "linecolor": "white",
            "ticks": ""
           }
          },
          "scene": {
           "xaxis": {
            "backgroundcolor": "#E5ECF6",
            "gridcolor": "white",
            "gridwidth": 2,
            "linecolor": "white",
            "showbackground": true,
            "ticks": "",
            "zerolinecolor": "white"
           },
           "yaxis": {
            "backgroundcolor": "#E5ECF6",
            "gridcolor": "white",
            "gridwidth": 2,
            "linecolor": "white",
            "showbackground": true,
            "ticks": "",
            "zerolinecolor": "white"
           },
           "zaxis": {
            "backgroundcolor": "#E5ECF6",
            "gridcolor": "white",
            "gridwidth": 2,
            "linecolor": "white",
            "showbackground": true,
            "ticks": "",
            "zerolinecolor": "white"
           }
          },
          "shapedefaults": {
           "line": {
            "color": "#2a3f5f"
           }
          },
          "ternary": {
           "aaxis": {
            "gridcolor": "white",
            "linecolor": "white",
            "ticks": ""
           },
           "baxis": {
            "gridcolor": "white",
            "linecolor": "white",
            "ticks": ""
           },
           "bgcolor": "#E5ECF6",
           "caxis": {
            "gridcolor": "white",
            "linecolor": "white",
            "ticks": ""
           }
          },
          "title": {
           "x": 0.05
          },
          "xaxis": {
           "automargin": true,
           "gridcolor": "white",
           "linecolor": "white",
           "ticks": "",
           "title": {
            "standoff": 15
           },
           "zerolinecolor": "white",
           "zerolinewidth": 2
          },
          "yaxis": {
           "automargin": true,
           "gridcolor": "white",
           "linecolor": "white",
           "ticks": "",
           "title": {
            "standoff": 15
           },
           "zerolinecolor": "white",
           "zerolinewidth": 2
          }
         }
        },
        "xaxis": {
         "anchor": "y",
         "domain": [
          0,
          0.45
         ]
        },
        "xaxis2": {
         "anchor": "y2",
         "domain": [
          0.55,
          1
         ]
        },
        "yaxis": {
         "anchor": "x",
         "domain": [
          0,
          1
         ]
        },
        "yaxis2": {
         "anchor": "x2",
         "domain": [
          0,
          1
         ]
        }
       }
      }
     },
     "metadata": {},
     "output_type": "display_data"
    }
   ],
   "source": [
    "# Crear la figura con subplots\n",
    "fig = make_subplots(rows=1, cols=2, subplot_titles=(\"Desviación despacho\", \"Desviación del redespacho\"))\n",
    "\n",
    "# Agregar el diagrama de bigotes para el primer DataFrame\n",
    "fig.add_trace(\n",
    "    go.Box(y=percentage_desv_desp_penalty[COL_UNIFIED], name=\"Despacho\", boxpoints='all', jitter=0.3, pointpos=-1.8),\n",
    "    row=1, col=1\n",
    ")\n",
    "\n",
    "# Agregar el diagrama de bigotes para el segundo DataFrame\n",
    "fig.add_trace(\n",
    "    go.Box(y=percentage_desv_redesp_penalty[COL_UNIFIED], name=\"Redespacho\", boxpoints='all', jitter=0.3, pointpos=-1.8),\n",
    "    row=1, col=2\n",
    ")\n"
   ]
  },
  {
   "cell_type": "code",
   "execution_count": 152,
   "metadata": {},
   "outputs": [
    {
     "name": "stdout",
     "output_type": "stream",
     "text": [
      "Media de la desviación del despacho sin extremos:  27.90404297658373\n",
      "Probabilidad de valores medios sin extremos:  0.8446601941747572\n",
      "Media total de la desviación del despacho sin extremos:  23.569434358861987\n",
      "\n",
      "Media de la desviación del despacho con extremos:  316.7547464157196\n",
      "Probabilidad de desviación del despacho de los extremos:  0.15533980582524276\n",
      "Media total de la desviación del despacho con extremos:  49.20462080244189\n"
     ]
    },
    {
     "data": {
      "text/plain": [
       "31.761557972941947"
      ]
     },
     "execution_count": 152,
     "metadata": {},
     "output_type": "execute_result"
    }
   ],
   "source": [
    "def remove_outliers(df):\n",
    "    q1 = df[COL_UNIFIED].quantile(0.25)\n",
    "    q3 = df[COL_UNIFIED].quantile(0.75)\n",
    "    iqr = q3 - q1\n",
    "    return df[(df[COL_UNIFIED] > q1 - 1.5*iqr) & (df[COL_UNIFIED] < q3 + 1.5*iqr)]\n",
    "\n",
    "def get_outliers(df):\n",
    "    q1 = df[COL_UNIFIED].quantile(0.25)\n",
    "    q3 = df[COL_UNIFIED].quantile(0.75)\n",
    "    iqr = q3 - q1\n",
    "    return df[(df[COL_UNIFIED] <= q1 - 1.5*iqr) | (df[COL_UNIFIED] >= q3 + 1.5*iqr)]\n",
    "\n",
    "desv_desp_percentage_without_outliers = remove_outliers(percentage_desv_desp_penalty)\n",
    "desv_redesp_percentage_without_outliers = remove_outliers(percentage_desv_redesp_penalty)\n",
    "\n",
    "desv_desp_percentage_outliers = get_outliers(percentage_desv_desp_penalty)\n",
    "\n",
    "monthly_avg_desp_without_outliers = desv_desp_percentage_without_outliers.resample(\n",
    "    'ME', on=COL_DATE)[COL_UNIFIED].mean().reset_index()\n",
    "monthly_avg_redesp_without_outliers = desv_redesp_percentage_without_outliers.resample(\n",
    "    'ME', on=COL_DATE)[COL_UNIFIED].mean().reset_index()\n",
    "\n",
    "mean_dev_desp_without_outliers = float(desv_desp_percentage_without_outliers[COL_UNIFIED].mean())\n",
    "mean_dev_redesp_without_outliers = float(desv_redesp_percentage_without_outliers[COL_UNIFIED].mean())\n",
    "\n",
    "mean_dev_desp_rem0_without_outliers = float(\n",
    "    desv_desp_percentage_without_outliers[\n",
    "        desv_desp_percentage_without_outliers[COL_UNIFIED] > 0\n",
    "    ][COL_UNIFIED].mean()\n",
    ")\n",
    "prob_dev_desp_rem0_without_outliers = desv_desp_percentage_without_outliers[\n",
    "    desv_desp_percentage_without_outliers[COL_UNIFIED] > 0\n",
    "].shape[0] / percentage_desv_desp_penalty[\n",
    "    percentage_desv_desp_penalty[COL_UNIFIED] > 0\n",
    "].shape[0]\n",
    "total_mean_dev_desp_rem0_without_outliers = mean_dev_desp_rem0_without_outliers*prob_dev_desp_rem0_without_outliers\n",
    "\n",
    "mean_dev_desp_with_outliers = float(desv_desp_percentage_outliers[COL_UNIFIED].mean())\n",
    "prob_dev_desp_with_outliers = 1 - prob_dev_desp_rem0_without_outliers\n",
    "total_mean_dev_desp_with_outliers = mean_dev_desp_with_outliers*prob_dev_desp_with_outliers\n",
    "\n",
    "print(\"Media de la desviación del despacho sin extremos: \", mean_dev_desp_rem0_without_outliers)\n",
    "print(\"Probabilidad de valores medios sin extremos: \", prob_dev_desp_rem0_without_outliers)\n",
    "print(\"Media total de la desviación del despacho sin extremos: \", total_mean_dev_desp_rem0_without_outliers)\n",
    "print()\n",
    "print(\"Media de la desviación del despacho con extremos: \", mean_dev_desp_with_outliers)\n",
    "print(\"Probabilidad de desviación del despacho de los extremos: \", prob_dev_desp_with_outliers)\n",
    "print(\"Media total de la desviación del despacho con extremos: \", total_mean_dev_desp_with_outliers)\n",
    "\n",
    "total_prob = percentage_desv_desp_penalty[percentage_desv_desp_penalty[COL_UNIFIED] > 0].shape[0] / percentage_desv_desp_penalty.shape[0]\n",
    "\n",
    "\n",
    "total_mean = (total_mean_dev_desp_rem0_without_outliers + total_mean_dev_desp_with_outliers) * total_prob\n",
    "total_mean\n"
   ]
  },
  {
   "cell_type": "code",
   "execution_count": 156,
   "metadata": {},
   "outputs": [],
   "source": [
    "fig = plot_results(\n",
    "    desv_desp_percentage_without_outliers, \n",
    "    monthly_avg_desp_without_outliers, \n",
    "    \"Desviación Despacho sin extremos\", \n",
    "    \"Desviación diaria de energía\",\n",
    "    \"Desviación promedio mensual de energía\", \n",
    ")\n",
    "# fig.show()\n",
    "desv_desp_percentage_without_outliers.to_excel(\"desv_desp_percentage_without_outliers.xlsx\")"
   ]
  },
  {
   "cell_type": "code",
   "execution_count": 106,
   "metadata": {},
   "outputs": [
    {
     "data": {
      "application/vnd.plotly.v1+json": {
       "config": {
        "plotlyServerURL": "https://plot.ly"
       },
       "data": [
        {
         "mode": "lines",
         "name": "Horario",
         "type": "scatter",
         "x": [
          "2024-03-08T00:00:00",
          "2024-03-09T00:00:00",
          "2024-03-10T00:00:00",
          "2024-03-11T00:00:00",
          "2024-03-12T00:00:00",
          "2024-03-13T00:00:00",
          "2024-03-14T00:00:00",
          "2024-03-15T00:00:00",
          "2024-03-16T00:00:00",
          "2024-03-17T00:00:00",
          "2024-03-18T00:00:00",
          "2024-03-19T00:00:00",
          "2024-03-20T00:00:00",
          "2024-03-21T00:00:00",
          "2024-03-22T00:00:00",
          "2024-03-23T00:00:00",
          "2024-03-24T00:00:00",
          "2024-03-25T00:00:00",
          "2024-03-26T00:00:00",
          "2024-03-27T00:00:00",
          "2024-03-28T00:00:00",
          "2024-03-29T00:00:00",
          "2024-03-30T00:00:00",
          "2024-03-31T00:00:00",
          "2024-04-01T00:00:00",
          "2024-04-02T00:00:00",
          "2024-04-03T00:00:00",
          "2024-04-04T00:00:00",
          "2024-04-05T00:00:00",
          "2024-04-07T00:00:00",
          "2024-04-08T00:00:00",
          "2024-04-09T00:00:00",
          "2024-04-11T00:00:00",
          "2024-04-12T00:00:00",
          "2024-04-13T00:00:00",
          "2024-04-15T00:00:00",
          "2024-04-16T00:00:00",
          "2024-04-18T00:00:00",
          "2024-04-19T00:00:00",
          "2024-04-20T00:00:00",
          "2024-04-21T00:00:00",
          "2024-04-22T00:00:00",
          "2024-04-23T00:00:00",
          "2024-04-25T00:00:00",
          "2024-04-26T00:00:00",
          "2024-04-27T00:00:00",
          "2024-04-28T00:00:00",
          "2024-04-29T00:00:00",
          "2024-04-30T00:00:00",
          "2024-05-01T00:00:00",
          "2024-05-02T00:00:00",
          "2024-05-03T00:00:00",
          "2024-05-05T00:00:00",
          "2024-05-07T00:00:00",
          "2024-05-08T00:00:00",
          "2024-05-09T00:00:00",
          "2024-05-11T00:00:00",
          "2024-05-13T00:00:00",
          "2024-05-14T00:00:00",
          "2024-05-15T00:00:00",
          "2024-05-16T00:00:00",
          "2024-05-17T00:00:00",
          "2024-05-18T00:00:00",
          "2024-05-19T00:00:00",
          "2024-05-20T00:00:00",
          "2024-05-21T00:00:00",
          "2024-05-22T00:00:00",
          "2024-05-23T00:00:00",
          "2024-05-24T00:00:00",
          "2024-05-25T00:00:00",
          "2024-05-26T00:00:00",
          "2024-05-27T00:00:00",
          "2024-05-28T00:00:00",
          "2024-05-29T00:00:00",
          "2024-05-30T00:00:00",
          "2024-05-31T00:00:00",
          "2024-06-01T00:00:00",
          "2024-06-02T00:00:00",
          "2024-06-03T00:00:00",
          "2024-06-04T00:00:00",
          "2024-06-05T00:00:00",
          "2024-06-06T00:00:00",
          "2024-06-07T00:00:00",
          "2024-06-08T00:00:00",
          "2024-06-09T00:00:00",
          "2024-06-10T00:00:00",
          "2024-06-11T00:00:00",
          "2024-06-12T00:00:00",
          "2024-06-13T00:00:00",
          "2024-06-14T00:00:00",
          "2024-06-15T00:00:00",
          "2024-06-16T00:00:00",
          "2024-06-17T00:00:00",
          "2024-06-18T00:00:00",
          "2024-06-19T00:00:00",
          "2024-06-20T00:00:00",
          "2024-06-21T00:00:00",
          "2024-06-22T00:00:00",
          "2024-06-23T00:00:00",
          "2024-06-24T00:00:00",
          "2024-06-25T00:00:00",
          "2024-06-26T00:00:00",
          "2024-06-27T00:00:00",
          "2024-06-28T00:00:00",
          "2024-06-29T00:00:00",
          "2024-06-30T00:00:00",
          "2024-07-01T00:00:00",
          "2024-07-02T00:00:00",
          "2024-07-03T00:00:00",
          "2024-07-04T00:00:00",
          "2024-07-06T00:00:00",
          "2024-07-07T00:00:00",
          "2024-07-08T00:00:00",
          "2024-07-09T00:00:00",
          "2024-07-10T00:00:00",
          "2024-07-11T00:00:00",
          "2024-07-12T00:00:00",
          "2024-07-13T00:00:00",
          "2024-07-14T00:00:00",
          "2024-07-15T00:00:00",
          "2024-07-16T00:00:00",
          "2024-07-17T00:00:00",
          "2024-07-18T00:00:00",
          "2024-07-19T00:00:00",
          "2024-07-20T00:00:00",
          "2024-07-21T00:00:00",
          "2024-07-22T00:00:00",
          "2024-07-23T00:00:00",
          "2024-07-24T00:00:00",
          "2024-07-25T00:00:00",
          "2024-07-26T00:00:00",
          "2024-07-27T00:00:00",
          "2024-07-29T00:00:00",
          "2024-07-30T00:00:00",
          "2024-07-31T00:00:00",
          "2024-08-01T00:00:00",
          "2024-08-02T00:00:00",
          "2024-08-03T00:00:00",
          "2024-08-04T00:00:00",
          "2024-08-05T00:00:00",
          "2024-08-06T00:00:00",
          "2024-08-07T00:00:00",
          "2024-08-08T00:00:00",
          "2024-08-09T00:00:00",
          "2024-08-10T00:00:00",
          "2024-08-11T00:00:00",
          "2024-08-12T00:00:00",
          "2024-08-13T00:00:00",
          "2024-08-14T00:00:00",
          "2024-08-15T00:00:00",
          "2024-08-16T00:00:00",
          "2024-08-17T00:00:00",
          "2024-08-18T00:00:00",
          "2024-08-19T00:00:00",
          "2024-08-20T00:00:00",
          "2024-08-21T00:00:00",
          "2024-08-22T00:00:00",
          "2024-08-23T00:00:00",
          "2024-08-24T00:00:00",
          "2024-08-25T00:00:00",
          "2024-08-26T00:00:00",
          "2024-08-27T00:00:00",
          "2024-08-28T00:00:00",
          "2024-08-29T00:00:00",
          "2024-08-30T00:00:00",
          "2024-08-31T00:00:00",
          "2024-09-01T00:00:00",
          "2024-09-02T00:00:00",
          "2024-09-03T00:00:00",
          "2024-09-04T00:00:00",
          "2024-09-05T00:00:00",
          "2024-09-06T00:00:00",
          "2024-09-07T00:00:00",
          "2024-09-08T00:00:00",
          "2024-09-09T00:00:00",
          "2024-09-10T00:00:00",
          "2024-09-11T00:00:00",
          "2024-09-12T00:00:00",
          "2024-09-13T00:00:00",
          "2024-09-14T00:00:00",
          "2024-09-15T00:00:00",
          "2024-09-16T00:00:00",
          "2024-09-17T00:00:00",
          "2024-09-18T00:00:00",
          "2024-09-19T00:00:00",
          "2024-09-20T00:00:00",
          "2024-09-21T00:00:00",
          "2024-09-22T00:00:00",
          "2024-09-23T00:00:00",
          "2024-09-24T00:00:00",
          "2024-09-25T00:00:00",
          "2024-09-26T00:00:00",
          "2024-09-27T00:00:00",
          "2024-09-28T00:00:00",
          "2024-09-29T00:00:00",
          "2024-09-30T00:00:00",
          "2024-10-01T00:00:00",
          "2024-10-02T00:00:00",
          "2024-10-03T00:00:00",
          "2024-10-04T00:00:00",
          "2024-10-05T00:00:00",
          "2024-10-06T00:00:00",
          "2024-10-07T00:00:00",
          "2024-10-08T00:00:00",
          "2024-10-09T00:00:00",
          "2024-10-10T00:00:00",
          "2024-10-11T00:00:00",
          "2024-10-12T00:00:00",
          "2024-10-13T00:00:00",
          "2024-10-14T00:00:00",
          "2024-10-15T00:00:00",
          "2024-10-16T00:00:00",
          "2024-10-17T00:00:00",
          "2024-10-18T00:00:00",
          "2024-10-19T00:00:00",
          "2024-10-20T00:00:00",
          "2024-10-21T00:00:00",
          "2024-10-22T00:00:00",
          "2024-10-23T00:00:00",
          "2024-10-24T00:00:00",
          "2024-10-25T00:00:00",
          "2024-10-26T00:00:00",
          "2024-10-28T00:00:00",
          "2024-10-29T00:00:00",
          "2024-10-30T00:00:00",
          "2024-10-31T00:00:00",
          "2024-11-01T00:00:00",
          "2024-11-02T00:00:00"
         ],
         "xaxis": "x",
         "y": [
          0,
          19.486281669150515,
          10.427426612687093,
          25.666680597014924,
          0,
          13.160296460176983,
          0,
          11.787665648854956,
          0,
          12.910830446157092,
          22.928749796105993,
          0,
          0,
          0,
          0,
          0,
          25.456871367991205,
          10.256129392971264,
          9.157236421725248,
          26.95044325153374,
          11.632335809806834,
          0,
          37.00877996965099,
          21.814169977924934,
          0,
          14.33455133928571,
          12.507971014492753,
          20.901656034112328,
          17.889180431351914,
          45.198174863387976,
          15.818491108071125,
          12.049751602564095,
          0,
          9.830852339181291,
          0,
          41.24417010561654,
          12.60276139817628,
          0,
          12.100596938775501,
          0,
          16.462880668257764,
          9.758655589123874,
          22.173972399150752,
          24.106070652173912,
          27.08115589353612,
          36.51978969957081,
          0,
          10.998413306451614,
          17.456114545454547,
          20.924355432780846,
          20.24726495726496,
          18.58286226415095,
          36.680737209302336,
          17.584462962962956,
          34.26066590389016,
          26.012649999999994,
          10.765418524871338,
          26.65647993311037,
          15.296177358490564,
          45.427463796477504,
          0,
          0,
          15.678654804270469,
          26.961349122807007,
          15.86526198630137,
          9.468243713733077,
          27.29560545454547,
          16.904716945996288,
          45.03990207156307,
          0,
          37.470553278688534,
          0,
          26.035129699248124,
          14.600115577889452,
          0,
          8.527770093457956,
          29.422458987783582,
          24.448867826086957,
          0,
          0,
          14.492368932038826,
          12.82691304347826,
          0,
          0,
          21.397107216494838,
          0,
          42.508939958592116,
          12.601532490974728,
          0,
          15.532820960698677,
          22.586675461741425,
          13.748290666666657,
          0,
          0,
          0,
          11.500161354581685,
          0,
          0,
          26.52150281425891,
          0,
          0,
          8.728063583815011,
          0,
          19.655954802259892,
          15.247492900608522,
          0,
          0,
          11.328974951830443,
          14.84634423076923,
          0,
          0,
          0,
          0,
          9.80891058394162,
          0,
          10.29177152899823,
          16.942437386569885,
          0,
          0,
          0,
          0,
          0,
          10.054887295081963,
          12.10533165829145,
          10.061827534039336,
          0,
          10.666170289855074,
          11.378284810126583,
          24.59595312500001,
          0,
          22.455972602739728,
          0,
          19.11530952380952,
          9.863722316865426,
          11.023467803030288,
          0,
          17.992250320689017,
          0,
          16.53859099437147,
          8.30442805100181,
          10.849989130434773,
          32.97330688935282,
          0,
          0,
          20.05266034155598,
          34.52609133489462,
          0,
          9.753198979591847,
          0,
          0,
          0,
          0,
          0,
          0,
          0,
          9.790545554016857,
          8.828948504983392,
          24.681685964912276,
          0,
          24.83808846153846,
          11.618342359767885,
          9.119181380417336,
          16.32592295081967,
          0,
          0,
          0,
          0,
          9.958903174603169,
          10.358217252396157,
          0,
          16.36200447761193,
          8.473923741007196,
          0,
          19.162404726735595,
          0,
          23.124417151162792,
          10.819824817518255,
          27.81687716535433,
          0,
          0,
          14.997229729729735,
          0,
          0,
          0,
          8.823971514242864,
          9.885511705685635,
          0,
          10.011345489443375,
          0,
          0,
          17.150048739495805,
          27.83955456570158,
          0,
          0,
          35.268186170212765,
          0,
          0,
          0,
          16.203332075471707,
          14.898191489361702,
          13.59611178861791,
          0,
          19.216694560669463,
          13.11620478723404,
          18.85792887029289,
          12.54586336633663,
          0,
          0,
          8.662533333333345,
          0,
          0,
          0,
          0,
          9.880149425287353,
          17.32278738738738,
          0,
          0,
          10.424613287904597,
          10.497778115501537,
          0,
          14.44934186746988,
          0,
          17.105876500857633,
          14.535357271095142,
          0,
          32.87644385964912,
          12.085738670694877,
          22.406282758620694
         ],
         "yaxis": "y"
        },
        {
         "mode": "lines",
         "name": "Mensual",
         "type": "scatter",
         "x": [
          "2024-03-31T00:00:00",
          "2024-04-30T00:00:00",
          "2024-05-31T00:00:00",
          "2024-06-30T00:00:00",
          "2024-07-31T00:00:00",
          "2024-08-31T00:00:00",
          "2024-09-30T00:00:00",
          "2024-10-31T00:00:00",
          "2024-11-30T00:00:00"
         ],
         "xaxis": "x2",
         "y": [
          10.776829059239658,
          15.161408397149396,
          19.12169781821492,
          9.707305033336004,
          7.0530815738258195,
          8.264297781237039,
          8.335080680696706,
          8.139640266215677,
          17.246010714657785
         ],
         "yaxis": "y2"
        }
       ],
       "layout": {
        "annotations": [
         {
          "font": {
           "size": 16
          },
          "showarrow": false,
          "text": "Desviación diaria de energía",
          "x": 0.225,
          "xanchor": "center",
          "xref": "paper",
          "y": 1,
          "yanchor": "bottom",
          "yref": "paper"
         },
         {
          "font": {
           "size": 16
          },
          "showarrow": false,
          "text": "Desviación promedio mensual de energía",
          "x": 0.775,
          "xanchor": "center",
          "xref": "paper",
          "y": 1,
          "yanchor": "bottom",
          "yref": "paper"
         },
         {
          "showarrow": false,
          "text": "X̅: 10.68<br>σ: 106.15%",
          "x": 0.95,
          "xref": "x domain",
          "y": 0.95,
          "yref": "y domain"
         },
         {
          "showarrow": false,
          "text": "X̅: 11.53<br>σ: 38.75%",
          "x": 0.95,
          "xref": "x2 domain",
          "y": 0.95,
          "yref": "y2 domain"
         }
        ],
        "height": 400,
        "template": {
         "data": {
          "bar": [
           {
            "error_x": {
             "color": "#2a3f5f"
            },
            "error_y": {
             "color": "#2a3f5f"
            },
            "marker": {
             "line": {
              "color": "#E5ECF6",
              "width": 0.5
             },
             "pattern": {
              "fillmode": "overlay",
              "size": 10,
              "solidity": 0.2
             }
            },
            "type": "bar"
           }
          ],
          "barpolar": [
           {
            "marker": {
             "line": {
              "color": "#E5ECF6",
              "width": 0.5
             },
             "pattern": {
              "fillmode": "overlay",
              "size": 10,
              "solidity": 0.2
             }
            },
            "type": "barpolar"
           }
          ],
          "carpet": [
           {
            "aaxis": {
             "endlinecolor": "#2a3f5f",
             "gridcolor": "white",
             "linecolor": "white",
             "minorgridcolor": "white",
             "startlinecolor": "#2a3f5f"
            },
            "baxis": {
             "endlinecolor": "#2a3f5f",
             "gridcolor": "white",
             "linecolor": "white",
             "minorgridcolor": "white",
             "startlinecolor": "#2a3f5f"
            },
            "type": "carpet"
           }
          ],
          "choropleth": [
           {
            "colorbar": {
             "outlinewidth": 0,
             "ticks": ""
            },
            "type": "choropleth"
           }
          ],
          "contour": [
           {
            "colorbar": {
             "outlinewidth": 0,
             "ticks": ""
            },
            "colorscale": [
             [
              0,
              "#0d0887"
             ],
             [
              0.1111111111111111,
              "#46039f"
             ],
             [
              0.2222222222222222,
              "#7201a8"
             ],
             [
              0.3333333333333333,
              "#9c179e"
             ],
             [
              0.4444444444444444,
              "#bd3786"
             ],
             [
              0.5555555555555556,
              "#d8576b"
             ],
             [
              0.6666666666666666,
              "#ed7953"
             ],
             [
              0.7777777777777778,
              "#fb9f3a"
             ],
             [
              0.8888888888888888,
              "#fdca26"
             ],
             [
              1,
              "#f0f921"
             ]
            ],
            "type": "contour"
           }
          ],
          "contourcarpet": [
           {
            "colorbar": {
             "outlinewidth": 0,
             "ticks": ""
            },
            "type": "contourcarpet"
           }
          ],
          "heatmap": [
           {
            "colorbar": {
             "outlinewidth": 0,
             "ticks": ""
            },
            "colorscale": [
             [
              0,
              "#0d0887"
             ],
             [
              0.1111111111111111,
              "#46039f"
             ],
             [
              0.2222222222222222,
              "#7201a8"
             ],
             [
              0.3333333333333333,
              "#9c179e"
             ],
             [
              0.4444444444444444,
              "#bd3786"
             ],
             [
              0.5555555555555556,
              "#d8576b"
             ],
             [
              0.6666666666666666,
              "#ed7953"
             ],
             [
              0.7777777777777778,
              "#fb9f3a"
             ],
             [
              0.8888888888888888,
              "#fdca26"
             ],
             [
              1,
              "#f0f921"
             ]
            ],
            "type": "heatmap"
           }
          ],
          "heatmapgl": [
           {
            "colorbar": {
             "outlinewidth": 0,
             "ticks": ""
            },
            "colorscale": [
             [
              0,
              "#0d0887"
             ],
             [
              0.1111111111111111,
              "#46039f"
             ],
             [
              0.2222222222222222,
              "#7201a8"
             ],
             [
              0.3333333333333333,
              "#9c179e"
             ],
             [
              0.4444444444444444,
              "#bd3786"
             ],
             [
              0.5555555555555556,
              "#d8576b"
             ],
             [
              0.6666666666666666,
              "#ed7953"
             ],
             [
              0.7777777777777778,
              "#fb9f3a"
             ],
             [
              0.8888888888888888,
              "#fdca26"
             ],
             [
              1,
              "#f0f921"
             ]
            ],
            "type": "heatmapgl"
           }
          ],
          "histogram": [
           {
            "marker": {
             "pattern": {
              "fillmode": "overlay",
              "size": 10,
              "solidity": 0.2
             }
            },
            "type": "histogram"
           }
          ],
          "histogram2d": [
           {
            "colorbar": {
             "outlinewidth": 0,
             "ticks": ""
            },
            "colorscale": [
             [
              0,
              "#0d0887"
             ],
             [
              0.1111111111111111,
              "#46039f"
             ],
             [
              0.2222222222222222,
              "#7201a8"
             ],
             [
              0.3333333333333333,
              "#9c179e"
             ],
             [
              0.4444444444444444,
              "#bd3786"
             ],
             [
              0.5555555555555556,
              "#d8576b"
             ],
             [
              0.6666666666666666,
              "#ed7953"
             ],
             [
              0.7777777777777778,
              "#fb9f3a"
             ],
             [
              0.8888888888888888,
              "#fdca26"
             ],
             [
              1,
              "#f0f921"
             ]
            ],
            "type": "histogram2d"
           }
          ],
          "histogram2dcontour": [
           {
            "colorbar": {
             "outlinewidth": 0,
             "ticks": ""
            },
            "colorscale": [
             [
              0,
              "#0d0887"
             ],
             [
              0.1111111111111111,
              "#46039f"
             ],
             [
              0.2222222222222222,
              "#7201a8"
             ],
             [
              0.3333333333333333,
              "#9c179e"
             ],
             [
              0.4444444444444444,
              "#bd3786"
             ],
             [
              0.5555555555555556,
              "#d8576b"
             ],
             [
              0.6666666666666666,
              "#ed7953"
             ],
             [
              0.7777777777777778,
              "#fb9f3a"
             ],
             [
              0.8888888888888888,
              "#fdca26"
             ],
             [
              1,
              "#f0f921"
             ]
            ],
            "type": "histogram2dcontour"
           }
          ],
          "mesh3d": [
           {
            "colorbar": {
             "outlinewidth": 0,
             "ticks": ""
            },
            "type": "mesh3d"
           }
          ],
          "parcoords": [
           {
            "line": {
             "colorbar": {
              "outlinewidth": 0,
              "ticks": ""
             }
            },
            "type": "parcoords"
           }
          ],
          "pie": [
           {
            "automargin": true,
            "type": "pie"
           }
          ],
          "scatter": [
           {
            "fillpattern": {
             "fillmode": "overlay",
             "size": 10,
             "solidity": 0.2
            },
            "type": "scatter"
           }
          ],
          "scatter3d": [
           {
            "line": {
             "colorbar": {
              "outlinewidth": 0,
              "ticks": ""
             }
            },
            "marker": {
             "colorbar": {
              "outlinewidth": 0,
              "ticks": ""
             }
            },
            "type": "scatter3d"
           }
          ],
          "scattercarpet": [
           {
            "marker": {
             "colorbar": {
              "outlinewidth": 0,
              "ticks": ""
             }
            },
            "type": "scattercarpet"
           }
          ],
          "scattergeo": [
           {
            "marker": {
             "colorbar": {
              "outlinewidth": 0,
              "ticks": ""
             }
            },
            "type": "scattergeo"
           }
          ],
          "scattergl": [
           {
            "marker": {
             "colorbar": {
              "outlinewidth": 0,
              "ticks": ""
             }
            },
            "type": "scattergl"
           }
          ],
          "scattermapbox": [
           {
            "marker": {
             "colorbar": {
              "outlinewidth": 0,
              "ticks": ""
             }
            },
            "type": "scattermapbox"
           }
          ],
          "scatterpolar": [
           {
            "marker": {
             "colorbar": {
              "outlinewidth": 0,
              "ticks": ""
             }
            },
            "type": "scatterpolar"
           }
          ],
          "scatterpolargl": [
           {
            "marker": {
             "colorbar": {
              "outlinewidth": 0,
              "ticks": ""
             }
            },
            "type": "scatterpolargl"
           }
          ],
          "scatterternary": [
           {
            "marker": {
             "colorbar": {
              "outlinewidth": 0,
              "ticks": ""
             }
            },
            "type": "scatterternary"
           }
          ],
          "surface": [
           {
            "colorbar": {
             "outlinewidth": 0,
             "ticks": ""
            },
            "colorscale": [
             [
              0,
              "#0d0887"
             ],
             [
              0.1111111111111111,
              "#46039f"
             ],
             [
              0.2222222222222222,
              "#7201a8"
             ],
             [
              0.3333333333333333,
              "#9c179e"
             ],
             [
              0.4444444444444444,
              "#bd3786"
             ],
             [
              0.5555555555555556,
              "#d8576b"
             ],
             [
              0.6666666666666666,
              "#ed7953"
             ],
             [
              0.7777777777777778,
              "#fb9f3a"
             ],
             [
              0.8888888888888888,
              "#fdca26"
             ],
             [
              1,
              "#f0f921"
             ]
            ],
            "type": "surface"
           }
          ],
          "table": [
           {
            "cells": {
             "fill": {
              "color": "#EBF0F8"
             },
             "line": {
              "color": "white"
             }
            },
            "header": {
             "fill": {
              "color": "#C8D4E3"
             },
             "line": {
              "color": "white"
             }
            },
            "type": "table"
           }
          ]
         },
         "layout": {
          "annotationdefaults": {
           "arrowcolor": "#2a3f5f",
           "arrowhead": 0,
           "arrowwidth": 1
          },
          "autotypenumbers": "strict",
          "coloraxis": {
           "colorbar": {
            "outlinewidth": 0,
            "ticks": ""
           }
          },
          "colorscale": {
           "diverging": [
            [
             0,
             "#8e0152"
            ],
            [
             0.1,
             "#c51b7d"
            ],
            [
             0.2,
             "#de77ae"
            ],
            [
             0.3,
             "#f1b6da"
            ],
            [
             0.4,
             "#fde0ef"
            ],
            [
             0.5,
             "#f7f7f7"
            ],
            [
             0.6,
             "#e6f5d0"
            ],
            [
             0.7,
             "#b8e186"
            ],
            [
             0.8,
             "#7fbc41"
            ],
            [
             0.9,
             "#4d9221"
            ],
            [
             1,
             "#276419"
            ]
           ],
           "sequential": [
            [
             0,
             "#0d0887"
            ],
            [
             0.1111111111111111,
             "#46039f"
            ],
            [
             0.2222222222222222,
             "#7201a8"
            ],
            [
             0.3333333333333333,
             "#9c179e"
            ],
            [
             0.4444444444444444,
             "#bd3786"
            ],
            [
             0.5555555555555556,
             "#d8576b"
            ],
            [
             0.6666666666666666,
             "#ed7953"
            ],
            [
             0.7777777777777778,
             "#fb9f3a"
            ],
            [
             0.8888888888888888,
             "#fdca26"
            ],
            [
             1,
             "#f0f921"
            ]
           ],
           "sequentialminus": [
            [
             0,
             "#0d0887"
            ],
            [
             0.1111111111111111,
             "#46039f"
            ],
            [
             0.2222222222222222,
             "#7201a8"
            ],
            [
             0.3333333333333333,
             "#9c179e"
            ],
            [
             0.4444444444444444,
             "#bd3786"
            ],
            [
             0.5555555555555556,
             "#d8576b"
            ],
            [
             0.6666666666666666,
             "#ed7953"
            ],
            [
             0.7777777777777778,
             "#fb9f3a"
            ],
            [
             0.8888888888888888,
             "#fdca26"
            ],
            [
             1,
             "#f0f921"
            ]
           ]
          },
          "colorway": [
           "#636efa",
           "#EF553B",
           "#00cc96",
           "#ab63fa",
           "#FFA15A",
           "#19d3f3",
           "#FF6692",
           "#B6E880",
           "#FF97FF",
           "#FECB52"
          ],
          "font": {
           "color": "#2a3f5f"
          },
          "geo": {
           "bgcolor": "white",
           "lakecolor": "white",
           "landcolor": "#E5ECF6",
           "showlakes": true,
           "showland": true,
           "subunitcolor": "white"
          },
          "hoverlabel": {
           "align": "left"
          },
          "hovermode": "closest",
          "mapbox": {
           "style": "light"
          },
          "paper_bgcolor": "white",
          "plot_bgcolor": "#E5ECF6",
          "polar": {
           "angularaxis": {
            "gridcolor": "white",
            "linecolor": "white",
            "ticks": ""
           },
           "bgcolor": "#E5ECF6",
           "radialaxis": {
            "gridcolor": "white",
            "linecolor": "white",
            "ticks": ""
           }
          },
          "scene": {
           "xaxis": {
            "backgroundcolor": "#E5ECF6",
            "gridcolor": "white",
            "gridwidth": 2,
            "linecolor": "white",
            "showbackground": true,
            "ticks": "",
            "zerolinecolor": "white"
           },
           "yaxis": {
            "backgroundcolor": "#E5ECF6",
            "gridcolor": "white",
            "gridwidth": 2,
            "linecolor": "white",
            "showbackground": true,
            "ticks": "",
            "zerolinecolor": "white"
           },
           "zaxis": {
            "backgroundcolor": "#E5ECF6",
            "gridcolor": "white",
            "gridwidth": 2,
            "linecolor": "white",
            "showbackground": true,
            "ticks": "",
            "zerolinecolor": "white"
           }
          },
          "shapedefaults": {
           "line": {
            "color": "#2a3f5f"
           }
          },
          "ternary": {
           "aaxis": {
            "gridcolor": "white",
            "linecolor": "white",
            "ticks": ""
           },
           "baxis": {
            "gridcolor": "white",
            "linecolor": "white",
            "ticks": ""
           },
           "bgcolor": "#E5ECF6",
           "caxis": {
            "gridcolor": "white",
            "linecolor": "white",
            "ticks": ""
           }
          },
          "title": {
           "x": 0.05
          },
          "xaxis": {
           "automargin": true,
           "gridcolor": "white",
           "linecolor": "white",
           "ticks": "",
           "title": {
            "standoff": 15
           },
           "zerolinecolor": "white",
           "zerolinewidth": 2
          },
          "yaxis": {
           "automargin": true,
           "gridcolor": "white",
           "linecolor": "white",
           "ticks": "",
           "title": {
            "standoff": 15
           },
           "zerolinecolor": "white",
           "zerolinewidth": 2
          }
         }
        },
        "title": {
         "text": "Desviación Redespacho sin outliers"
        },
        "width": 1000,
        "xaxis": {
         "anchor": "y",
         "domain": [
          0,
          0.45
         ]
        },
        "xaxis2": {
         "anchor": "y2",
         "domain": [
          0.55,
          1
         ]
        },
        "yaxis": {
         "anchor": "x",
         "domain": [
          0,
          1
         ],
         "title": {
          "text": "Desviación [%]"
         }
        },
        "yaxis2": {
         "anchor": "x2",
         "domain": [
          0,
          1
         ]
        }
       }
      }
     },
     "metadata": {},
     "output_type": "display_data"
    }
   ],
   "source": [
    "fig = plot_results(\n",
    "    desv_redesp_percentage_without_outliers, \n",
    "    monthly_avg_redesp_without_outliers, \n",
    "    \"Desviación Redespacho sin outliers\", \n",
    "    \"Desviación diaria de energía\",\n",
    "    \"Desviación promedio mensual de energía\", \n",
    ")\n",
    "fig.show()"
   ]
  },
  {
   "cell_type": "code",
   "execution_count": 107,
   "metadata": {},
   "outputs": [
    {
     "data": {
      "application/vnd.plotly.v1+json": {
       "config": {
        "plotlyServerURL": "https://plot.ly"
       },
       "data": [
        {
         "alignmentgroup": "True",
         "boxpoints": "all",
         "hovertemplate": "Total=%{y}<extra></extra>",
         "jitter": 0.3,
         "legendgroup": "",
         "marker": {
          "color": "#636efa"
         },
         "name": "",
         "notched": false,
         "offsetgroup": "",
         "orientation": "v",
         "pointpos": -1.8,
         "showlegend": false,
         "type": "box",
         "x0": " ",
         "xaxis": "x",
         "y": [
          613679.52,
          540247.05,
          782831.0700000001,
          498033.24,
          671895.52,
          767226.8099999999,
          575537.23,
          577790.79,
          713940.27,
          638759.1499999999,
          519745.39,
          518285.5900000001,
          602273.3999999999,
          583626.49,
          710648.73,
          511181.27,
          718905.51,
          561796.6299999999,
          683324.3,
          476283.11,
          751285.62,
          606363.3800000001,
          415112.14,
          551818.19,
          559475.22,
          383781.21,
          422586.5,
          365763.78,
          560268.33,
          619409.3,
          797137.98,
          615366.8300000001,
          548809.55,
          694784.85,
          620717.56,
          616756.97,
          613527.45,
          547434.79,
          605810.3699999999,
          575073.8300000001,
          252066.35000000003,
          500973.03,
          344565.66000000003,
          568143.8,
          487979.47000000003,
          298698.85,
          575439.41,
          744890.01,
          685065.51,
          668446.88,
          636182.22,
          443639.39,
          550552.13,
          646008.63,
          429380.75,
          373242.8,
          628489.17,
          234753.97,
          587727.17,
          723744.81,
          698451.71,
          586719.11,
          207164.58000000002,
          678324.52,
          645762.3899999999,
          200839.55,
          757405.75,
          611069.74,
          278865.66,
          518658.92000000004,
          576897.02,
          650114.04,
          723679.69,
          676653.13,
          468049.18,
          700125.8300000001,
          627778.3300000001,
          770161.8799999999,
          508028.43,
          670856.3,
          578666.82,
          670506.89,
          456108.46,
          507556.83999999997,
          580623.5700000001,
          741590.69,
          715580.99,
          575310.45,
          478135.38,
          440364.30000000005,
          481195.44,
          524263.61999999994,
          538260.9199999999,
          381224.03,
          556121.45,
          277681.82000000007,
          484187.51,
          527224.08,
          529140.32,
          464603.5,
          426556.08999999997,
          617813.57,
          518139.18,
          440710.18999999994,
          559730.81,
          492762.31,
          535804.17,
          391640.39,
          531802.8,
          543862.25,
          564298.6499999999,
          498854.58999999997,
          423582.08,
          568170.14,
          588313.46,
          591657.1799999999,
          577797.38,
          597200.99,
          477677.83999999997,
          144378.71000000002,
          558699.46,
          562382.12,
          622168.1199999999,
          601752.8300000001,
          548385.3,
          510439.82000000007,
          457647.1699999999,
          523610.64,
          614866.76,
          544323.4299999999,
          618926.8,
          569530.36,
          438932.15,
          446179.22,
          545631.51,
          520590.36,
          610877.26,
          703910.76,
          637931.28,
          506219.20999999996,
          452857.12,
          592875.49,
          549849.93,
          650369.59,
          529099.95,
          586203.9099999999,
          616641.48,
          643883.71,
          566405.57,
          621150.69,
          594591.3099999999,
          611891.94,
          636942.14,
          464078.13,
          496933.2100000001,
          421322.48,
          574426.41,
          635773.55,
          645348.81,
          675312.3200000001,
          701868.5,
          625046.91,
          659760.53,
          696431.36,
          601673.3999999999,
          661933.23,
          527644.12,
          548849.73,
          429314.39,
          464219.76999999996,
          390841.94,
          456933.17000000004,
          679812.5,
          709588.13,
          723549.2,
          694525.31,
          638436.94,
          530334.0800000001,
          692741.09,
          561157.56,
          719236.49,
          560374.5700000001,
          753893.77,
          631199.49,
          547270.52,
          686050.1300000001,
          528904.01,
          610884.2,
          458362.83,
          627957.63,
          680658.22,
          765881.55,
          704816.3699999999,
          642394.3899999999,
          741604.06,
          608144.1100000001,
          657115.3600000001,
          606033.03,
          468840.89,
          642974.5900000001,
          594535.5,
          492957.20999999996,
          573999.6000000001,
          548475.17,
          460586.72,
          243391.62,
          537450.37,
          583138,
          460065.04000000004,
          615877.66,
          399978.5,
          558892.8700000001,
          384977.26,
          569855.8,
          425316.93,
          568140.9,
          441643.39,
          631949.92,
          610089.89,
          635675.8200000001,
          581151.8200000001,
          517807.69999999995,
          572651.97,
          607577.38,
          548829.89,
          458858.53,
          562149.5700000001,
          572215.13,
          525807.52,
          588924.6199999999,
          580485.4700000001,
          568056.37,
          591510.73,
          302608.23,
          483272.74,
          476038.06000000006,
          528570.8699999999,
          382604.27,
          581992.4099999999,
          562554.45
         ],
         "y0": " ",
         "yaxis": "y"
        }
       ],
       "layout": {
        "boxmode": "group",
        "legend": {
         "tracegroupgap": 0
        },
        "template": {
         "data": {
          "bar": [
           {
            "error_x": {
             "color": "#2a3f5f"
            },
            "error_y": {
             "color": "#2a3f5f"
            },
            "marker": {
             "line": {
              "color": "#E5ECF6",
              "width": 0.5
             },
             "pattern": {
              "fillmode": "overlay",
              "size": 10,
              "solidity": 0.2
             }
            },
            "type": "bar"
           }
          ],
          "barpolar": [
           {
            "marker": {
             "line": {
              "color": "#E5ECF6",
              "width": 0.5
             },
             "pattern": {
              "fillmode": "overlay",
              "size": 10,
              "solidity": 0.2
             }
            },
            "type": "barpolar"
           }
          ],
          "carpet": [
           {
            "aaxis": {
             "endlinecolor": "#2a3f5f",
             "gridcolor": "white",
             "linecolor": "white",
             "minorgridcolor": "white",
             "startlinecolor": "#2a3f5f"
            },
            "baxis": {
             "endlinecolor": "#2a3f5f",
             "gridcolor": "white",
             "linecolor": "white",
             "minorgridcolor": "white",
             "startlinecolor": "#2a3f5f"
            },
            "type": "carpet"
           }
          ],
          "choropleth": [
           {
            "colorbar": {
             "outlinewidth": 0,
             "ticks": ""
            },
            "type": "choropleth"
           }
          ],
          "contour": [
           {
            "colorbar": {
             "outlinewidth": 0,
             "ticks": ""
            },
            "colorscale": [
             [
              0,
              "#0d0887"
             ],
             [
              0.1111111111111111,
              "#46039f"
             ],
             [
              0.2222222222222222,
              "#7201a8"
             ],
             [
              0.3333333333333333,
              "#9c179e"
             ],
             [
              0.4444444444444444,
              "#bd3786"
             ],
             [
              0.5555555555555556,
              "#d8576b"
             ],
             [
              0.6666666666666666,
              "#ed7953"
             ],
             [
              0.7777777777777778,
              "#fb9f3a"
             ],
             [
              0.8888888888888888,
              "#fdca26"
             ],
             [
              1,
              "#f0f921"
             ]
            ],
            "type": "contour"
           }
          ],
          "contourcarpet": [
           {
            "colorbar": {
             "outlinewidth": 0,
             "ticks": ""
            },
            "type": "contourcarpet"
           }
          ],
          "heatmap": [
           {
            "colorbar": {
             "outlinewidth": 0,
             "ticks": ""
            },
            "colorscale": [
             [
              0,
              "#0d0887"
             ],
             [
              0.1111111111111111,
              "#46039f"
             ],
             [
              0.2222222222222222,
              "#7201a8"
             ],
             [
              0.3333333333333333,
              "#9c179e"
             ],
             [
              0.4444444444444444,
              "#bd3786"
             ],
             [
              0.5555555555555556,
              "#d8576b"
             ],
             [
              0.6666666666666666,
              "#ed7953"
             ],
             [
              0.7777777777777778,
              "#fb9f3a"
             ],
             [
              0.8888888888888888,
              "#fdca26"
             ],
             [
              1,
              "#f0f921"
             ]
            ],
            "type": "heatmap"
           }
          ],
          "heatmapgl": [
           {
            "colorbar": {
             "outlinewidth": 0,
             "ticks": ""
            },
            "colorscale": [
             [
              0,
              "#0d0887"
             ],
             [
              0.1111111111111111,
              "#46039f"
             ],
             [
              0.2222222222222222,
              "#7201a8"
             ],
             [
              0.3333333333333333,
              "#9c179e"
             ],
             [
              0.4444444444444444,
              "#bd3786"
             ],
             [
              0.5555555555555556,
              "#d8576b"
             ],
             [
              0.6666666666666666,
              "#ed7953"
             ],
             [
              0.7777777777777778,
              "#fb9f3a"
             ],
             [
              0.8888888888888888,
              "#fdca26"
             ],
             [
              1,
              "#f0f921"
             ]
            ],
            "type": "heatmapgl"
           }
          ],
          "histogram": [
           {
            "marker": {
             "pattern": {
              "fillmode": "overlay",
              "size": 10,
              "solidity": 0.2
             }
            },
            "type": "histogram"
           }
          ],
          "histogram2d": [
           {
            "colorbar": {
             "outlinewidth": 0,
             "ticks": ""
            },
            "colorscale": [
             [
              0,
              "#0d0887"
             ],
             [
              0.1111111111111111,
              "#46039f"
             ],
             [
              0.2222222222222222,
              "#7201a8"
             ],
             [
              0.3333333333333333,
              "#9c179e"
             ],
             [
              0.4444444444444444,
              "#bd3786"
             ],
             [
              0.5555555555555556,
              "#d8576b"
             ],
             [
              0.6666666666666666,
              "#ed7953"
             ],
             [
              0.7777777777777778,
              "#fb9f3a"
             ],
             [
              0.8888888888888888,
              "#fdca26"
             ],
             [
              1,
              "#f0f921"
             ]
            ],
            "type": "histogram2d"
           }
          ],
          "histogram2dcontour": [
           {
            "colorbar": {
             "outlinewidth": 0,
             "ticks": ""
            },
            "colorscale": [
             [
              0,
              "#0d0887"
             ],
             [
              0.1111111111111111,
              "#46039f"
             ],
             [
              0.2222222222222222,
              "#7201a8"
             ],
             [
              0.3333333333333333,
              "#9c179e"
             ],
             [
              0.4444444444444444,
              "#bd3786"
             ],
             [
              0.5555555555555556,
              "#d8576b"
             ],
             [
              0.6666666666666666,
              "#ed7953"
             ],
             [
              0.7777777777777778,
              "#fb9f3a"
             ],
             [
              0.8888888888888888,
              "#fdca26"
             ],
             [
              1,
              "#f0f921"
             ]
            ],
            "type": "histogram2dcontour"
           }
          ],
          "mesh3d": [
           {
            "colorbar": {
             "outlinewidth": 0,
             "ticks": ""
            },
            "type": "mesh3d"
           }
          ],
          "parcoords": [
           {
            "line": {
             "colorbar": {
              "outlinewidth": 0,
              "ticks": ""
             }
            },
            "type": "parcoords"
           }
          ],
          "pie": [
           {
            "automargin": true,
            "type": "pie"
           }
          ],
          "scatter": [
           {
            "fillpattern": {
             "fillmode": "overlay",
             "size": 10,
             "solidity": 0.2
            },
            "type": "scatter"
           }
          ],
          "scatter3d": [
           {
            "line": {
             "colorbar": {
              "outlinewidth": 0,
              "ticks": ""
             }
            },
            "marker": {
             "colorbar": {
              "outlinewidth": 0,
              "ticks": ""
             }
            },
            "type": "scatter3d"
           }
          ],
          "scattercarpet": [
           {
            "marker": {
             "colorbar": {
              "outlinewidth": 0,
              "ticks": ""
             }
            },
            "type": "scattercarpet"
           }
          ],
          "scattergeo": [
           {
            "marker": {
             "colorbar": {
              "outlinewidth": 0,
              "ticks": ""
             }
            },
            "type": "scattergeo"
           }
          ],
          "scattergl": [
           {
            "marker": {
             "colorbar": {
              "outlinewidth": 0,
              "ticks": ""
             }
            },
            "type": "scattergl"
           }
          ],
          "scattermapbox": [
           {
            "marker": {
             "colorbar": {
              "outlinewidth": 0,
              "ticks": ""
             }
            },
            "type": "scattermapbox"
           }
          ],
          "scatterpolar": [
           {
            "marker": {
             "colorbar": {
              "outlinewidth": 0,
              "ticks": ""
             }
            },
            "type": "scatterpolar"
           }
          ],
          "scatterpolargl": [
           {
            "marker": {
             "colorbar": {
              "outlinewidth": 0,
              "ticks": ""
             }
            },
            "type": "scatterpolargl"
           }
          ],
          "scatterternary": [
           {
            "marker": {
             "colorbar": {
              "outlinewidth": 0,
              "ticks": ""
             }
            },
            "type": "scatterternary"
           }
          ],
          "surface": [
           {
            "colorbar": {
             "outlinewidth": 0,
             "ticks": ""
            },
            "colorscale": [
             [
              0,
              "#0d0887"
             ],
             [
              0.1111111111111111,
              "#46039f"
             ],
             [
              0.2222222222222222,
              "#7201a8"
             ],
             [
              0.3333333333333333,
              "#9c179e"
             ],
             [
              0.4444444444444444,
              "#bd3786"
             ],
             [
              0.5555555555555556,
              "#d8576b"
             ],
             [
              0.6666666666666666,
              "#ed7953"
             ],
             [
              0.7777777777777778,
              "#fb9f3a"
             ],
             [
              0.8888888888888888,
              "#fdca26"
             ],
             [
              1,
              "#f0f921"
             ]
            ],
            "type": "surface"
           }
          ],
          "table": [
           {
            "cells": {
             "fill": {
              "color": "#EBF0F8"
             },
             "line": {
              "color": "white"
             }
            },
            "header": {
             "fill": {
              "color": "#C8D4E3"
             },
             "line": {
              "color": "white"
             }
            },
            "type": "table"
           }
          ]
         },
         "layout": {
          "annotationdefaults": {
           "arrowcolor": "#2a3f5f",
           "arrowhead": 0,
           "arrowwidth": 1
          },
          "autotypenumbers": "strict",
          "coloraxis": {
           "colorbar": {
            "outlinewidth": 0,
            "ticks": ""
           }
          },
          "colorscale": {
           "diverging": [
            [
             0,
             "#8e0152"
            ],
            [
             0.1,
             "#c51b7d"
            ],
            [
             0.2,
             "#de77ae"
            ],
            [
             0.3,
             "#f1b6da"
            ],
            [
             0.4,
             "#fde0ef"
            ],
            [
             0.5,
             "#f7f7f7"
            ],
            [
             0.6,
             "#e6f5d0"
            ],
            [
             0.7,
             "#b8e186"
            ],
            [
             0.8,
             "#7fbc41"
            ],
            [
             0.9,
             "#4d9221"
            ],
            [
             1,
             "#276419"
            ]
           ],
           "sequential": [
            [
             0,
             "#0d0887"
            ],
            [
             0.1111111111111111,
             "#46039f"
            ],
            [
             0.2222222222222222,
             "#7201a8"
            ],
            [
             0.3333333333333333,
             "#9c179e"
            ],
            [
             0.4444444444444444,
             "#bd3786"
            ],
            [
             0.5555555555555556,
             "#d8576b"
            ],
            [
             0.6666666666666666,
             "#ed7953"
            ],
            [
             0.7777777777777778,
             "#fb9f3a"
            ],
            [
             0.8888888888888888,
             "#fdca26"
            ],
            [
             1,
             "#f0f921"
            ]
           ],
           "sequentialminus": [
            [
             0,
             "#0d0887"
            ],
            [
             0.1111111111111111,
             "#46039f"
            ],
            [
             0.2222222222222222,
             "#7201a8"
            ],
            [
             0.3333333333333333,
             "#9c179e"
            ],
            [
             0.4444444444444444,
             "#bd3786"
            ],
            [
             0.5555555555555556,
             "#d8576b"
            ],
            [
             0.6666666666666666,
             "#ed7953"
            ],
            [
             0.7777777777777778,
             "#fb9f3a"
            ],
            [
             0.8888888888888888,
             "#fdca26"
            ],
            [
             1,
             "#f0f921"
            ]
           ]
          },
          "colorway": [
           "#636efa",
           "#EF553B",
           "#00cc96",
           "#ab63fa",
           "#FFA15A",
           "#19d3f3",
           "#FF6692",
           "#B6E880",
           "#FF97FF",
           "#FECB52"
          ],
          "font": {
           "color": "#2a3f5f"
          },
          "geo": {
           "bgcolor": "white",
           "lakecolor": "white",
           "landcolor": "#E5ECF6",
           "showlakes": true,
           "showland": true,
           "subunitcolor": "white"
          },
          "hoverlabel": {
           "align": "left"
          },
          "hovermode": "closest",
          "mapbox": {
           "style": "light"
          },
          "paper_bgcolor": "white",
          "plot_bgcolor": "#E5ECF6",
          "polar": {
           "angularaxis": {
            "gridcolor": "white",
            "linecolor": "white",
            "ticks": ""
           },
           "bgcolor": "#E5ECF6",
           "radialaxis": {
            "gridcolor": "white",
            "linecolor": "white",
            "ticks": ""
           }
          },
          "scene": {
           "xaxis": {
            "backgroundcolor": "#E5ECF6",
            "gridcolor": "white",
            "gridwidth": 2,
            "linecolor": "white",
            "showbackground": true,
            "ticks": "",
            "zerolinecolor": "white"
           },
           "yaxis": {
            "backgroundcolor": "#E5ECF6",
            "gridcolor": "white",
            "gridwidth": 2,
            "linecolor": "white",
            "showbackground": true,
            "ticks": "",
            "zerolinecolor": "white"
           },
           "zaxis": {
            "backgroundcolor": "#E5ECF6",
            "gridcolor": "white",
            "gridwidth": 2,
            "linecolor": "white",
            "showbackground": true,
            "ticks": "",
            "zerolinecolor": "white"
           }
          },
          "shapedefaults": {
           "line": {
            "color": "#2a3f5f"
           }
          },
          "ternary": {
           "aaxis": {
            "gridcolor": "white",
            "linecolor": "white",
            "ticks": ""
           },
           "baxis": {
            "gridcolor": "white",
            "linecolor": "white",
            "ticks": ""
           },
           "bgcolor": "#E5ECF6",
           "caxis": {
            "gridcolor": "white",
            "linecolor": "white",
            "ticks": ""
           }
          },
          "title": {
           "x": 0.05
          },
          "xaxis": {
           "automargin": true,
           "gridcolor": "white",
           "linecolor": "white",
           "ticks": "",
           "title": {
            "standoff": 15
           },
           "zerolinecolor": "white",
           "zerolinewidth": 2
          },
          "yaxis": {
           "automargin": true,
           "gridcolor": "white",
           "linecolor": "white",
           "ticks": "",
           "title": {
            "standoff": 15
           },
           "zerolinecolor": "white",
           "zerolinewidth": 2
          }
         }
        },
        "title": {
         "text": "Distribución Generación Real diaria"
        },
        "xaxis": {
         "anchor": "y",
         "domain": [
          0,
          1
         ]
        },
        "yaxis": {
         "anchor": "x",
         "domain": [
          0,
          1
         ],
         "title": {
          "text": "Energía [kWh]"
         }
        }
       }
      }
     },
     "metadata": {},
     "output_type": "display_data"
    }
   ],
   "source": [
    "gen_real_by_day = unfied_hours(gen_real)\n",
    "# plot a box plot of the data gen_real_by_day\n",
    "fig = px.box(gen_real_by_day, y=COL_UNIFIED, title='Despacho')\n",
    "fig.update_traces(jitter=0.3, pointpos=-1.8, boxpoints='all')\n",
    "fig.update_layout(title='Distribución Generación Real diaria', yaxis_title='Energía [kWh]')"
   ]
  },
  {
   "cell_type": "code",
   "execution_count": 115,
   "metadata": {},
   "outputs": [
    {
     "data": {
      "application/vnd.plotly.v1+json": {
       "config": {
        "plotlyServerURL": "https://plot.ly"
       },
       "data": [
        {
         "customdata": [
          [
           "2024-03-08T00:00:00"
          ],
          [
           "2024-03-09T00:00:00"
          ],
          [
           "2024-03-10T00:00:00"
          ],
          [
           "2024-03-11T00:00:00"
          ],
          [
           "2024-03-12T00:00:00"
          ],
          [
           "2024-03-13T00:00:00"
          ],
          [
           "2024-03-14T00:00:00"
          ],
          [
           "2024-03-15T00:00:00"
          ],
          [
           "2024-03-16T00:00:00"
          ],
          [
           "2024-03-17T00:00:00"
          ],
          [
           "2024-03-18T00:00:00"
          ],
          [
           "2024-03-19T00:00:00"
          ],
          [
           "2024-03-20T00:00:00"
          ],
          [
           "2024-03-21T00:00:00"
          ],
          [
           "2024-03-22T00:00:00"
          ],
          [
           "2024-03-24T00:00:00"
          ],
          [
           "2024-03-25T00:00:00"
          ],
          [
           "2024-03-26T00:00:00"
          ],
          [
           "2024-03-27T00:00:00"
          ],
          [
           "2024-03-28T00:00:00"
          ],
          [
           "2024-03-29T00:00:00"
          ],
          [
           "2024-03-30T00:00:00"
          ],
          [
           "2024-03-31T00:00:00"
          ],
          [
           "2024-04-01T00:00:00"
          ],
          [
           "2024-04-02T00:00:00"
          ],
          [
           "2024-04-03T00:00:00"
          ],
          [
           "2024-04-04T00:00:00"
          ],
          [
           "2024-04-05T00:00:00"
          ],
          [
           "2024-04-07T00:00:00"
          ],
          [
           "2024-04-08T00:00:00"
          ],
          [
           "2024-04-09T00:00:00"
          ],
          [
           "2024-04-10T00:00:00"
          ],
          [
           "2024-04-11T00:00:00"
          ],
          [
           "2024-04-12T00:00:00"
          ],
          [
           "2024-04-13T00:00:00"
          ],
          [
           "2024-04-14T00:00:00"
          ],
          [
           "2024-04-15T00:00:00"
          ],
          [
           "2024-04-16T00:00:00"
          ],
          [
           "2024-04-17T00:00:00"
          ],
          [
           "2024-04-18T00:00:00"
          ],
          [
           "2024-04-19T00:00:00"
          ],
          [
           "2024-04-20T00:00:00"
          ],
          [
           "2024-04-21T00:00:00"
          ],
          [
           "2024-04-22T00:00:00"
          ],
          [
           "2024-04-23T00:00:00"
          ],
          [
           "2024-04-25T00:00:00"
          ],
          [
           "2024-04-27T00:00:00"
          ],
          [
           "2024-04-28T00:00:00"
          ],
          [
           "2024-04-29T00:00:00"
          ],
          [
           "2024-04-30T00:00:00"
          ],
          [
           "2024-05-01T00:00:00"
          ],
          [
           "2024-05-02T00:00:00"
          ],
          [
           "2024-05-03T00:00:00"
          ],
          [
           "2024-05-04T00:00:00"
          ],
          [
           "2024-05-05T00:00:00"
          ],
          [
           "2024-05-06T00:00:00"
          ],
          [
           "2024-05-07T00:00:00"
          ],
          [
           "2024-05-08T00:00:00"
          ],
          [
           "2024-05-09T00:00:00"
          ],
          [
           "2024-05-10T00:00:00"
          ],
          [
           "2024-05-11T00:00:00"
          ],
          [
           "2024-05-12T00:00:00"
          ],
          [
           "2024-05-13T00:00:00"
          ],
          [
           "2024-05-14T00:00:00"
          ],
          [
           "2024-05-15T00:00:00"
          ],
          [
           "2024-05-16T00:00:00"
          ],
          [
           "2024-05-17T00:00:00"
          ],
          [
           "2024-05-18T00:00:00"
          ],
          [
           "2024-05-19T00:00:00"
          ],
          [
           "2024-05-20T00:00:00"
          ],
          [
           "2024-05-21T00:00:00"
          ],
          [
           "2024-05-22T00:00:00"
          ],
          [
           "2024-05-23T00:00:00"
          ],
          [
           "2024-05-24T00:00:00"
          ],
          [
           "2024-05-25T00:00:00"
          ],
          [
           "2024-05-26T00:00:00"
          ],
          [
           "2024-05-27T00:00:00"
          ],
          [
           "2024-05-28T00:00:00"
          ],
          [
           "2024-05-29T00:00:00"
          ],
          [
           "2024-05-30T00:00:00"
          ],
          [
           "2024-05-31T00:00:00"
          ],
          [
           "2024-06-01T00:00:00"
          ],
          [
           "2024-06-02T00:00:00"
          ],
          [
           "2024-06-03T00:00:00"
          ],
          [
           "2024-06-04T00:00:00"
          ],
          [
           "2024-06-05T00:00:00"
          ],
          [
           "2024-06-06T00:00:00"
          ],
          [
           "2024-06-07T00:00:00"
          ],
          [
           "2024-06-08T00:00:00"
          ],
          [
           "2024-06-09T00:00:00"
          ],
          [
           "2024-06-10T00:00:00"
          ],
          [
           "2024-06-11T00:00:00"
          ],
          [
           "2024-06-12T00:00:00"
          ],
          [
           "2024-06-13T00:00:00"
          ],
          [
           "2024-06-14T00:00:00"
          ],
          [
           "2024-06-15T00:00:00"
          ],
          [
           "2024-06-16T00:00:00"
          ],
          [
           "2024-06-17T00:00:00"
          ],
          [
           "2024-06-18T00:00:00"
          ],
          [
           "2024-06-19T00:00:00"
          ],
          [
           "2024-06-20T00:00:00"
          ],
          [
           "2024-06-21T00:00:00"
          ],
          [
           "2024-06-22T00:00:00"
          ],
          [
           "2024-06-23T00:00:00"
          ],
          [
           "2024-06-24T00:00:00"
          ],
          [
           "2024-06-25T00:00:00"
          ],
          [
           "2024-06-26T00:00:00"
          ],
          [
           "2024-06-27T00:00:00"
          ],
          [
           "2024-06-28T00:00:00"
          ],
          [
           "2024-06-29T00:00:00"
          ],
          [
           "2024-06-30T00:00:00"
          ],
          [
           "2024-07-01T00:00:00"
          ],
          [
           "2024-07-02T00:00:00"
          ],
          [
           "2024-07-03T00:00:00"
          ],
          [
           "2024-07-04T00:00:00"
          ],
          [
           "2024-07-05T00:00:00"
          ],
          [
           "2024-07-06T00:00:00"
          ],
          [
           "2024-07-07T00:00:00"
          ],
          [
           "2024-07-08T00:00:00"
          ],
          [
           "2024-07-09T00:00:00"
          ],
          [
           "2024-07-10T00:00:00"
          ],
          [
           "2024-07-11T00:00:00"
          ],
          [
           "2024-07-12T00:00:00"
          ],
          [
           "2024-07-13T00:00:00"
          ],
          [
           "2024-07-14T00:00:00"
          ],
          [
           "2024-07-15T00:00:00"
          ],
          [
           "2024-07-16T00:00:00"
          ],
          [
           "2024-07-17T00:00:00"
          ],
          [
           "2024-07-18T00:00:00"
          ],
          [
           "2024-07-19T00:00:00"
          ],
          [
           "2024-07-20T00:00:00"
          ],
          [
           "2024-07-21T00:00:00"
          ],
          [
           "2024-07-22T00:00:00"
          ],
          [
           "2024-07-23T00:00:00"
          ],
          [
           "2024-07-24T00:00:00"
          ],
          [
           "2024-07-25T00:00:00"
          ],
          [
           "2024-07-26T00:00:00"
          ],
          [
           "2024-07-27T00:00:00"
          ],
          [
           "2024-07-28T00:00:00"
          ],
          [
           "2024-07-29T00:00:00"
          ],
          [
           "2024-07-30T00:00:00"
          ],
          [
           "2024-07-31T00:00:00"
          ],
          [
           "2024-08-01T00:00:00"
          ],
          [
           "2024-08-02T00:00:00"
          ],
          [
           "2024-08-03T00:00:00"
          ],
          [
           "2024-08-04T00:00:00"
          ],
          [
           "2024-08-05T00:00:00"
          ],
          [
           "2024-08-06T00:00:00"
          ],
          [
           "2024-08-07T00:00:00"
          ],
          [
           "2024-08-08T00:00:00"
          ],
          [
           "2024-08-09T00:00:00"
          ],
          [
           "2024-08-10T00:00:00"
          ],
          [
           "2024-08-11T00:00:00"
          ],
          [
           "2024-08-12T00:00:00"
          ],
          [
           "2024-08-13T00:00:00"
          ],
          [
           "2024-08-14T00:00:00"
          ],
          [
           "2024-08-15T00:00:00"
          ],
          [
           "2024-08-16T00:00:00"
          ],
          [
           "2024-08-17T00:00:00"
          ],
          [
           "2024-08-18T00:00:00"
          ],
          [
           "2024-08-19T00:00:00"
          ],
          [
           "2024-08-20T00:00:00"
          ],
          [
           "2024-08-21T00:00:00"
          ],
          [
           "2024-08-22T00:00:00"
          ],
          [
           "2024-08-23T00:00:00"
          ],
          [
           "2024-08-24T00:00:00"
          ],
          [
           "2024-08-25T00:00:00"
          ],
          [
           "2024-08-26T00:00:00"
          ],
          [
           "2024-08-27T00:00:00"
          ],
          [
           "2024-08-28T00:00:00"
          ],
          [
           "2024-08-29T00:00:00"
          ],
          [
           "2024-08-30T00:00:00"
          ],
          [
           "2024-08-31T00:00:00"
          ],
          [
           "2024-09-01T00:00:00"
          ],
          [
           "2024-09-02T00:00:00"
          ],
          [
           "2024-09-03T00:00:00"
          ],
          [
           "2024-09-04T00:00:00"
          ],
          [
           "2024-09-05T00:00:00"
          ],
          [
           "2024-09-06T00:00:00"
          ],
          [
           "2024-09-07T00:00:00"
          ],
          [
           "2024-09-08T00:00:00"
          ],
          [
           "2024-09-09T00:00:00"
          ],
          [
           "2024-09-10T00:00:00"
          ],
          [
           "2024-09-11T00:00:00"
          ],
          [
           "2024-09-12T00:00:00"
          ],
          [
           "2024-09-13T00:00:00"
          ],
          [
           "2024-09-14T00:00:00"
          ],
          [
           "2024-09-15T00:00:00"
          ],
          [
           "2024-09-16T00:00:00"
          ],
          [
           "2024-09-17T00:00:00"
          ],
          [
           "2024-09-18T00:00:00"
          ],
          [
           "2024-09-19T00:00:00"
          ],
          [
           "2024-09-20T00:00:00"
          ],
          [
           "2024-09-21T00:00:00"
          ],
          [
           "2024-09-22T00:00:00"
          ],
          [
           "2024-09-23T00:00:00"
          ],
          [
           "2024-09-24T00:00:00"
          ],
          [
           "2024-09-25T00:00:00"
          ],
          [
           "2024-09-26T00:00:00"
          ],
          [
           "2024-09-27T00:00:00"
          ],
          [
           "2024-09-28T00:00:00"
          ],
          [
           "2024-09-29T00:00:00"
          ],
          [
           "2024-09-30T00:00:00"
          ],
          [
           "2024-10-01T00:00:00"
          ],
          [
           "2024-10-02T00:00:00"
          ],
          [
           "2024-10-03T00:00:00"
          ],
          [
           "2024-10-04T00:00:00"
          ],
          [
           "2024-10-05T00:00:00"
          ],
          [
           "2024-10-06T00:00:00"
          ],
          [
           "2024-10-07T00:00:00"
          ],
          [
           "2024-10-08T00:00:00"
          ],
          [
           "2024-10-09T00:00:00"
          ],
          [
           "2024-10-10T00:00:00"
          ],
          [
           "2024-10-11T00:00:00"
          ],
          [
           "2024-10-12T00:00:00"
          ],
          [
           "2024-10-13T00:00:00"
          ],
          [
           "2024-10-14T00:00:00"
          ],
          [
           "2024-10-15T00:00:00"
          ],
          [
           "2024-10-16T00:00:00"
          ],
          [
           "2024-10-17T00:00:00"
          ],
          [
           "2024-10-18T00:00:00"
          ],
          [
           "2024-10-19T00:00:00"
          ],
          [
           "2024-10-20T00:00:00"
          ],
          [
           "2024-10-21T00:00:00"
          ],
          [
           "2024-10-22T00:00:00"
          ],
          [
           "2024-10-23T00:00:00"
          ],
          [
           "2024-10-24T00:00:00"
          ],
          [
           "2024-10-25T00:00:00"
          ],
          [
           "2024-10-26T00:00:00"
          ],
          [
           "2024-10-27T00:00:00"
          ],
          [
           "2024-10-28T00:00:00"
          ],
          [
           "2024-10-29T00:00:00"
          ],
          [
           "2024-10-30T00:00:00"
          ],
          [
           "2024-10-31T00:00:00"
          ],
          [
           "2024-11-01T00:00:00"
          ],
          [
           "2024-11-02T00:00:00"
          ]
         ],
         "hovertemplate": "Total_x=%{x}<br>Total_y=%{y}<br>Date=%{customdata[0]}<extra></extra>",
         "legendgroup": "",
         "marker": {
          "color": "#636efa",
          "size": 10,
          "symbol": "circle"
         },
         "mode": "markers",
         "name": "",
         "orientation": "v",
         "showlegend": false,
         "type": "scatter",
         "x": [
          613.67952,
          540.2470500000001,
          782.8310700000001,
          498.03324,
          671.89552,
          767.2268099999999,
          575.53723,
          577.79079,
          713.94027,
          638.7591499999999,
          519.74539,
          518.2855900000001,
          602.2733999999999,
          583.62649,
          710.64873,
          718.90551,
          561.7966299999999,
          683.3243,
          476.28310999999997,
          751.28562,
          606.3633800000001,
          415.11214,
          551.81819,
          559.4752199999999,
          383.78121000000004,
          422.5865,
          365.76378000000005,
          560.26833,
          797.13798,
          615.36683,
          548.8095500000001,
          694.78485,
          620.71756,
          616.75697,
          613.5274499999999,
          547.43479,
          605.8103699999999,
          575.07383,
          252.06635000000003,
          500.97303000000005,
          344.56566000000004,
          568.1438,
          487.97947000000005,
          298.69885,
          575.4394100000001,
          685.06551,
          636.1822199999999,
          443.63939,
          550.55213,
          646.00863,
          429.38075,
          373.2428,
          628.4891700000001,
          234.75397,
          587.72717,
          723.74481,
          698.4517099999999,
          586.71911,
          207.16458000000003,
          678.32452,
          645.7623899999999,
          200.83954999999997,
          757.40575,
          611.06974,
          278.86566,
          518.6589200000001,
          576.89702,
          650.11404,
          723.6796899999999,
          676.65313,
          468.04918,
          700.1258300000001,
          627.7783300000001,
          770.1618799999999,
          508.02843,
          670.8563,
          578.6668199999999,
          670.50689,
          456.10846000000004,
          507.55683999999997,
          580.6235700000001,
          741.59069,
          715.58099,
          575.31045,
          478.13538,
          440.36430000000007,
          481.19544,
          524.26362,
          538.2609199999999,
          381.22403,
          556.12145,
          277.6818200000001,
          484.18751000000003,
          527.22408,
          529.14032,
          464.6035,
          426.55609,
          617.8135699999999,
          518.13918,
          440.71018999999995,
          559.73081,
          492.76231,
          535.80417,
          391.64039,
          531.8028,
          543.86225,
          564.29865,
          498.85459,
          423.58208,
          568.1701400000001,
          588.31346,
          591.6571799999999,
          577.79738,
          597.20099,
          477.67783999999995,
          144.37871,
          558.6994599999999,
          562.38212,
          622.1681199999999,
          601.7528300000001,
          548.3853,
          510.43982000000005,
          457.6471699999999,
          523.61064,
          614.86676,
          544.3234299999999,
          618.9268000000001,
          569.53036,
          438.93215000000004,
          446.17922,
          545.63151,
          520.59036,
          610.87726,
          703.91076,
          637.93128,
          506.21921,
          452.85712,
          592.87549,
          549.8499300000001,
          650.36959,
          529.0999499999999,
          586.20391,
          616.64148,
          643.88371,
          566.4055699999999,
          621.1506899999999,
          594.5913099999999,
          611.89194,
          636.94214,
          464.07813,
          496.9332100000001,
          421.32248,
          574.42641,
          635.77355,
          645.3488100000001,
          675.3123200000001,
          701.8685,
          625.04691,
          659.76053,
          696.43136,
          601.6733999999999,
          661.93323,
          527.64412,
          548.84973,
          429.31439,
          464.21977,
          390.84194,
          456.93317,
          679.8125,
          709.58813,
          723.5491999999999,
          694.5253100000001,
          638.4369399999999,
          530.3340800000001,
          692.74109,
          561.1575600000001,
          719.23649,
          560.3745700000001,
          753.89377,
          631.19949,
          547.27052,
          686.0501300000001,
          528.90401,
          610.8842,
          458.36283000000003,
          627.95763,
          680.65822,
          765.8815500000001,
          704.8163699999999,
          642.3943899999999,
          741.60406,
          608.1441100000001,
          657.1153600000001,
          606.03303,
          468.84089,
          642.97459,
          594.5355,
          492.95721,
          573.9996000000001,
          548.47517,
          460.58671999999996,
          243.39162,
          537.45037,
          583.138,
          460.06504,
          615.87766,
          399.9785,
          558.8928700000001,
          384.97726,
          569.8558,
          425.31693,
          568.1409,
          441.64339,
          631.94992,
          610.08989,
          635.67582,
          581.15182,
          517.8077,
          572.65197,
          607.57738,
          548.82989,
          458.85853000000003,
          562.14957,
          572.21513,
          525.8075200000001,
          588.9246199999999,
          580.4854700000001,
          568.05637,
          591.51073,
          302.60823,
          483.27274,
          476.03806000000003,
          528.5708699999999,
          382.60427000000004,
          581.99241,
          562.55445
         ],
         "xaxis": "x",
         "y": [
          0,
          34.466747143888306,
          29.04801523194093,
          28.54616355810617,
          0,
          21.396647151898726,
          0,
          0,
          0,
          56.78149084482841,
          46.52536299707709,
          0,
          22.125354854408286,
          0,
          18.04796179401993,
          45.719166920036486,
          0,
          17.029628868451255,
          15.101049910873444,
          0,
          47.8105891816786,
          35.97801631733987,
          0,
          0,
          25.042732421874998,
          0,
          31.683388536866374,
          63.34353644314868,
          56.56865240704732,
          0,
          0,
          561.0073732280468,
          0,
          0,
          0,
          1379.5534864864865,
          244.21043749999993,
          144.07870209244092,
          56.689630584192436,
          0,
          0,
          15.947714285714294,
          0,
          0,
          22.957138888888895,
          23.435227027027025,
          37.701779220779216,
          0,
          26.273424311926604,
          22.118833648393196,
          20.189451672862454,
          19.55974137931035,
          45.48360416666667,
          40.868017632241816,
          21.935097510373453,
          51.41104811715483,
          24.94663864042933,
          16.643958250497015,
          48.84825185185185,
          52.43247640449438,
          0,
          62.248204887218044,
          28.156641285956006,
          15.296177358490564,
          42.26383850931678,
          0,
          0,
          21.064067039106153,
          27.63310229276895,
          23.02784181818182,
          0,
          37.820045275590566,
          16.040356746765262,
          50.422242187499975,
          0,
          30.263359223300977,
          0,
          20.812052252252254,
          0,
          0,
          0,
          16.236785266457673,
          26.651502654867258,
          0,
          0,
          17.06887005649717,
          0,
          0,
          0,
          20.578327083333324,
          16.34339958158995,
          45.87099025341129,
          0,
          0,
          0,
          18.82442455242967,
          0,
          0,
          0,
          0,
          0,
          0,
          0,
          24.973105363984672,
          0,
          0,
          0,
          0,
          15.11381162324649,
          0,
          0,
          0,
          0,
          0,
          0,
          63.814859649122795,
          0,
          0,
          0,
          0,
          0,
          0,
          15.71875322283611,
          75.70826845637583,
          0,
          0,
          0,
          0,
          48.28788851351352,
          46.288268852459005,
          38.81457519748642,
          0,
          0,
          0,
          268.74640462427743,
          46.30613005780346,
          23.632863406408095,
          0,
          674.1094326340984,
          23.176058712121204,
          0,
          0,
          16.491714153777302,
          94.3799879245283,
          0,
          17.419790170132316,
          0,
          0,
          70.11434752417071,
          19.986529310344828,
          249.95296478873246,
          15.397092369477916,
          875.4226693835965,
          0,
          0,
          0,
          0,
          161.52590376569037,
          79.85936326358011,
          16.850899328859057,
          0,
          0,
          0,
          0,
          23.06193727598566,
          0,
          28.285882568807338,
          19.836285964912275,
          0,
          16.32592295081967,
          0,
          0,
          0,
          0,
          0,
          15.104756429652033,
          0,
          23.654690735694814,
          0,
          0,
          17.205670196671708,
          0,
          23.679075036075037,
          0,
          33.570604347826084,
          0,
          0,
          0,
          0,
          0,
          0,
          0,
          0,
          0,
          18.03480944055944,
          0,
          0,
          16.870622259696464,
          0,
          0,
          0,
          24.87912962962963,
          0,
          0,
          0,
          0,
          18.03719262295082,
          0,
          0,
          17.49604123711341,
          0,
          28.538665158371046,
          0,
          0,
          0,
          15.999237226277385,
          0,
          0,
          0,
          0,
          0,
          18.786100884955747,
          0,
          0,
          0,
          0,
          0,
          0,
          0,
          50.95490599675851,
          21.800527508090614,
          17.354503472222213,
          0,
          38.881107028753995,
          0,
          17.149565537555233
         ],
         "yaxis": "y"
        }
       ],
       "layout": {
        "hovermode": "closest",
        "legend": {
         "tracegroupgap": 0
        },
        "margin": {
         "t": 60
        },
        "template": {
         "data": {
          "bar": [
           {
            "error_x": {
             "color": "#2a3f5f"
            },
            "error_y": {
             "color": "#2a3f5f"
            },
            "marker": {
             "line": {
              "color": "#E5ECF6",
              "width": 0.5
             },
             "pattern": {
              "fillmode": "overlay",
              "size": 10,
              "solidity": 0.2
             }
            },
            "type": "bar"
           }
          ],
          "barpolar": [
           {
            "marker": {
             "line": {
              "color": "#E5ECF6",
              "width": 0.5
             },
             "pattern": {
              "fillmode": "overlay",
              "size": 10,
              "solidity": 0.2
             }
            },
            "type": "barpolar"
           }
          ],
          "carpet": [
           {
            "aaxis": {
             "endlinecolor": "#2a3f5f",
             "gridcolor": "white",
             "linecolor": "white",
             "minorgridcolor": "white",
             "startlinecolor": "#2a3f5f"
            },
            "baxis": {
             "endlinecolor": "#2a3f5f",
             "gridcolor": "white",
             "linecolor": "white",
             "minorgridcolor": "white",
             "startlinecolor": "#2a3f5f"
            },
            "type": "carpet"
           }
          ],
          "choropleth": [
           {
            "colorbar": {
             "outlinewidth": 0,
             "ticks": ""
            },
            "type": "choropleth"
           }
          ],
          "contour": [
           {
            "colorbar": {
             "outlinewidth": 0,
             "ticks": ""
            },
            "colorscale": [
             [
              0,
              "#0d0887"
             ],
             [
              0.1111111111111111,
              "#46039f"
             ],
             [
              0.2222222222222222,
              "#7201a8"
             ],
             [
              0.3333333333333333,
              "#9c179e"
             ],
             [
              0.4444444444444444,
              "#bd3786"
             ],
             [
              0.5555555555555556,
              "#d8576b"
             ],
             [
              0.6666666666666666,
              "#ed7953"
             ],
             [
              0.7777777777777778,
              "#fb9f3a"
             ],
             [
              0.8888888888888888,
              "#fdca26"
             ],
             [
              1,
              "#f0f921"
             ]
            ],
            "type": "contour"
           }
          ],
          "contourcarpet": [
           {
            "colorbar": {
             "outlinewidth": 0,
             "ticks": ""
            },
            "type": "contourcarpet"
           }
          ],
          "heatmap": [
           {
            "colorbar": {
             "outlinewidth": 0,
             "ticks": ""
            },
            "colorscale": [
             [
              0,
              "#0d0887"
             ],
             [
              0.1111111111111111,
              "#46039f"
             ],
             [
              0.2222222222222222,
              "#7201a8"
             ],
             [
              0.3333333333333333,
              "#9c179e"
             ],
             [
              0.4444444444444444,
              "#bd3786"
             ],
             [
              0.5555555555555556,
              "#d8576b"
             ],
             [
              0.6666666666666666,
              "#ed7953"
             ],
             [
              0.7777777777777778,
              "#fb9f3a"
             ],
             [
              0.8888888888888888,
              "#fdca26"
             ],
             [
              1,
              "#f0f921"
             ]
            ],
            "type": "heatmap"
           }
          ],
          "heatmapgl": [
           {
            "colorbar": {
             "outlinewidth": 0,
             "ticks": ""
            },
            "colorscale": [
             [
              0,
              "#0d0887"
             ],
             [
              0.1111111111111111,
              "#46039f"
             ],
             [
              0.2222222222222222,
              "#7201a8"
             ],
             [
              0.3333333333333333,
              "#9c179e"
             ],
             [
              0.4444444444444444,
              "#bd3786"
             ],
             [
              0.5555555555555556,
              "#d8576b"
             ],
             [
              0.6666666666666666,
              "#ed7953"
             ],
             [
              0.7777777777777778,
              "#fb9f3a"
             ],
             [
              0.8888888888888888,
              "#fdca26"
             ],
             [
              1,
              "#f0f921"
             ]
            ],
            "type": "heatmapgl"
           }
          ],
          "histogram": [
           {
            "marker": {
             "pattern": {
              "fillmode": "overlay",
              "size": 10,
              "solidity": 0.2
             }
            },
            "type": "histogram"
           }
          ],
          "histogram2d": [
           {
            "colorbar": {
             "outlinewidth": 0,
             "ticks": ""
            },
            "colorscale": [
             [
              0,
              "#0d0887"
             ],
             [
              0.1111111111111111,
              "#46039f"
             ],
             [
              0.2222222222222222,
              "#7201a8"
             ],
             [
              0.3333333333333333,
              "#9c179e"
             ],
             [
              0.4444444444444444,
              "#bd3786"
             ],
             [
              0.5555555555555556,
              "#d8576b"
             ],
             [
              0.6666666666666666,
              "#ed7953"
             ],
             [
              0.7777777777777778,
              "#fb9f3a"
             ],
             [
              0.8888888888888888,
              "#fdca26"
             ],
             [
              1,
              "#f0f921"
             ]
            ],
            "type": "histogram2d"
           }
          ],
          "histogram2dcontour": [
           {
            "colorbar": {
             "outlinewidth": 0,
             "ticks": ""
            },
            "colorscale": [
             [
              0,
              "#0d0887"
             ],
             [
              0.1111111111111111,
              "#46039f"
             ],
             [
              0.2222222222222222,
              "#7201a8"
             ],
             [
              0.3333333333333333,
              "#9c179e"
             ],
             [
              0.4444444444444444,
              "#bd3786"
             ],
             [
              0.5555555555555556,
              "#d8576b"
             ],
             [
              0.6666666666666666,
              "#ed7953"
             ],
             [
              0.7777777777777778,
              "#fb9f3a"
             ],
             [
              0.8888888888888888,
              "#fdca26"
             ],
             [
              1,
              "#f0f921"
             ]
            ],
            "type": "histogram2dcontour"
           }
          ],
          "mesh3d": [
           {
            "colorbar": {
             "outlinewidth": 0,
             "ticks": ""
            },
            "type": "mesh3d"
           }
          ],
          "parcoords": [
           {
            "line": {
             "colorbar": {
              "outlinewidth": 0,
              "ticks": ""
             }
            },
            "type": "parcoords"
           }
          ],
          "pie": [
           {
            "automargin": true,
            "type": "pie"
           }
          ],
          "scatter": [
           {
            "fillpattern": {
             "fillmode": "overlay",
             "size": 10,
             "solidity": 0.2
            },
            "type": "scatter"
           }
          ],
          "scatter3d": [
           {
            "line": {
             "colorbar": {
              "outlinewidth": 0,
              "ticks": ""
             }
            },
            "marker": {
             "colorbar": {
              "outlinewidth": 0,
              "ticks": ""
             }
            },
            "type": "scatter3d"
           }
          ],
          "scattercarpet": [
           {
            "marker": {
             "colorbar": {
              "outlinewidth": 0,
              "ticks": ""
             }
            },
            "type": "scattercarpet"
           }
          ],
          "scattergeo": [
           {
            "marker": {
             "colorbar": {
              "outlinewidth": 0,
              "ticks": ""
             }
            },
            "type": "scattergeo"
           }
          ],
          "scattergl": [
           {
            "marker": {
             "colorbar": {
              "outlinewidth": 0,
              "ticks": ""
             }
            },
            "type": "scattergl"
           }
          ],
          "scattermapbox": [
           {
            "marker": {
             "colorbar": {
              "outlinewidth": 0,
              "ticks": ""
             }
            },
            "type": "scattermapbox"
           }
          ],
          "scatterpolar": [
           {
            "marker": {
             "colorbar": {
              "outlinewidth": 0,
              "ticks": ""
             }
            },
            "type": "scatterpolar"
           }
          ],
          "scatterpolargl": [
           {
            "marker": {
             "colorbar": {
              "outlinewidth": 0,
              "ticks": ""
             }
            },
            "type": "scatterpolargl"
           }
          ],
          "scatterternary": [
           {
            "marker": {
             "colorbar": {
              "outlinewidth": 0,
              "ticks": ""
             }
            },
            "type": "scatterternary"
           }
          ],
          "surface": [
           {
            "colorbar": {
             "outlinewidth": 0,
             "ticks": ""
            },
            "colorscale": [
             [
              0,
              "#0d0887"
             ],
             [
              0.1111111111111111,
              "#46039f"
             ],
             [
              0.2222222222222222,
              "#7201a8"
             ],
             [
              0.3333333333333333,
              "#9c179e"
             ],
             [
              0.4444444444444444,
              "#bd3786"
             ],
             [
              0.5555555555555556,
              "#d8576b"
             ],
             [
              0.6666666666666666,
              "#ed7953"
             ],
             [
              0.7777777777777778,
              "#fb9f3a"
             ],
             [
              0.8888888888888888,
              "#fdca26"
             ],
             [
              1,
              "#f0f921"
             ]
            ],
            "type": "surface"
           }
          ],
          "table": [
           {
            "cells": {
             "fill": {
              "color": "#EBF0F8"
             },
             "line": {
              "color": "white"
             }
            },
            "header": {
             "fill": {
              "color": "#C8D4E3"
             },
             "line": {
              "color": "white"
             }
            },
            "type": "table"
           }
          ]
         },
         "layout": {
          "annotationdefaults": {
           "arrowcolor": "#2a3f5f",
           "arrowhead": 0,
           "arrowwidth": 1
          },
          "autotypenumbers": "strict",
          "coloraxis": {
           "colorbar": {
            "outlinewidth": 0,
            "ticks": ""
           }
          },
          "colorscale": {
           "diverging": [
            [
             0,
             "#8e0152"
            ],
            [
             0.1,
             "#c51b7d"
            ],
            [
             0.2,
             "#de77ae"
            ],
            [
             0.3,
             "#f1b6da"
            ],
            [
             0.4,
             "#fde0ef"
            ],
            [
             0.5,
             "#f7f7f7"
            ],
            [
             0.6,
             "#e6f5d0"
            ],
            [
             0.7,
             "#b8e186"
            ],
            [
             0.8,
             "#7fbc41"
            ],
            [
             0.9,
             "#4d9221"
            ],
            [
             1,
             "#276419"
            ]
           ],
           "sequential": [
            [
             0,
             "#0d0887"
            ],
            [
             0.1111111111111111,
             "#46039f"
            ],
            [
             0.2222222222222222,
             "#7201a8"
            ],
            [
             0.3333333333333333,
             "#9c179e"
            ],
            [
             0.4444444444444444,
             "#bd3786"
            ],
            [
             0.5555555555555556,
             "#d8576b"
            ],
            [
             0.6666666666666666,
             "#ed7953"
            ],
            [
             0.7777777777777778,
             "#fb9f3a"
            ],
            [
             0.8888888888888888,
             "#fdca26"
            ],
            [
             1,
             "#f0f921"
            ]
           ],
           "sequentialminus": [
            [
             0,
             "#0d0887"
            ],
            [
             0.1111111111111111,
             "#46039f"
            ],
            [
             0.2222222222222222,
             "#7201a8"
            ],
            [
             0.3333333333333333,
             "#9c179e"
            ],
            [
             0.4444444444444444,
             "#bd3786"
            ],
            [
             0.5555555555555556,
             "#d8576b"
            ],
            [
             0.6666666666666666,
             "#ed7953"
            ],
            [
             0.7777777777777778,
             "#fb9f3a"
            ],
            [
             0.8888888888888888,
             "#fdca26"
            ],
            [
             1,
             "#f0f921"
            ]
           ]
          },
          "colorway": [
           "#636efa",
           "#EF553B",
           "#00cc96",
           "#ab63fa",
           "#FFA15A",
           "#19d3f3",
           "#FF6692",
           "#B6E880",
           "#FF97FF",
           "#FECB52"
          ],
          "font": {
           "color": "#2a3f5f"
          },
          "geo": {
           "bgcolor": "white",
           "lakecolor": "white",
           "landcolor": "#E5ECF6",
           "showlakes": true,
           "showland": true,
           "subunitcolor": "white"
          },
          "hoverlabel": {
           "align": "left"
          },
          "hovermode": "closest",
          "mapbox": {
           "style": "light"
          },
          "paper_bgcolor": "white",
          "plot_bgcolor": "#E5ECF6",
          "polar": {
           "angularaxis": {
            "gridcolor": "white",
            "linecolor": "white",
            "ticks": ""
           },
           "bgcolor": "#E5ECF6",
           "radialaxis": {
            "gridcolor": "white",
            "linecolor": "white",
            "ticks": ""
           }
          },
          "scene": {
           "xaxis": {
            "backgroundcolor": "#E5ECF6",
            "gridcolor": "white",
            "gridwidth": 2,
            "linecolor": "white",
            "showbackground": true,
            "ticks": "",
            "zerolinecolor": "white"
           },
           "yaxis": {
            "backgroundcolor": "#E5ECF6",
            "gridcolor": "white",
            "gridwidth": 2,
            "linecolor": "white",
            "showbackground": true,
            "ticks": "",
            "zerolinecolor": "white"
           },
           "zaxis": {
            "backgroundcolor": "#E5ECF6",
            "gridcolor": "white",
            "gridwidth": 2,
            "linecolor": "white",
            "showbackground": true,
            "ticks": "",
            "zerolinecolor": "white"
           }
          },
          "shapedefaults": {
           "line": {
            "color": "#2a3f5f"
           }
          },
          "ternary": {
           "aaxis": {
            "gridcolor": "white",
            "linecolor": "white",
            "ticks": ""
           },
           "baxis": {
            "gridcolor": "white",
            "linecolor": "white",
            "ticks": ""
           },
           "bgcolor": "#E5ECF6",
           "caxis": {
            "gridcolor": "white",
            "linecolor": "white",
            "ticks": ""
           }
          },
          "title": {
           "x": 0.05
          },
          "xaxis": {
           "automargin": true,
           "gridcolor": "white",
           "linecolor": "white",
           "ticks": "",
           "title": {
            "standoff": 15
           },
           "zerolinecolor": "white",
           "zerolinewidth": 2
          },
          "yaxis": {
           "automargin": true,
           "gridcolor": "white",
           "linecolor": "white",
           "ticks": "",
           "title": {
            "standoff": 15
           },
           "zerolinecolor": "white",
           "zerolinewidth": 2
          }
         }
        },
        "title": {
         "text": "Energía MWh-dia vs Desviación"
        },
        "xaxis": {
         "anchor": "y",
         "domain": [
          0,
          1
         ],
         "title": {
          "text": "Energía MWh-dia"
         }
        },
        "yaxis": {
         "anchor": "x",
         "domain": [
          0,
          1
         ],
         "title": {
          "text": "Desviación %"
         }
        }
       }
      }
     },
     "metadata": {},
     "output_type": "display_data"
    }
   ],
   "source": [
    "gen_real_and_deviation_by_day = pd.merge(\n",
    "    gen_real_by_day, \n",
    "    percentage_desv_desp_penalty, \n",
    "    on=COL_DATE, \n",
    "    how='inner'\n",
    ")\n",
    "gen_real_and_deviation_by_day[\"Total_x\"] = gen_real_and_deviation_by_day[\"Total_x\"]/1000\n",
    "\n",
    "fig = px.scatter(\n",
    "    gen_real_and_deviation_by_day, \n",
    "    x='Total_x', \n",
    "    y='Total_y', \n",
    "    hover_data=[COL_DATE]\n",
    ")\n",
    "fig.update_traces(\n",
    "    marker=dict(size=10),\n",
    "    selector=dict(mode='markers')\n",
    ")\n",
    "\n",
    "fig.update_layout(\n",
    "    title=\"Energía MWh-dia vs Desviación\",\n",
    "    xaxis_title=\"Energía MWh-dia\",\n",
    "    yaxis_title=\"Desviación %\",\n",
    "    hovermode=\"closest\"\n",
    ")\n",
    "# gen_real_and_deviation_by_day"
   ]
  },
  {
   "cell_type": "code",
   "execution_count": 187,
   "metadata": {},
   "outputs": [
    {
     "data": {
      "application/vnd.plotly.v1+json": {
       "config": {
        "plotlyServerURL": "https://plot.ly"
       },
       "data": [
        {
         "mode": "lines+markers",
         "name": "2024-03-31",
         "type": "scatter",
         "x": [
          "01",
          "02",
          "03",
          "04",
          "05",
          "06",
          "07",
          "08",
          "09",
          "10",
          "11",
          "12",
          "13",
          "14",
          "15",
          "16",
          "17",
          "18",
          "19",
          "20",
          "21",
          "22",
          "23",
          "24"
         ],
         "y": [
          null,
          null,
          null,
          null,
          null,
          null,
          3503.148695652174,
          18583.3175,
          36502.96,
          56098.63291666666,
          72096.81041666666,
          78447.07791666668,
          79864.44541666667,
          82559.81208333334,
          75350.73708333333,
          60336.17791666667,
          37626.2675,
          8638.800416666667,
          null,
          null,
          null,
          null,
          null,
          null
         ]
        },
        {
         "mode": "lines+markers",
         "name": "2024-04-30",
         "type": "scatter",
         "x": [
          "01",
          "02",
          "03",
          "04",
          "05",
          "06",
          "07",
          "08",
          "09",
          "10",
          "11",
          "12",
          "13",
          "14",
          "15",
          "16",
          "17",
          "18",
          "19",
          "20",
          "21",
          "22",
          "23",
          "24"
         ],
         "y": [
          null,
          null,
          null,
          null,
          null,
          null,
          4815.197586206897,
          20317.876666666667,
          35173.26333333333,
          51619.37333333333,
          63369.96766666667,
          73025.68500000001,
          78422.05666666667,
          77814.69833333333,
          67029.39233333334,
          47727.973333333335,
          27004.627666666664,
          5485.59,
          null,
          null,
          null,
          null,
          null,
          null
         ]
        },
        {
         "mode": "lines+markers",
         "name": "2024-05-31",
         "type": "scatter",
         "x": [
          "01",
          "02",
          "03",
          "04",
          "05",
          "06",
          "07",
          "08",
          "09",
          "10",
          "11",
          "12",
          "13",
          "14",
          "15",
          "16",
          "17",
          "18",
          "19",
          "20",
          "21",
          "22",
          "23",
          "24"
         ],
         "y": [
          null,
          null,
          null,
          null,
          null,
          152.9,
          6540.549,
          27529.005161290323,
          44358.713870967746,
          59272.81967741935,
          72183.6864516129,
          73830.24935483871,
          73569.98451612903,
          67693.24258064516,
          57100.24193548387,
          45481.04,
          25990.744193548388,
          5572.131612903227,
          null,
          null,
          null,
          null,
          null,
          null
         ]
        },
        {
         "mode": "lines+markers",
         "name": "2024-06-30",
         "type": "scatter",
         "x": [
          "01",
          "02",
          "03",
          "04",
          "05",
          "06",
          "07",
          "08",
          "09",
          "10",
          "11",
          "12",
          "13",
          "14",
          "15",
          "16",
          "17",
          "18",
          "19",
          "20",
          "21",
          "22",
          "23",
          "24"
         ],
         "y": [
          null,
          null,
          null,
          null,
          null,
          null,
          5164.381333333334,
          18915.59,
          34422.935666666664,
          50642.07133333333,
          64212.187333333335,
          71940.25833333333,
          69411.82066666667,
          65788.87266666666,
          59241.72433333333,
          42630.901666666665,
          24449.654333333332,
          7305.918965517241,
          220.8,
          null,
          null,
          null,
          null,
          null
         ]
        },
        {
         "mode": "lines+markers",
         "name": "2024-07-31",
         "type": "scatter",
         "x": [
          "01",
          "02",
          "03",
          "04",
          "05",
          "06",
          "07",
          "08",
          "09",
          "10",
          "11",
          "12",
          "13",
          "14",
          "15",
          "16",
          "17",
          "18",
          "19",
          "20",
          "21",
          "22",
          "23",
          "24"
         ],
         "y": [
          null,
          null,
          null,
          null,
          null,
          null,
          5436.425333333334,
          22923.59258064516,
          40306.82774193548,
          55518.400322580645,
          65068.12193548387,
          68038.77580645161,
          68924.52870967743,
          68913.89516129032,
          63063.35548387097,
          46959.37612903226,
          30837.47387096774,
          9410.318666666666,
          128.51666666666665,
          null,
          null,
          null,
          null,
          null
         ]
        },
        {
         "mode": "lines+markers",
         "name": "2024-08-31",
         "type": "scatter",
         "x": [
          "01",
          "02",
          "03",
          "04",
          "05",
          "06",
          "07",
          "08",
          "09",
          "10",
          "11",
          "12",
          "13",
          "14",
          "15",
          "16",
          "17",
          "18",
          "19",
          "20",
          "21",
          "22",
          "23",
          "24"
         ],
         "y": [
          null,
          null,
          null,
          null,
          null,
          null,
          5911.0996774193545,
          28734.570322580646,
          51468.82677419354,
          64313.06032258064,
          72295.67354838709,
          71695.94870967742,
          71546.93645161291,
          69620.45516129032,
          63517.73516129032,
          53401.396451612905,
          34339.437741935486,
          7191.215483870968,
          3.85,
          null,
          null,
          null,
          null,
          null
         ]
        },
        {
         "mode": "lines+markers",
         "name": "2024-09-30",
         "type": "scatter",
         "x": [
          "01",
          "02",
          "03",
          "04",
          "05",
          "06",
          "07",
          "08",
          "09",
          "10",
          "11",
          "12",
          "13",
          "14",
          "15",
          "16",
          "17",
          "18",
          "19",
          "20",
          "21",
          "22",
          "23",
          "24"
         ],
         "y": [
          null,
          null,
          null,
          null,
          null,
          598.92,
          7258.972,
          27346.654,
          49857.98833333333,
          65214.399666666664,
          72505.74333333333,
          75091.69533333332,
          74219.90366666667,
          72464.93566666666,
          65322.530333333336,
          53505.358,
          28106.504666666668,
          5026.188666666667,
          null,
          null,
          null,
          null,
          null,
          null
         ]
        },
        {
         "mode": "lines+markers",
         "name": "2024-10-31",
         "type": "scatter",
         "x": [
          "01",
          "02",
          "03",
          "04",
          "05",
          "06",
          "07",
          "08",
          "09",
          "10",
          "11",
          "12",
          "13",
          "14",
          "15",
          "16",
          "17",
          "18",
          "19",
          "20",
          "21",
          "22",
          "23",
          "24"
         ],
         "y": [
          null,
          null,
          null,
          null,
          null,
          140.5988888888889,
          7374.393,
          25498.430322580643,
          42382.426129032254,
          55305.59774193548,
          63918.50516129032,
          67662.00741935484,
          69529.54903225806,
          68093.02161290322,
          60842.84806451613,
          44259.23903225806,
          20250.656129032257,
          2006.9345161290323,
          null,
          null,
          null,
          null,
          null,
          null
         ]
        },
        {
         "mode": "lines+markers",
         "name": "2024-11-30",
         "type": "scatter",
         "x": [
          "01",
          "02",
          "03",
          "04",
          "05",
          "06",
          "07",
          "08",
          "09",
          "10",
          "11",
          "12",
          "13",
          "14",
          "15",
          "16",
          "17",
          "18",
          "19",
          "20",
          "21",
          "22",
          "23",
          "24"
         ],
         "y": [
          null,
          null,
          null,
          null,
          null,
          2.85,
          7615.85,
          42826.59,
          54898.745,
          58067.700000000004,
          58645.18,
          66227.20999999999,
          71085.48,
          78617.47,
          73179,
          48256.43,
          11841.635,
          1010.715,
          null,
          null,
          null,
          null,
          null,
          null
         ]
        },
        {
         "mode": "lines+markers",
         "name": "Promedio",
         "type": "scatter",
         "x": [
          "01",
          "02",
          "03",
          "04",
          "05",
          "06",
          "07",
          "08",
          "09",
          "10",
          "11",
          "12",
          "13",
          "14",
          "15",
          "16",
          "17",
          "18",
          "19",
          "20",
          "21",
          "22",
          "23",
          "24"
         ],
         "y": [
          null,
          null,
          null,
          null,
          null,
          168.33833333333334,
          5838.002382978723,
          24059.624875,
          42121.38836820084,
          57306.18391666667,
          68032.06816666666,
          72228.95779166666,
          72963.46683333332,
          71352.7695,
          63678.47791666666,
          48973.503,
          28197.93733333334,
          6204.898907563025,
          138.5,
          null,
          null,
          null,
          null,
          null
         ]
        }
       ],
       "layout": {
        "template": {
         "data": {
          "bar": [
           {
            "error_x": {
             "color": "#2a3f5f"
            },
            "error_y": {
             "color": "#2a3f5f"
            },
            "marker": {
             "line": {
              "color": "#E5ECF6",
              "width": 0.5
             },
             "pattern": {
              "fillmode": "overlay",
              "size": 10,
              "solidity": 0.2
             }
            },
            "type": "bar"
           }
          ],
          "barpolar": [
           {
            "marker": {
             "line": {
              "color": "#E5ECF6",
              "width": 0.5
             },
             "pattern": {
              "fillmode": "overlay",
              "size": 10,
              "solidity": 0.2
             }
            },
            "type": "barpolar"
           }
          ],
          "carpet": [
           {
            "aaxis": {
             "endlinecolor": "#2a3f5f",
             "gridcolor": "white",
             "linecolor": "white",
             "minorgridcolor": "white",
             "startlinecolor": "#2a3f5f"
            },
            "baxis": {
             "endlinecolor": "#2a3f5f",
             "gridcolor": "white",
             "linecolor": "white",
             "minorgridcolor": "white",
             "startlinecolor": "#2a3f5f"
            },
            "type": "carpet"
           }
          ],
          "choropleth": [
           {
            "colorbar": {
             "outlinewidth": 0,
             "ticks": ""
            },
            "type": "choropleth"
           }
          ],
          "contour": [
           {
            "colorbar": {
             "outlinewidth": 0,
             "ticks": ""
            },
            "colorscale": [
             [
              0,
              "#0d0887"
             ],
             [
              0.1111111111111111,
              "#46039f"
             ],
             [
              0.2222222222222222,
              "#7201a8"
             ],
             [
              0.3333333333333333,
              "#9c179e"
             ],
             [
              0.4444444444444444,
              "#bd3786"
             ],
             [
              0.5555555555555556,
              "#d8576b"
             ],
             [
              0.6666666666666666,
              "#ed7953"
             ],
             [
              0.7777777777777778,
              "#fb9f3a"
             ],
             [
              0.8888888888888888,
              "#fdca26"
             ],
             [
              1,
              "#f0f921"
             ]
            ],
            "type": "contour"
           }
          ],
          "contourcarpet": [
           {
            "colorbar": {
             "outlinewidth": 0,
             "ticks": ""
            },
            "type": "contourcarpet"
           }
          ],
          "heatmap": [
           {
            "colorbar": {
             "outlinewidth": 0,
             "ticks": ""
            },
            "colorscale": [
             [
              0,
              "#0d0887"
             ],
             [
              0.1111111111111111,
              "#46039f"
             ],
             [
              0.2222222222222222,
              "#7201a8"
             ],
             [
              0.3333333333333333,
              "#9c179e"
             ],
             [
              0.4444444444444444,
              "#bd3786"
             ],
             [
              0.5555555555555556,
              "#d8576b"
             ],
             [
              0.6666666666666666,
              "#ed7953"
             ],
             [
              0.7777777777777778,
              "#fb9f3a"
             ],
             [
              0.8888888888888888,
              "#fdca26"
             ],
             [
              1,
              "#f0f921"
             ]
            ],
            "type": "heatmap"
           }
          ],
          "heatmapgl": [
           {
            "colorbar": {
             "outlinewidth": 0,
             "ticks": ""
            },
            "colorscale": [
             [
              0,
              "#0d0887"
             ],
             [
              0.1111111111111111,
              "#46039f"
             ],
             [
              0.2222222222222222,
              "#7201a8"
             ],
             [
              0.3333333333333333,
              "#9c179e"
             ],
             [
              0.4444444444444444,
              "#bd3786"
             ],
             [
              0.5555555555555556,
              "#d8576b"
             ],
             [
              0.6666666666666666,
              "#ed7953"
             ],
             [
              0.7777777777777778,
              "#fb9f3a"
             ],
             [
              0.8888888888888888,
              "#fdca26"
             ],
             [
              1,
              "#f0f921"
             ]
            ],
            "type": "heatmapgl"
           }
          ],
          "histogram": [
           {
            "marker": {
             "pattern": {
              "fillmode": "overlay",
              "size": 10,
              "solidity": 0.2
             }
            },
            "type": "histogram"
           }
          ],
          "histogram2d": [
           {
            "colorbar": {
             "outlinewidth": 0,
             "ticks": ""
            },
            "colorscale": [
             [
              0,
              "#0d0887"
             ],
             [
              0.1111111111111111,
              "#46039f"
             ],
             [
              0.2222222222222222,
              "#7201a8"
             ],
             [
              0.3333333333333333,
              "#9c179e"
             ],
             [
              0.4444444444444444,
              "#bd3786"
             ],
             [
              0.5555555555555556,
              "#d8576b"
             ],
             [
              0.6666666666666666,
              "#ed7953"
             ],
             [
              0.7777777777777778,
              "#fb9f3a"
             ],
             [
              0.8888888888888888,
              "#fdca26"
             ],
             [
              1,
              "#f0f921"
             ]
            ],
            "type": "histogram2d"
           }
          ],
          "histogram2dcontour": [
           {
            "colorbar": {
             "outlinewidth": 0,
             "ticks": ""
            },
            "colorscale": [
             [
              0,
              "#0d0887"
             ],
             [
              0.1111111111111111,
              "#46039f"
             ],
             [
              0.2222222222222222,
              "#7201a8"
             ],
             [
              0.3333333333333333,
              "#9c179e"
             ],
             [
              0.4444444444444444,
              "#bd3786"
             ],
             [
              0.5555555555555556,
              "#d8576b"
             ],
             [
              0.6666666666666666,
              "#ed7953"
             ],
             [
              0.7777777777777778,
              "#fb9f3a"
             ],
             [
              0.8888888888888888,
              "#fdca26"
             ],
             [
              1,
              "#f0f921"
             ]
            ],
            "type": "histogram2dcontour"
           }
          ],
          "mesh3d": [
           {
            "colorbar": {
             "outlinewidth": 0,
             "ticks": ""
            },
            "type": "mesh3d"
           }
          ],
          "parcoords": [
           {
            "line": {
             "colorbar": {
              "outlinewidth": 0,
              "ticks": ""
             }
            },
            "type": "parcoords"
           }
          ],
          "pie": [
           {
            "automargin": true,
            "type": "pie"
           }
          ],
          "scatter": [
           {
            "fillpattern": {
             "fillmode": "overlay",
             "size": 10,
             "solidity": 0.2
            },
            "type": "scatter"
           }
          ],
          "scatter3d": [
           {
            "line": {
             "colorbar": {
              "outlinewidth": 0,
              "ticks": ""
             }
            },
            "marker": {
             "colorbar": {
              "outlinewidth": 0,
              "ticks": ""
             }
            },
            "type": "scatter3d"
           }
          ],
          "scattercarpet": [
           {
            "marker": {
             "colorbar": {
              "outlinewidth": 0,
              "ticks": ""
             }
            },
            "type": "scattercarpet"
           }
          ],
          "scattergeo": [
           {
            "marker": {
             "colorbar": {
              "outlinewidth": 0,
              "ticks": ""
             }
            },
            "type": "scattergeo"
           }
          ],
          "scattergl": [
           {
            "marker": {
             "colorbar": {
              "outlinewidth": 0,
              "ticks": ""
             }
            },
            "type": "scattergl"
           }
          ],
          "scattermapbox": [
           {
            "marker": {
             "colorbar": {
              "outlinewidth": 0,
              "ticks": ""
             }
            },
            "type": "scattermapbox"
           }
          ],
          "scatterpolar": [
           {
            "marker": {
             "colorbar": {
              "outlinewidth": 0,
              "ticks": ""
             }
            },
            "type": "scatterpolar"
           }
          ],
          "scatterpolargl": [
           {
            "marker": {
             "colorbar": {
              "outlinewidth": 0,
              "ticks": ""
             }
            },
            "type": "scatterpolargl"
           }
          ],
          "scatterternary": [
           {
            "marker": {
             "colorbar": {
              "outlinewidth": 0,
              "ticks": ""
             }
            },
            "type": "scatterternary"
           }
          ],
          "surface": [
           {
            "colorbar": {
             "outlinewidth": 0,
             "ticks": ""
            },
            "colorscale": [
             [
              0,
              "#0d0887"
             ],
             [
              0.1111111111111111,
              "#46039f"
             ],
             [
              0.2222222222222222,
              "#7201a8"
             ],
             [
              0.3333333333333333,
              "#9c179e"
             ],
             [
              0.4444444444444444,
              "#bd3786"
             ],
             [
              0.5555555555555556,
              "#d8576b"
             ],
             [
              0.6666666666666666,
              "#ed7953"
             ],
             [
              0.7777777777777778,
              "#fb9f3a"
             ],
             [
              0.8888888888888888,
              "#fdca26"
             ],
             [
              1,
              "#f0f921"
             ]
            ],
            "type": "surface"
           }
          ],
          "table": [
           {
            "cells": {
             "fill": {
              "color": "#EBF0F8"
             },
             "line": {
              "color": "white"
             }
            },
            "header": {
             "fill": {
              "color": "#C8D4E3"
             },
             "line": {
              "color": "white"
             }
            },
            "type": "table"
           }
          ]
         },
         "layout": {
          "annotationdefaults": {
           "arrowcolor": "#2a3f5f",
           "arrowhead": 0,
           "arrowwidth": 1
          },
          "autotypenumbers": "strict",
          "coloraxis": {
           "colorbar": {
            "outlinewidth": 0,
            "ticks": ""
           }
          },
          "colorscale": {
           "diverging": [
            [
             0,
             "#8e0152"
            ],
            [
             0.1,
             "#c51b7d"
            ],
            [
             0.2,
             "#de77ae"
            ],
            [
             0.3,
             "#f1b6da"
            ],
            [
             0.4,
             "#fde0ef"
            ],
            [
             0.5,
             "#f7f7f7"
            ],
            [
             0.6,
             "#e6f5d0"
            ],
            [
             0.7,
             "#b8e186"
            ],
            [
             0.8,
             "#7fbc41"
            ],
            [
             0.9,
             "#4d9221"
            ],
            [
             1,
             "#276419"
            ]
           ],
           "sequential": [
            [
             0,
             "#0d0887"
            ],
            [
             0.1111111111111111,
             "#46039f"
            ],
            [
             0.2222222222222222,
             "#7201a8"
            ],
            [
             0.3333333333333333,
             "#9c179e"
            ],
            [
             0.4444444444444444,
             "#bd3786"
            ],
            [
             0.5555555555555556,
             "#d8576b"
            ],
            [
             0.6666666666666666,
             "#ed7953"
            ],
            [
             0.7777777777777778,
             "#fb9f3a"
            ],
            [
             0.8888888888888888,
             "#fdca26"
            ],
            [
             1,
             "#f0f921"
            ]
           ],
           "sequentialminus": [
            [
             0,
             "#0d0887"
            ],
            [
             0.1111111111111111,
             "#46039f"
            ],
            [
             0.2222222222222222,
             "#7201a8"
            ],
            [
             0.3333333333333333,
             "#9c179e"
            ],
            [
             0.4444444444444444,
             "#bd3786"
            ],
            [
             0.5555555555555556,
             "#d8576b"
            ],
            [
             0.6666666666666666,
             "#ed7953"
            ],
            [
             0.7777777777777778,
             "#fb9f3a"
            ],
            [
             0.8888888888888888,
             "#fdca26"
            ],
            [
             1,
             "#f0f921"
            ]
           ]
          },
          "colorway": [
           "#636efa",
           "#EF553B",
           "#00cc96",
           "#ab63fa",
           "#FFA15A",
           "#19d3f3",
           "#FF6692",
           "#B6E880",
           "#FF97FF",
           "#FECB52"
          ],
          "font": {
           "color": "#2a3f5f"
          },
          "geo": {
           "bgcolor": "white",
           "lakecolor": "white",
           "landcolor": "#E5ECF6",
           "showlakes": true,
           "showland": true,
           "subunitcolor": "white"
          },
          "hoverlabel": {
           "align": "left"
          },
          "hovermode": "closest",
          "mapbox": {
           "style": "light"
          },
          "paper_bgcolor": "white",
          "plot_bgcolor": "#E5ECF6",
          "polar": {
           "angularaxis": {
            "gridcolor": "white",
            "linecolor": "white",
            "ticks": ""
           },
           "bgcolor": "#E5ECF6",
           "radialaxis": {
            "gridcolor": "white",
            "linecolor": "white",
            "ticks": ""
           }
          },
          "scene": {
           "xaxis": {
            "backgroundcolor": "#E5ECF6",
            "gridcolor": "white",
            "gridwidth": 2,
            "linecolor": "white",
            "showbackground": true,
            "ticks": "",
            "zerolinecolor": "white"
           },
           "yaxis": {
            "backgroundcolor": "#E5ECF6",
            "gridcolor": "white",
            "gridwidth": 2,
            "linecolor": "white",
            "showbackground": true,
            "ticks": "",
            "zerolinecolor": "white"
           },
           "zaxis": {
            "backgroundcolor": "#E5ECF6",
            "gridcolor": "white",
            "gridwidth": 2,
            "linecolor": "white",
            "showbackground": true,
            "ticks": "",
            "zerolinecolor": "white"
           }
          },
          "shapedefaults": {
           "line": {
            "color": "#2a3f5f"
           }
          },
          "ternary": {
           "aaxis": {
            "gridcolor": "white",
            "linecolor": "white",
            "ticks": ""
           },
           "baxis": {
            "gridcolor": "white",
            "linecolor": "white",
            "ticks": ""
           },
           "bgcolor": "#E5ECF6",
           "caxis": {
            "gridcolor": "white",
            "linecolor": "white",
            "ticks": ""
           }
          },
          "title": {
           "x": 0.05
          },
          "xaxis": {
           "automargin": true,
           "gridcolor": "white",
           "linecolor": "white",
           "ticks": "",
           "title": {
            "standoff": 15
           },
           "zerolinecolor": "white",
           "zerolinewidth": 2
          },
          "yaxis": {
           "automargin": true,
           "gridcolor": "white",
           "linecolor": "white",
           "ticks": "",
           "title": {
            "standoff": 15
           },
           "zerolinecolor": "white",
           "zerolinewidth": 2
          }
         }
        },
        "title": {
         "text": "Promedio mensual de la generación diaría"
        },
        "xaxis": {
         "title": {
          "text": "Hora"
         }
        },
        "yaxis": {
         "title": {
          "text": "Energía [kWh]"
         }
        }
       }
      }
     },
     "metadata": {},
     "output_type": "display_data"
    }
   ],
   "source": [
    "monthly_gen_real_mean = gen_real.resample('ME', on=COL_DATE).mean().reset_index()\n",
    "\n",
    "# Crear la figura\n",
    "fig = go.Figure()\n",
    "for _, row in monthly_gen_real_mean.iterrows():\n",
    "    date = row[COL_DATE].strftime('%Y-%m-%d')\n",
    "    fig.add_trace(\n",
    "        go.Scatter(\n",
    "            x=[f\"{i:02}\" for i in range(1,25)], \n",
    "            y=row[COL_HOURS], \n",
    "            mode='lines+markers', \n",
    "            name=date\n",
    "        )\n",
    "    )\n",
    "\n",
    "# add trace with the mean of the all values of gen_real\n",
    "fig.add_trace(\n",
    "    go.Scatter(\n",
    "        x=[f\"{i:02}\" for i in range(1,25)], \n",
    "        y=gen_real.mean()[COL_HOURS], \n",
    "        mode='lines+markers', \n",
    "        name='Promedio'\n",
    "    )\n",
    ")\n",
    "\n",
    "fig.update_layout(\n",
    "    title='Promedio mensual de la generación diaría', \n",
    "    xaxis_title='Hora', \n",
    "    yaxis_title='Energía [kWh]'\n",
    ")"
   ]
  },
  {
   "cell_type": "code",
   "execution_count": 48,
   "metadata": {},
   "outputs": [
    {
     "data": {
      "text/plain": [
       "{'Values_Hour01': 0.0,\n",
       " 'Values_Hour02': 0.0,\n",
       " 'Values_Hour03': 0.0,\n",
       " 'Values_Hour04': 0.0,\n",
       " 'Values_Hour05': 0.0,\n",
       " 'Values_Hour06': 1.5013577576737743e-05,\n",
       " 'Values_Hour07': 0.010196521832251148,\n",
       " 'Values_Hour08': 0.042916077090148406,\n",
       " 'Values_Hour09': 0.07482048202801195,\n",
       " 'Values_Hour10': 0.10221924155041047,\n",
       " 'Values_Hour11': 0.1213514132997428,\n",
       " 'Values_Hour12': 0.12883756653866954,\n",
       " 'Values_Hour13': 0.13014773853093248,\n",
       " 'Values_Hour14': 0.12727467582586693,\n",
       " 'Values_Hour15': 0.1135857471366739,\n",
       " 'Values_Hour16': 0.08735591851668942,\n",
       " 'Values_Hour17': 0.05029774398677142,\n",
       " 'Values_Hour18': 0.010975683892000255,\n",
       " 'Values_Hour19': 6.1761942547592955e-06,\n",
       " 'Values_Hour20': 0.0,\n",
       " 'Values_Hour21': 0.0,\n",
       " 'Values_Hour22': 0.0,\n",
       " 'Values_Hour23': 0.0,\n",
       " 'Values_Hour24': 0.0}"
      ]
     },
     "execution_count": 48,
     "metadata": {},
     "output_type": "execute_result"
    }
   ],
   "source": [
    "gen_real_mean = gen_real.fillna(0).mean()\n",
    "gen_real_mean_dict = gen_real_mean.to_dict()\n",
    "gen_real_mean_dict.pop(COL_DATE)\n",
    "\n",
    "gen_real_mean_dict_pu = {k: v/sum(gen_real_mean_dict.values()) for k, v in gen_real_mean_dict.items()}\n",
    "gen_real_mean_dict_pu"
   ]
  },
  {
   "cell_type": "code",
   "execution_count": 67,
   "metadata": {},
   "outputs": [],
   "source": [
    "# ignore SettingWithCopyWarning\n",
    "pd.options.mode.chained_assignment = None\n",
    "\n",
    "monthly_spot_price \n",
    "# monthly_gene_projection \n",
    "COL_SPOT_PRICE = [\"Promedio\", \"Alta\", \"Baja\"]\n",
    "\n",
    "hour_spot_price_normalized = hour_spot_price.copy()\n",
    "# merge with monthly_spot_price\n",
    "hour_spot_price_normalized = pd.merge(\n",
    "    hour_spot_price_normalized, monthly_spot_price, on=COL_DATE, how=\"inner\"\n",
    ")\n",
    "for col in COL_HOURS:\n",
    "    hour_spot_price_normalized[col] = hour_spot_price_normalized[col] / hour_spot_price_normalized[COL_SPOT_PRICE[0]]\n",
    "\n",
    "hour_spot_price_promedio = hour_spot_price_normalized[[COL_DATE]+COL_HOURS]\n",
    "for col in COL_HOURS:\n",
    "    hour_spot_price_promedio[col] = hour_spot_price_promedio[col] * hour_spot_price_normalized[COL_SPOT_PRICE[0]]\n",
    "\n",
    "hour_spot_price_alta = hour_spot_price_normalized[[COL_DATE]+COL_HOURS]\n",
    "for col in COL_HOURS:\n",
    "    hour_spot_price_alta[col] = hour_spot_price_alta[col] * hour_spot_price_normalized[COL_SPOT_PRICE[1]]\n",
    "\n",
    "hour_spot_price_baja = hour_spot_price_normalized[[COL_DATE]+COL_HOURS]\n",
    "for col in COL_HOURS:\n",
    "    hour_spot_price_baja[col] = hour_spot_price_baja[col] * hour_spot_price_normalized[COL_SPOT_PRICE[2]]\n"
   ]
  }
 ],
 "metadata": {
  "kernelspec": {
   "display_name": "env",
   "language": "python",
   "name": "python3"
  },
  "language_info": {
   "codemirror_mode": {
    "name": "ipython",
    "version": 3
   },
   "file_extension": ".py",
   "mimetype": "text/x-python",
   "name": "python",
   "nbconvert_exporter": "python",
   "pygments_lexer": "ipython3",
   "version": "3.10.0"
  }
 },
 "nbformat": 4,
 "nbformat_minor": 2
}
