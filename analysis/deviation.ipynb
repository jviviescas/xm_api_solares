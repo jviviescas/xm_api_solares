{
 "cells": [
  {
   "cell_type": "code",
   "execution_count": 1,
   "metadata": {},
   "outputs": [],
   "source": [
    "import pandas as pd"
   ]
  },
  {
   "cell_type": "code",
   "execution_count": 8,
   "metadata": {},
   "outputs": [],
   "source": [
    "# read excel file\n",
    "path = \"./data/data_by_concept.xlsx\"\n",
    "# read with a context manager\n",
    "excel_data = pd.ExcelFile(path)"
   ]
  },
  {
   "cell_type": "code",
   "execution_count": 9,
   "metadata": {},
   "outputs": [],
   "source": [
    "gene_sheet_name = \"Gene\"\n",
    "gen_prog_sheet_name = \"GeneProgDesp\"\n",
    "gen_reprog_sheet_name = \"GeneProgRedesp\"\n",
    "gen_offer_price = \"PrecOferDesp\"\n",
    "offer_national_price = \"PrecBolsNaci\""
   ]
  },
  {
   "cell_type": "code",
   "execution_count": 32,
   "metadata": {},
   "outputs": [],
   "source": [
    "COL_DATE = \"Date\"\n",
    "COL_HOURS = [f\"Values_Hour{i:02}\" for i in range(1, 25)]\n",
    "\n",
    "def read_each_sheet(sheet_name, excel_data, plant_name: str=None):\n",
    "    df_data = excel_data.parse(sheet_name, index_col=0)\n",
    "    if plant_name:\n",
    "        df_data = df_data[df_data[\"Values_code\"] == plant_name]\n",
    "        df_data.drop(columns=[\"Values_code\"], inplace=True)\n",
    "\n",
    "    df_data.drop(columns=[\"Id\"], inplace=True)\n",
    "    df_data[COL_DATE] = pd.to_datetime(df_data[COL_DATE])\n",
    "\n",
    "    return df_data"
   ]
  },
  {
   "cell_type": "code",
   "execution_count": 25,
   "metadata": {},
   "outputs": [],
   "source": [
    "# open the sheet of generation in a dataframe\n",
    "df_gene = read_each_sheet(gene_sheet_name, excel_data, \"3IRX\")\n",
    "df_gen_prog = read_each_sheet(gen_prog_sheet_name, excel_data, \"3IRX\")\n",
    "df_gen_reprog = read_each_sheet(gen_reprog_sheet_name, excel_data, \"3IRX\")\n",
    "df_gen_offer_price = read_each_sheet(gen_offer_price, excel_data, \"3IRX\")\n",
    "df_offer_national_price = read_each_sheet(offer_national_price, excel_data)"
   ]
  },
  {
   "cell_type": "code",
   "execution_count": null,
   "metadata": {},
   "outputs": [
    {
     "name": "stdout",
     "output_type": "stream",
     "text": [
      "['Values_Hour01', 'Values_Hour02', 'Values_Hour03', 'Values_Hour04', 'Values_Hour05', 'Values_Hour06', 'Values_Hour07', 'Values_Hour08', 'Values_Hour09', 'Values_Hour10', 'Values_Hour11', 'Values_Hour12', 'Values_Hour13', 'Values_Hour14', 'Values_Hour15', 'Values_Hour16', 'Values_Hour17', 'Values_Hour18', 'Values_Hour19', 'Values_Hour20', 'Values_Hour21', 'Values_Hour22', 'Values_Hour23', 'Values_Hour24']\n"
     ]
    }
   ],
   "source": []
  }
 ],
 "metadata": {
  "kernelspec": {
   "display_name": "env",
   "language": "python",
   "name": "python3"
  },
  "language_info": {
   "codemirror_mode": {
    "name": "ipython",
    "version": 3
   },
   "file_extension": ".py",
   "mimetype": "text/x-python",
   "name": "python",
   "nbconvert_exporter": "python",
   "pygments_lexer": "ipython3",
   "version": "3.10.0"
  }
 },
 "nbformat": 4,
 "nbformat_minor": 2
}
